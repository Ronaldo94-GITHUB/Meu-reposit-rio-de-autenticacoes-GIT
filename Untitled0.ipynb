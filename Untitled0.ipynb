{
  "cells": [
    {
      "cell_type": "markdown",
      "metadata": {
        "id": "view-in-github",
        "colab_type": "text"
      },
      "source": [
        "<a href=\"https://colab.research.google.com/github/Ronaldo94-GITHUB/Meu-reposit-rio-de-autenticacoes-GIT/blob/main/Untitled0.ipynb\" target=\"_parent\"><img src=\"https://colab.research.google.com/assets/colab-badge.svg\" alt=\"Open In Colab\"/></a>"
      ]
    },
    {
      "cell_type": "markdown",
      "metadata": {
        "id": "hWzGHQsqME15"
      },
      "source": []
    },
    {
      "cell_type": "markdown",
      "metadata": {
        "id": "DVZt8-K5MI8B"
      },
      "source": [
        "Linguagem Python - Trabalho Engenharia Software"
      ]
    },
    {
      "cell_type": "code",
      "execution_count": null,
      "metadata": {
        "colab": {
          "base_uri": "https://localhost:8080/"
        },
        "id": "IxYwxotMMT55",
        "outputId": "8418d39f-102b-4997-afd1-234aa809789f"
      },
      "outputs": [
        {
          "name": "stdout",
          "output_type": "stream",
          "text": [
            "Hello World\n"
          ]
        }
      ],
      "source": [
        " #hello world é o começo de tudo!!\n",
        "print(\"Hello World\")"
      ]
    },
    {
      "cell_type": "markdown",
      "metadata": {
        "id": "K-mPKvZRNLQ4"
      },
      "source": [
        "#olá mundo!!!"
      ]
    },
    {
      "cell_type": "markdown",
      "metadata": {
        "id": "Ymu6l40YOQkh"
      },
      "source": [
        "#Variáveis e tipos de dados\n",
        "variáveis são fundamentais na programação, pois permitem armazenar e manipular dados."
      ]
    },
    {
      "cell_type": "code",
      "execution_count": null,
      "metadata": {
        "id": "zZGm_G-WOosN"
      },
      "outputs": [],
      "source": [
        "\n",
        "X = 10\n",
        "nome = 'aluno'\n",
        "nota = 8.5\n",
        "fez_inscrição = True"
      ]
    },
    {
      "cell_type": "code",
      "execution_count": null,
      "metadata": {
        "colab": {
          "base_uri": "https://localhost:8080/"
        },
        "id": "LHTSmo_WQkpZ",
        "outputId": "9b6befcf-24bc-45fc-d1f8-8f484c23e88d"
      },
      "outputs": [
        {
          "name": "stdout",
          "output_type": "stream",
          "text": [
            "<class 'int'>\n",
            "<class 'str'>\n",
            "<class 'float'>\n",
            "<class 'bool'>\n"
          ]
        }
      ],
      "source": [
        "print(type(X))\n",
        "print(type(nome))\n",
        "print(type(nota))\n",
        "print(type(fez_inscrição))\n"
      ]
    },
    {
      "cell_type": "markdown",
      "metadata": {
        "id": "aNiVQyeCSNyu"
      },
      "source": [
        "#Melhorando o hello world"
      ]
    },
    {
      "cell_type": "markdown",
      "metadata": {
        "id": "MtZzFil4P_aX"
      },
      "source": []
    },
    {
      "cell_type": "code",
      "execution_count": null,
      "metadata": {
        "colab": {
          "base_uri": "https://localhost:8080/"
        },
        "id": "yXduUpmtWqb9",
        "outputId": "86ae1e85-6d80-4b2c-e7d6-d44ecb605ca3"
      },
      "outputs": [
        {
          "name": "stdout",
          "output_type": "stream",
          "text": [
            "Digite um nome:Ronaldo\n"
          ]
        }
      ],
      "source": [
        "nome = input(\"Digite um nome:\")\n"
      ]
    },
    {
      "cell_type": "code",
      "execution_count": null,
      "metadata": {
        "colab": {
          "base_uri": "https://localhost:8080/"
        },
        "id": "-9aIoDDDUcOs",
        "outputId": "610ce8f9-98f8-4dfa-b0c3-38ea9acbf631"
      },
      "outputs": [
        {
          "name": "stdout",
          "output_type": "stream",
          "text": [
            "Ronaldo\n"
          ]
        }
      ],
      "source": [
        "print(nome)"
      ]
    },
    {
      "cell_type": "code",
      "execution_count": null,
      "metadata": {
        "colab": {
          "base_uri": "https://localhost:8080/"
        },
        "id": "q_Wnzl9zWqf_",
        "outputId": "cd695aa3-99ee-43b7-91d7-4bc8c259409b"
      },
      "outputs": [
        {
          "name": "stdout",
          "output_type": "stream",
          "text": [
            "Olá Ronaldo, bem vindo a disciplina de programação. Parabéns pelo seu primeiro hello world\n"
          ]
        }
      ],
      "source": [
        "#formato de Caracteres\n",
        "print(\"Olá %s, bem vindo a disciplina de programação. Parabéns pelo seu primeiro hello world\" % (nome))\n"
      ]
    },
    {
      "cell_type": "code",
      "execution_count": null,
      "metadata": {
        "colab": {
          "base_uri": "https://localhost:8080/"
        },
        "id": "-0Lvm9qdWaez",
        "outputId": "243148da-0dd4-4e88-8343-256b51e32176"
      },
      "outputs": [
        {
          "name": "stdout",
          "output_type": "stream",
          "text": [
            "Olá Ronaldo, bem vindo a disciplina de programação. Parabéns pelo seu primeiro hello world\n"
          ]
        }
      ],
      "source": [
        "#F-string\n",
        "print(f\"Olá {nome}, bem vindo a disciplina de programação. Parabéns pelo seu primeiro hello world\")\n"
      ]
    },
    {
      "cell_type": "code",
      "execution_count": null,
      "metadata": {
        "colab": {
          "base_uri": "https://localhost:8080/"
        },
        "id": "GkK2TetJX_U7",
        "outputId": "49cef58b-d42d-4063-de4f-5e0f276a5a2d"
      },
      "outputs": [
        {
          "name": "stdout",
          "output_type": "stream",
          "text": [
            "Digite a primeira nota:5\n",
            "Digite a segunda nota:6\n",
            "Digite a terceira nota:7\n",
            "Digite a quarta nota:9\n"
          ]
        }
      ],
      "source": [
        "nota_1 = int(input(\"Digite a primeira nota:\"))\n",
        "nota_2 = int(input(\"Digite a segunda nota:\"))\n",
        "nota_3 = int(input(\"Digite a terceira nota:\"))\n",
        "nota_4 = int(input(\"Digite a quarta nota:\"))\n",
        "#observe que utilizamos a função int(), pois sem ela pois sem ela o python entenderia que as notas seriam string"
      ]
    },
    {
      "cell_type": "code",
      "execution_count": null,
      "metadata": {
        "id": "SCEmV0atZsjx"
      },
      "outputs": [],
      "source": [
        "#Condição para aprovação do aluno.\n",
        "media = (nota_1 + nota_2 + nota_3 + nota_4 )/ 4\n",
        "\n",
        "if media >=6:\n",
        "    situação = \"Aprovado\"\n",
        "else:\n",
        "    situação = \"Reprovado\""
      ]
    },
    {
      "cell_type": "code",
      "execution_count": null,
      "metadata": {
        "colab": {
          "base_uri": "https://localhost:8080/"
        },
        "id": "n1GBGMzzatCG",
        "outputId": "1a5328ad-364b-42f7-d610-7dc47d9f9430"
      },
      "outputs": [
        {
          "name": "stdout",
          "output_type": "stream",
          "text": [
            "A media das notas é: 6.75\n",
            "situação do aluno: Aprovado\n"
          ]
        }
      ],
      "source": [
        "#dadas as notas motramos a média final e a situação do aluno.\n",
        "print(f\"A media das notas é: {media}\")\n",
        "print(f\"situação do aluno: {situação}\")"
      ]
    },
    {
      "cell_type": "code",
      "source": [
        "# Sistema de Gestão de Notas de Alunos\n",
        "\n",
        "# Função para cadastrar notas\n",
        "def cadastrar_notas():\n",
        "    notas = []  # Lista para armazenar as notas\n",
        "    while True:\n",
        "        try:\n",
        "            nota = float(input(\"Digite a nota do aluno (ou -1 para finalizar): \"))\n",
        "            if nota == -1:\n",
        "                break  # Sai do loop quando o usuário digita -1\n",
        "            elif 0 <= nota <= 10:\n",
        "                notas.append(nota)  # Adiciona a nota na lista\n",
        "            else:\n",
        "                print(\"Nota inválida! Digite um valor entre 0 e 10.\")\n",
        "        except ValueError:\n",
        "            print(\"Entrada inválida! Digite um número.\")\n",
        "    return notas\n",
        "\n",
        "# Função para calcular a média das notas\n",
        "def calcular_media(notas):\n",
        "    if len(notas) == 0:\n",
        "        return 0\n",
        "    return sum(notas) / len(notas)\n",
        "\n",
        "# Função para determinar a situação do aluno\n",
        "def determinar_situacao(media):\n",
        "    if media >= 7:\n",
        "        return \"Aprovado\"\n",
        "    else:\n",
        "        return \"Reprovado\"\n",
        "\n",
        "# Função para exibir o relatório final\n",
        "def exibir_relatorio(notas, media, situacao):\n",
        "    print(\"\\n===== RELATÓRIO FINAL =====\")\n",
        "    print(\"Notas inseridas:\", notas)\n",
        "    print(f\"Média: {media:.2f}\")\n",
        "    print(\"Situação:\", situacao)\n",
        "\n",
        "# Programa principal\n",
        "def main():\n",
        "    print(\"=== Sistema de Gestão de Notas de Alunos ===\")\n",
        "    notas = cadastrar_notas()  # Chama a função para cadastrar notas\n",
        "    media = calcular_media(notas)  # Calcula a média\n",
        "    situacao = determinar_situacao(media)  # Determina a situação\n",
        "    exibir_relatorio(notas, media, situacao)  # Exibe o relatório final\n",
        "\n",
        "# Executa o programa\n",
        "main()\n"
      ],
      "metadata": {
        "colab": {
          "base_uri": "https://localhost:8080/"
        },
        "id": "mAmO_HSNVyQv",
        "outputId": "80bdfa24-a98e-46ca-cb48-330eab03abd3"
      },
      "execution_count": 1,
      "outputs": [
        {
          "output_type": "stream",
          "name": "stdout",
          "text": [
            "=== Sistema de Gestão de Notas de Alunos ===\n",
            "Digite a nota do aluno (ou -1 para finalizar): 7\n",
            "Digite a nota do aluno (ou -1 para finalizar): 9\n",
            "Digite a nota do aluno (ou -1 para finalizar): 8\n",
            "Digite a nota do aluno (ou -1 para finalizar): -1\n",
            "\n",
            "===== RELATÓRIO FINAL =====\n",
            "Notas inseridas: [7.0, 9.0, 8.0]\n",
            "Média: 8.00\n",
            "Situação: Aprovado\n"
          ]
        }
      ]
    },
    {
      "cell_type": "markdown",
      "metadata": {
        "id": "kIhtu9Dvb_1H"
      },
      "source": [
        "#Estrutura condicionais de python - Unidade 01 aula 02"
      ]
    },
    {
      "cell_type": "markdown",
      "metadata": {
        "id": "TLG1sS9ddsEz"
      },
      "source": [
        "#Vamos aprender topicos= Operadores relacionais, estrutura lógica, Estrutura condicionais if,else,elif.\n",
        "Operadores relacionais=nos permitem comparar valores, repondendo a perguntas como \"é maior o que?\", \"é igual a?\" ou \"é diferente de?\"."
      ]
    },
    {
      "cell_type": "markdown",
      "metadata": {
        "id": "W0zvLs3XdvFe"
      },
      "source": [
        "operação e significado\n",
        "< estritamente menor que\n",
        "<= menor ou igual que\n",
        "> estritamente maior que\n",
        ">= maior ou igual que\n",
        "== igual\n",
        "!= diferente\n",
        "is identidade do objetivo\n",
        "is not negação identidade do objetivo.\n"
      ]
    },
    {
      "cell_type": "code",
      "execution_count": null,
      "metadata": {
        "colab": {
          "base_uri": "https://localhost:8080/"
        },
        "id": "yIRvVYr8ecil",
        "outputId": "d02acf7f-6133-45ca-9c6f-2ee53082ecae"
      },
      "outputs": [
        {
          "data": {
            "text/plain": [
              "True"
            ]
          },
          "execution_count": 25,
          "metadata": {},
          "output_type": "execute_result"
        }
      ],
      "source": [
        "3>2"
      ]
    },
    {
      "cell_type": "code",
      "execution_count": null,
      "metadata": {
        "colab": {
          "base_uri": "https://localhost:8080/"
        },
        "id": "FfZ5qddZfyQ2",
        "outputId": "81980b6b-9bc4-4f1c-d949-e760f03aebf5"
      },
      "outputs": [
        {
          "data": {
            "text/plain": [
              "True"
            ]
          },
          "execution_count": 26,
          "metadata": {},
          "output_type": "execute_result"
        }
      ],
      "source": [
        "2 == 2"
      ]
    },
    {
      "cell_type": "code",
      "execution_count": null,
      "metadata": {
        "colab": {
          "base_uri": "https://localhost:8080/"
        },
        "id": "Hs8lq4OHf3y_",
        "outputId": "cd2867d8-9ee1-4492-e451-9c0a5c7efa9a"
      },
      "outputs": [
        {
          "data": {
            "text/plain": [
              "True"
            ]
          },
          "execution_count": 27,
          "metadata": {},
          "output_type": "execute_result"
        }
      ],
      "source": [
        "a = 'aluna'\n",
        "b = 'aluna'\n",
        "\n",
        "a is b\n"
      ]
    },
    {
      "cell_type": "markdown",
      "metadata": {
        "id": "18eMbk-VgSFd"
      },
      "source": [
        "Estrutura Lógica = São como peças quebra-cabeça que unem condições para criar critérios complexos. São elas que permitem tomar decisões mais elaboradas, combinando várias comparações.\n",
        "\n",
        "Operador E = 'and'\n",
        "Operador OU = 'OR'\n",
        "OPERADOR NÃO = 'NOT'\n",
        "\n",
        "Chamam de OPERADORES BOLEANOS\n",
        "\n",
        "São essenciais para criação de estruturas de decisão mais sofisticadas, permitindo que os programas lidem com uma variedade de situações e critérios lógicos. Eles são usados para controlar o fluxo de execução com base em condições complexas,e, assim, tornam possível em criar programas que tomam decisões de acordo com critérios decisivos."
      ]
    },
    {
      "cell_type": "code",
      "execution_count": null,
      "metadata": {
        "id": "mLq20sTXiTBQ"
      },
      "outputs": [],
      "source": [
        "#Estrutura condicionais if, else, elif\n",
        "#se isso for verdade aja assim; caso contrário, faça aquilo.\n",
        "Exemplo: semaforo verde (if), semaforo vermelho (else), varias condições (elif).\n",
        "obs:elif é uma abreviação de \"else if\". Ele é frequentemente usado após um bloco de if e antes de um bloco de else.\n",
        "\n"
      ]
    },
    {
      "cell_type": "code",
      "execution_count": null,
      "metadata": {
        "colab": {
          "base_uri": "https://localhost:8080/"
        },
        "id": "mSkLMtMM9bll",
        "outputId": "6fc7b653-7c7e-43c2-8540-a05da9a001d5"
      },
      "outputs": [
        {
          "name": "stdout",
          "output_type": "stream",
          "text": [
            "adulto\n"
          ]
        }
      ],
      "source": [
        "idade = 25\n",
        "\n",
        "if idade < 18:\n",
        "    print(\"Menor de idade.\")\n",
        "elif idade >= 18 and idade < 65:\n",
        "    print(\"adulto\")\n",
        "else:\n",
        "    print(\"idoso\")"
      ]
    },
    {
      "cell_type": "markdown",
      "metadata": {
        "id": "lzWg_DAt_U5W"
      },
      "source": [
        "Exercícios:Suponhamos que temos 3 filmes por semana, cada filme tem uma faixa etária, o primeiro é para menores de 12 anos, o segundo é para maiores ou iguais a 12 anos e menores que 18, por fim, o terceiro filme é para maiores ou iguais a 18 anos. Outro é a respeito da disponibilidade de ingresso.\n",
        "Tranformar em algoritmo."
      ]
    },
    {
      "cell_type": "code",
      "execution_count": null,
      "metadata": {
        "colab": {
          "base_uri": "https://localhost:8080/"
        },
        "id": "5KpoLvtOAN0M",
        "outputId": "df0ac6e1-0fab-4b53-e54a-5095ddb6c9bc"
      },
      "outputs": [
        {
          "name": "stdout",
          "output_type": "stream",
          "text": [
            "Por favor, digite sua idade25\n",
            "Recomendamos o filme adulto Filme 3.\n",
            "Desculpa todos os ingressos foram esgotados hoje.\n"
          ]
        }
      ],
      "source": [
        "#Bem-vindo à máquina de venda automático ingressos de cinema!!!\n",
        "\n",
        "#Solicita a entrada do cliente\n",
        "idade = int(input(\"Por favor, digite sua idade\"))\n",
        "\n",
        "#Verifica a idade para sugestão de filmes\n",
        "if idade < 12:\n",
        "  print(\"Recomendamos o filme infantil Filme 1.\")\n",
        "elif 12 <= idade < 18:\n",
        "  print(\"Recomendamos o filme adolescente Filme 2.\")\n",
        "else:\n",
        "  print(\"Recomendamos o filme adulto Filme 3.\")\n",
        "\n",
        "#Verifica a disponibilidade de ingressos\n",
        "quantidade_ingressos = 0 # Suponhamos que haja 10 ingressos disponíveis\n",
        "if quantidade_ingressos > 0:\n",
        "  print(\"ingressos estão disponíveis. Divirta-se nos cinemas!\")\n",
        "else:\n",
        "  print(\"Desculpa todos os ingressos foram esgotados hoje.\")"
      ]
    },
    {
      "cell_type": "markdown",
      "metadata": {
        "id": "ujCleVirC7Oj"
      },
      "source": [
        "Unidade 01 - Aula 03 - Estruturas de repetição em Python\n",
        "#For\n",
        "#While\n",
        "#Controle de Repetição: Range, break e continue"
      ]
    },
    {
      "cell_type": "code",
      "execution_count": null,
      "metadata": {
        "colab": {
          "base_uri": "https://localhost:8080/"
        },
        "id": "FKfd9Qq1DXDD",
        "outputId": "a07987aa-a90e-4cc9-8706-823a77eaa9eb"
      },
      "outputs": [
        {
          "data": {
            "text/plain": [
              "[1, 2, 3, 4, 5]"
            ]
          },
          "execution_count": 5,
          "metadata": {},
          "output_type": "execute_result"
        }
      ],
      "source": [
        "#For\n",
        "numeros = [1,2,3,4,5]\n",
        "numeros"
      ]
    },
    {
      "cell_type": "code",
      "execution_count": null,
      "metadata": {
        "colab": {
          "base_uri": "https://localhost:8080/"
        },
        "id": "GkUWeF5qEgOX",
        "outputId": "381d467a-3519-4cf0-eb3b-a57eda0c3fbe"
      },
      "outputs": [
        {
          "data": {
            "text/plain": [
              "[1, 2, 3, 4, 5]"
            ]
          },
          "execution_count": 6,
          "metadata": {},
          "output_type": "execute_result"
        }
      ],
      "source": [
        "numeros"
      ]
    },
    {
      "cell_type": "code",
      "execution_count": null,
      "metadata": {
        "colab": {
          "base_uri": "https://localhost:8080/"
        },
        "id": "hnbfOaJ2Elvg",
        "outputId": "0320be46-9592-4a5e-d905-beeec123544a"
      },
      "outputs": [
        {
          "name": "stdout",
          "output_type": "stream",
          "text": [
            "1\n",
            "2\n",
            "3\n",
            "4\n",
            "5\n"
          ]
        }
      ],
      "source": [
        "for num in numeros:\n",
        "  print(num)"
      ]
    },
    {
      "cell_type": "code",
      "execution_count": null,
      "metadata": {
        "colab": {
          "base_uri": "https://localhost:8080/"
        },
        "id": "NmMBYXwuE4xn",
        "outputId": "cfe1d098-cec2-40d8-ccb3-02dee7470b51"
      },
      "outputs": [
        {
          "name": "stdout",
          "output_type": "stream",
          "text": [
            "Digite um número, ou 0 para sair):757643763\n",
            "O número é impar\n",
            "Digite um número (ou 0 para sair):72238736\n",
            "O número é par\n",
            "Digite um número (ou 0 para sair):26838636\n",
            "O número é par\n",
            "Digite um número (ou 0 para sair):0\n"
          ]
        }
      ],
      "source": [
        "#While - não sabe aonde vai parar na repetição.\n",
        "numero = int(input(\"Digite um número, ou 0 para sair):\"))\n",
        "\n",
        "while numero != 0:\n",
        "  if(numero % 2 == 0):\n",
        "    print(\"O número é par\")\n",
        "  else:\n",
        "    print(\"O número é impar\")\n",
        "  numero = int(input(\"Digite um número (ou 0 para sair):\"))"
      ]
    },
    {
      "cell_type": "code",
      "execution_count": null,
      "metadata": {
        "colab": {
          "base_uri": "https://localhost:8080/"
        },
        "id": "8RntiXs1G0Cc",
        "outputId": "9d6d26ec-f439-456a-e7f6-1af770e0554b"
      },
      "outputs": [
        {
          "name": "stdout",
          "output_type": "stream",
          "text": [
            "0\n",
            "1\n",
            "2\n",
            "3\n",
            "4\n"
          ]
        }
      ],
      "source": [
        "#Range - Serve para criar sequencias numéricos que podem ser usadas na estruturas de repetição como o comando for. Flexivel ao especificar os limites e os incrementos da sequencia.\n",
        "for x in range(5): #lembre-se que o range começa em 0\n",
        "  print(x)\n"
      ]
    },
    {
      "cell_type": "code",
      "execution_count": null,
      "metadata": {
        "colab": {
          "base_uri": "https://localhost:8080/"
        },
        "id": "WRW0xWwZIYkV",
        "outputId": "b2ded530-cfcf-4aef-fbbe-c5959ae1a2fd"
      },
      "outputs": [
        {
          "name": "stdout",
          "output_type": "stream",
          "text": [
            "2\n",
            "3\n",
            "4\n",
            "5\n",
            "6\n"
          ]
        }
      ],
      "source": [
        "for y in range(2,7): #Observa que aqui o 7 não entra no looping\n",
        "  print(y)"
      ]
    },
    {
      "cell_type": "code",
      "execution_count": null,
      "metadata": {
        "colab": {
          "base_uri": "https://localhost:8080/"
        },
        "id": "ksJ_F4qIIxgY",
        "outputId": "c9f84109-f731-4f8f-d3eb-8337529de499"
      },
      "outputs": [
        {
          "name": "stdout",
          "output_type": "stream",
          "text": [
            "1\n",
            "3\n",
            "5\n",
            "7\n",
            "9\n"
          ]
        }
      ],
      "source": [
        "for z in range(1,11,2): #Observe que aqui o 11 não entra no looping\n",
        "  print(z)"
      ]
    },
    {
      "cell_type": "code",
      "execution_count": null,
      "metadata": {
        "colab": {
          "base_uri": "https://localhost:8080/"
        },
        "id": "u8u3WiqPJZBz",
        "outputId": "3eebfca4-604b-4964-e3f4-ae0ba3ab423f"
      },
      "outputs": [
        {
          "name": "stdout",
          "output_type": "stream",
          "text": [
            "O primeiro número par encontrado é: 10\n"
          ]
        }
      ],
      "source": [
        "#Break e continue - Pare ou continue\n",
        "\n",
        "for numero in range(10,11):\n",
        "  if numero % 2 == 0:\n",
        "    print(\"O primeiro número par encontrado é:\", numero )\n",
        "    break"
      ]
    },
    {
      "cell_type": "code",
      "execution_count": null,
      "metadata": {
        "colab": {
          "base_uri": "https://localhost:8080/"
        },
        "id": "luScwWfoL2xw",
        "outputId": "b03b9cb5-ed51-4d6a-c603-b52ba13b1394"
      },
      "outputs": [
        {
          "name": "stdout",
          "output_type": "stream",
          "text": [
            "1\n",
            "2\n",
            "3\n",
            "4\n",
            "6\n",
            "7\n",
            "8\n",
            "9\n",
            "10\n"
          ]
        }
      ],
      "source": [
        "for numero in range(1, 11):\n",
        "  if numero == 5:\n",
        "    continue\n",
        "  print(numero)"
      ]
    },
    {
      "cell_type": "markdown",
      "metadata": {
        "id": "Iw8DNMP0O5ZA"
      },
      "source": [
        "Exercicio: Precisamos criar um programa que seja capaz de percorrer todos os filmes(Filme1,Filme2,Filme3,Filme4,Filme5) e para cada filme temos a nota de 1 a 5. Note que é importante sempre deixar uma forma da pessoa encerrar o programa caso queira."
      ]
    },
    {
      "cell_type": "code",
      "execution_count": null,
      "metadata": {
        "colab": {
          "base_uri": "https://localhost:8080/"
        },
        "id": "L-LfM4uBPnxs",
        "outputId": "dcf4d47c-b0b1-454e-beed-793970a86c2a"
      },
      "outputs": [
        {
          "data": {
            "text/plain": [
              "['Filme1', 'Filme2', 'Filme3', 'Filme4', 'Filme5']"
            ]
          },
          "execution_count": 48,
          "metadata": {},
          "output_type": "execute_result"
        }
      ],
      "source": [
        "#Lista de filmes para cada classificação\n",
        "\n",
        "filmes = [\"Filme1\", \"Filme2\", \"Filme3\", \"Filme4\", \"Filme5\"]\n",
        "filmes"
      ]
    },
    {
      "cell_type": "code",
      "execution_count": null,
      "metadata": {
        "colab": {
          "base_uri": "https://localhost:8080/"
        },
        "id": "dPJ6jNWpTlxx",
        "outputId": "0bb4f4ad-70b0-40ac-9fc5-a460977a202c"
      },
      "outputs": [
        {
          "name": "stdout",
          "output_type": "stream",
          "text": [
            "Bem vindo à classificação de filmes!\n",
            "Você tem 5 filmes para classificar\n",
            "Digite'0' a qualquer momento para parar\n",
            "\n",
            "Como você classificaria '(filme)'de 1 a 5? (ou 0 para parar):4\n",
            "Como você classificaria '(filme)'de 1 a 5? (ou 0 para parar):2\n",
            "Como você classificaria '(filme)'de 1 a 5? (ou 0 para parar):3\n",
            "Como você classificaria '(filme)'de 1 a 5? (ou 0 para parar):0\n",
            "Que pena que você não irá classificar mais os filmes\n",
            "Por favor uma classificação válida de 1 a 5.\n"
          ]
        }
      ],
      "source": [
        "#Mensagens de boas vindas\n",
        "print(\"Bem vindo à classificação de filmes!\")\n",
        "print(\"Você tem 5 filmes para classificar\")\n",
        "print(\"Digite'0' a qualquer momento para parar\\n\")\n",
        "\n",
        "#Loop para iterar sobre cada filme na lista\n",
        "for filme in filmes:\n",
        "  #Solicita a classificação ao usuário\n",
        "  classificação = input(f\"Como você classificaria '(filme)'de 1 a 5? (ou 0 para parar):\")\n",
        "\n",
        "  #Verifica se o usuário deseja parar\n",
        "  if classificação == '0':\n",
        "    print(\"Que pena que você não irá classificar mais os filmes\")\n",
        "    break #Encerra o loop principal\n",
        "\n",
        "#Converte a classificação para um numero inteiro\n",
        "classificação = int(classificação)\n",
        "\n",
        "#Verifica se a classificação está dentro do intervalo válido\n",
        "if classificação < 1 or classificação > 5:\n",
        "  print(\"Por favor uma classificação válida de 1 a 5.\")\n",
        "else:\n",
        "    # Exibe a classificação e passa para o próximo filme\n",
        "    print(f\"Você classificou '{filme}' como {classificação} estrelas.\\n\")\n",
        "\n",
        "    # Obrigado de agradecimento ao finalizar\n",
        "    print(\"Obrigado por classificar os filmes\")\n"
      ]
    },
    {
      "cell_type": "markdown",
      "metadata": {
        "id": "_Q622w6vWotJ"
      },
      "source": [
        "Unidade 01 - Aula 04 - Funções em Python\n",
        "#Funções em Built-in em Python\n",
        "#Função definida pelo usuário\n",
        "#Função em anonimas em python"
      ]
    },
    {
      "cell_type": "code",
      "execution_count": null,
      "metadata": {
        "colab": {
          "base_uri": "https://localhost:8080/"
        },
        "id": "gfqrQUfHXJIv",
        "outputId": "82d135a9-74f3-4e18-c910-0b52dc28e346"
      },
      "outputs": [
        {
          "name": "stdout",
          "output_type": "stream",
          "text": [
            "O comprimento da lista é: 6\n"
          ]
        }
      ],
      "source": [
        "#Crie a função len\n",
        "\n",
        "#Cria uma lista de numeros\n",
        "numeros = [1,2,3,4,5,6]#7,8,9,10,11,a,True]\n",
        "#Usa a função len () para calcular o comprimento da lista\n",
        "comprimento = len (numeros)\n",
        "#imprime o comprimento da lista\n",
        "print(\"O comprimento da lista é:\", comprimento)\n"
      ]
    },
    {
      "cell_type": "markdown",
      "metadata": {
        "id": "Pw-weq-_idkG"
      },
      "source": [
        "#Função definida pelo usuário (com retorno e parâmetro)= Capacidade de personalizar o desenvolvimento de códigos.Contrário das funções built-in, as funções definidas pelo usuário são criados pelo programador para atender a requisitos específicos dentro de um programa."
      ]
    },
    {
      "cell_type": "code",
      "execution_count": null,
      "metadata": {
        "id": "whylosBCkOou"
      },
      "outputs": [],
      "source": [
        "\n",
        "# Definindo uma função chamada \"soma\"\n",
        "def soma(a, b):\n",
        "    resultado = a + b\n",
        "    return resultado\n",
        "\n",
        "\n"
      ]
    },
    {
      "cell_type": "code",
      "execution_count": null,
      "metadata": {
        "colab": {
          "base_uri": "https://localhost:8080/"
        },
        "id": "7saVhGQ6m0yP",
        "outputId": "31fd2fe1-e5a9-45dd-b2a2-f28118c8db2d"
      },
      "outputs": [
        {
          "name": "stdout",
          "output_type": "stream",
          "text": [
            "A soma de 5 e 3 é: 8\n"
          ]
        }
      ],
      "source": [
        "resultado_soma = soma(5, 3)\n",
        "\n",
        "# Imprimindo o resultado\n",
        "print(\"A soma de 5 e 3 é:\", resultado_soma)"
      ]
    },
    {
      "cell_type": "code",
      "execution_count": null,
      "metadata": {
        "id": "vEc3V7JZla3R"
      },
      "outputs": [],
      "source": [
        "\n",
        "# Definindo uma função chamada \"e_par\"\n",
        "def e_par(numero):\n",
        "    if numero % 2 == 0:\n",
        "        return True\n",
        "    else:\n",
        "        return False"
      ]
    },
    {
      "cell_type": "code",
      "execution_count": null,
      "metadata": {
        "colab": {
          "base_uri": "https://localhost:8080/"
        },
        "id": "w7PG-8SCn3DU",
        "outputId": "30f8e157-08df-4410-f3cd-7991b955eba3"
      },
      "outputs": [
        {
          "name": "stdout",
          "output_type": "stream",
          "text": [
            "12515616536545445525268 é um número par.\n"
          ]
        }
      ],
      "source": [
        "numero= 12515616536545445525268\n",
        "if e_par(numero):\n",
        "    print(f\"{numero} é um número par.\")\n",
        "else:\n",
        "    print(f\"{numero} é um número ímpar.\")"
      ]
    },
    {
      "cell_type": "markdown",
      "metadata": {
        "id": "iZ5HPDe5oiO6"
      },
      "source": [
        "#Funções anônimas de Python = Conhecidas como funções Lambda, oferecem uma abordagem concisa e flexivel para a definição de funções pelo usuário. Funções anônimas são declaradas sem a necessidade de um nome, permitindo que sejam deifidas e utilizadas no local em que são necessários."
      ]
    },
    {
      "cell_type": "code",
      "execution_count": null,
      "metadata": {
        "id": "P5cAawVMpqDY"
      },
      "outputs": [],
      "source": [
        "#EXPRESSÃO Lambda= são usadas para criar funções anonimas, o que significa que elas não tem um nome definido com \"def.;\"\n",
        "# Essas funções são úteis quando você precisa de uma ação simples que será usado apenas uma vez;\n",
        "#Ao oferecer essa forma mais compacta de expressar a lógica de programação, as funções anonimas enriquecem a expressividade do python, permitindo que os desenvolvedores criem código mais claro e eficiente em determinados contextos."
      ]
    },
    {
      "cell_type": "code",
      "execution_count": null,
      "metadata": {
        "colab": {
          "base_uri": "https://localhost:8080/"
        },
        "id": "b2OuEQW0Q1c8",
        "outputId": "60bc818d-91cc-4113-f1d5-c3260d669618"
      },
      "outputs": [
        {
          "name": "stdout",
          "output_type": "stream",
          "text": [
            "7\n"
          ]
        }
      ],
      "source": [
        "soma = lambda a, b: a + b\n",
        "resultado = soma(3, 4)\n",
        "print(resultado)\n",
        "\n",
        "# Neste exemplo, criamos uma expressão lambda que realiza a edição de dois números, a e b.\n",
        "#Não atribuimos um nome à função, mas podemos usá - la como qualquer outra função."
      ]
    },
    {
      "cell_type": "markdown",
      "metadata": {
        "id": "EDQFLmIKSNRc"
      },
      "source": [
        "#Aplicando a aula: Sendo professor necessito avaliar constantemente os estudantes, sendo assim, quero automatizar a média de nota dos alunos.\n",
        "#Sabemos como é calcular a média, vamos dar upgrade no primeiro código utilizando o conhecimento desta nossa unidade.\n"
      ]
    },
    {
      "cell_type": "code",
      "execution_count": null,
      "metadata": {
        "colab": {
          "base_uri": "https://localhost:8080/"
        },
        "id": "2sePq3k9S2BC",
        "outputId": "5c905040-99f3-4b4a-e6af-3d01fac7ad3d"
      },
      "outputs": [
        {
          "name": "stdout",
          "output_type": "stream",
          "text": [
            "Notas dos estudante: [7.5, 8.0, 6.5, 9.0, 7.0]\n",
            "Médias das notas: 7.6\n",
            "Situação do estudante: aprovado\n"
          ]
        }
      ],
      "source": [
        "# Lista de notas de estudantes\n",
        "notas = [7.5, 8.0, 6.5, 9.0 , 7.0]\n",
        "\n",
        "#Função regular para calcular a média\n",
        "def calcular_media(notas):\n",
        "  total = sum(notas)\n",
        "  media = total / len(notas)\n",
        "  return media\n",
        "\n",
        "# Função lambda para arredondar a media para duas casas decimais\n",
        "arredondar_media = lambda media: round(media, 2)\n",
        "\n",
        "# Calcular a média\n",
        "media = calcular_media(notas)\n",
        "media_arredondada = arredondar_media(media)\n",
        "\n",
        "# Verificar se os estudantes foram aprovados\n",
        "situacao = \"aprovado\" if media_arredondada >= 7 else \"reprovado\"\n",
        "\n",
        "# Resultados\n",
        "print(\"Notas dos estudante:\", notas)\n",
        "print(\"Médias das notas:\", media_arredondada)\n",
        "print(\"Situação do estudante:\", situacao)\n",
        "\n",
        "\n",
        "\n"
      ]
    },
    {
      "cell_type": "markdown",
      "metadata": {
        "id": "XbB7yFsAXfvo"
      },
      "source": [
        "UNIDADE 01 AULA 05 = INTRODUÇÃO A LINGUAGEM PYTHON"
      ]
    },
    {
      "cell_type": "markdown",
      "metadata": {
        "id": "Ct5jQSFJXzaU"
      },
      "source": [
        "#Questão norteadores:\n",
        "1 - Como voce pode aplicar seus conhecimentos em programação em python para criar uma calculadora com desconto?\n",
        "\n",
        "2 - Quais estruturas condicionais em Python voce pode usar para verificar se o desconto esta dentro dos limites aceitáveis?"
      ]
    },
    {
      "cell_type": "code",
      "execution_count": null,
      "metadata": {
        "colab": {
          "base_uri": "https://localhost:8080/"
        },
        "id": "Tx0argi3YX5K",
        "outputId": "919df95f-9f46-453c-a05b-4badb237f7f8"
      },
      "outputs": [
        {
          "name": "stdout",
          "output_type": "stream",
          "text": [
            "Digite o valor do produto: R$50000\n"
          ]
        }
      ],
      "source": [
        "# Solicita ao usuario que insira o valor do produto e o percentual do desconto\n",
        "valor_produto = float(input(\"Digite o valor do produto: R$\"))"
      ]
    },
    {
      "cell_type": "code",
      "execution_count": null,
      "metadata": {
        "colab": {
          "base_uri": "https://localhost:8080/"
        },
        "id": "nVLxdAR4Z1bO",
        "outputId": "e021132a-9762-4768-95a4-b2306c37a783"
      },
      "outputs": [
        {
          "name": "stdout",
          "output_type": "stream",
          "text": [
            "Digite o percentual de desconto:90\n"
          ]
        }
      ],
      "source": [
        "percentual_desconto = float(input(\"Digite o percentual de desconto:\"))"
      ]
    },
    {
      "cell_type": "code",
      "execution_count": null,
      "metadata": {
        "id": "JZQ0VciEZLij"
      },
      "outputs": [],
      "source": [
        "# Verifica se o percentual de desconto esta dentro dos limites aceitáveis (0-100%)\n",
        "if percentual_desconto < 0 or percentual_desconto > 100:\n",
        "  print(\"Erro: o percentual de desconto deve estar entre 0 e 100%.\")\n",
        "else:\n",
        "    # Calcula o valor do desconto\n",
        "    desconto = valor_produto * (percentual_desconto / 100)\n"
      ]
    },
    {
      "cell_type": "code",
      "execution_count": null,
      "metadata": {
        "id": "p_1zntVVakyN"
      },
      "outputs": [],
      "source": [
        "# Calcule o valor final da compra\n",
        "valor_final = valor_produto - desconto"
      ]
    },
    {
      "cell_type": "code",
      "execution_count": null,
      "metadata": {
        "colab": {
          "base_uri": "https://localhost:8080/"
        },
        "id": "GvEY746ybDQo",
        "outputId": "91a7e039-428b-48a9-a949-6b2e389222a3"
      },
      "outputs": [
        {
          "name": "stdout",
          "output_type": "stream",
          "text": [
            "Valor com desconto: R$ 5000.00\n"
          ]
        }
      ],
      "source": [
        "#Exibe o valor total da compra\n",
        "print(f\"Valor com desconto: R$ {valor_final:.2f}\")"
      ]
    },
    {
      "cell_type": "markdown",
      "metadata": {
        "id": "94SLM2oBcE0S"
      },
      "source": [
        "UNIDADE 02 AULA 01 = Estruturas de dados em Python - Parte 1\n",
        "\n",
        "# Objetos do tipo sequencia;\n",
        "# Lista;\n",
        "# Tuplas"
      ]
    },
    {
      "cell_type": "markdown",
      "metadata": {
        "id": "P42jIRdOdDrp"
      },
      "source": [
        "# Objetos tipos de sequencia: Sequencias são estruturas de dados que nos permitem armazenar coleções armazenadas de informações."
      ]
    },
    {
      "cell_type": "markdown",
      "metadata": {
        "id": "RKZDj2I3etQM"
      },
      "source": [
        "#Vai começar a sequencia\n",
        "Coleções versáteis que podem colecionar valores;\n",
        "Servem para organizar dados em uma ordem específica e são indexados por números inteiros não negativos;\n",
        "O primeiro elemento da sequencia é acessado pelo índice 0, o segundo pelo índice 1, e assim por diante, até o último elemento, que esta na posição n-1, onde n representa a capacidade de armazenamento da sequencia."
      ]
    },
    {
      "cell_type": "markdown",
      "metadata": {
        "id": "GlgcrVLDI0Nh"
      },
      "source": [
        "#Operação = Resultado\n",
        "x in s = true caso um item de s seja igual a x, senão false\n",
        "s+t = concatenação de s e t\n",
        "n*s = adiciona s a si mesmo n vezes\n",
        "s[i] = acessa o valor guardado na posição i da sequencia\n",
        "s[i:j] = acessa os valores de i até j\n",
        "s[i:j:k] = acessa os valores da posição i até j, com passo k\n",
        "len(s) = comprimento de s\n",
        "min(s) = menor valor de s\n",
        "max(s) = maior valor de s\n",
        "s.count(x) = número total de ocorrencia de x em s"
      ]
    },
    {
      "cell_type": "code",
      "execution_count": null,
      "metadata": {
        "colab": {
          "base_uri": "https://localhost:8080/"
        },
        "id": "x1Ue6BlSK2PN",
        "outputId": "4725a4f1-c963-45b6-e277-2e828c6aa93b"
      },
      "outputs": [
        {
          "name": "stdout",
          "output_type": "stream",
          "text": [
            "Tamanho do texto = 63\n",
            "Python in texto = True\n",
            "Quantidade de e no texto = (6)\n",
            "As primeiras 5 letras são: Explo\n"
          ]
        }
      ],
      "source": [
        "texto = \"Explorando a diversidade de liguagens de programação de Python.\"\n",
        "\n",
        "print(f\"Tamanho do texto = {len(texto)}\")\n",
        "print(f\"Python in texto = {'Python' in texto}\")\n",
        "print(f\"Quantidade de e no texto = ({texto.count('e')})\")\n",
        "print(f\"As primeiras 5 letras são: {texto[:5]}\")\n"
      ]
    },
    {
      "cell_type": "code",
      "execution_count": null,
      "metadata": {
        "colab": {
          "base_uri": "https://localhost:8080/",
          "height": 36
        },
        "id": "HUBTmZd_YYRo",
        "outputId": "26c359f1-3768-4e24-a163-4927cb605625"
      },
      "outputs": [
        {
          "data": {
            "application/vnd.google.colaboratory.intrinsic+json": {
              "type": "string"
            },
            "text/plain": [
              "'d'"
            ]
          },
          "execution_count": 3,
          "metadata": {},
          "output_type": "execute_result"
        }
      ],
      "source": [
        "texto[13]"
      ]
    },
    {
      "cell_type": "markdown",
      "metadata": {
        "id": "eZac_cFbYptv"
      },
      "source": [
        "#Listas = São uma forma fundamental de objetos do tipo sequencia, são mutáveis, o que significa que podemos adicionar, remover e alterar elementos."
      ]
    },
    {
      "cell_type": "markdown",
      "metadata": {
        "id": "HO_qgdVgZRUx"
      },
      "source": [
        "#Mutabilidade = As listas são estruturas de dados em Python conhecidas por sua mutabilidade, o que significa que voce pode adiconar ou remover os elementos conforme necessário."
      ]
    },
    {
      "cell_type": "code",
      "execution_count": null,
      "metadata": {
        "colab": {
          "base_uri": "https://localhost:8080/"
        },
        "id": "b-LQv62lZFz2",
        "outputId": "de29aecd-2de4-41ca-f361-bb02d14469b0"
      },
      "outputs": [
        {
          "name": "stdout",
          "output_type": "stream",
          "text": [
            "Posição = 0, cor = Vermelho\n",
            "Posição = 1, cor = azul\n",
            "Posição = 2, cor = verde\n",
            "Posição = 3, cor = amarelo\n",
            "Posição = 4, cor = rosa\n"
          ]
        }
      ],
      "source": [
        "cores = ['Vermelho', 'azul', 'verde', 'amarelo', 'rosa']\n",
        "for cor in cores:\n",
        "  print(f'Posição = {cores.index(cor)}, cor = {cor}')"
      ]
    },
    {
      "cell_type": "markdown",
      "metadata": {
        "id": "JCfogEorb8ye"
      },
      "source": [
        "#List comprehensions, Map e Filter = As list comprehensions, ou listcomps, são uma abordagem pythônica para criar listas com base em objetos iteráveis;\n",
        "#Especialmente útil quando voce deseja transformar ou filtrar as informações de uma sequencia existente para criar uma nova sequencia com as informações desejadas;"
      ]
    },
    {
      "cell_type": "code",
      "execution_count": null,
      "metadata": {
        "colab": {
          "base_uri": "https://localhost:8080/"
        },
        "id": "BFeOH_8_dHyz",
        "outputId": "32019ea3-13af-4d89-aafa-6596e889ea5f"
      },
      "outputs": [
        {
          "name": "stdout",
          "output_type": "stream",
          "text": [
            "antes da listcomp =  ['Python', 'Java', 'Javascript', 'C', 'C#', 'C++', 'Swift', 'Go', 'Kotlin']\n",
            "\n",
            "Depois da listcomp =  ['python', 'java', 'javascript', 'c', 'c#', 'c++', 'swift', 'go', 'kotlin']\n"
          ]
        }
      ],
      "source": [
        "linguagens = [\"Python\", \"Java\", \"Javascript\", \"C\", \"C#\", \"C++\", \"Swift\", \"Go\", \"Kotlin\"]\n",
        "print(\"antes da listcomp = \",linguagens)\n",
        "linguagens = [item.lower() for item in linguagens]\n",
        "print(\"\\nDepois da listcomp = \", linguagens)\n",
        "\n",
        "\n"
      ]
    },
    {
      "cell_type": "code",
      "execution_count": null,
      "metadata": {
        "colab": {
          "base_uri": "https://localhost:8080/"
        },
        "id": "alcfp0NxBsR9",
        "outputId": "b4cb19e7-d72a-4b26-d2cd-f39ba90cffcb"
      },
      "outputs": [
        {
          "name": "stdout",
          "output_type": "stream",
          "text": [
            "[525.0, 393.75, 262.5, 630.0]\n"
          ]
        }
      ],
      "source": [
        "#Função Map!\n",
        "#Aplica a uma função a toda sequencia\n",
        "#Map(funcao, sequencia)\n",
        "#Valor Internacional em dólares\n",
        "precos_em_dolares = [100, 75, 50, 120]\n",
        "taxa_de_cambio = 5.25\n",
        "precos_em_reais = list(map(lambda x: x * taxa_de_cambio, precos_em_dolares))\n",
        "print(precos_em_reais)"
      ]
    },
    {
      "cell_type": "code",
      "execution_count": null,
      "metadata": {
        "colab": {
          "base_uri": "https://localhost:8080/"
        },
        "id": "dSr3xyeqDK0h",
        "outputId": "99325e7f-54c5-4afb-a4fe-f8243bedb01c"
      },
      "outputs": [
        {
          "name": "stdout",
          "output_type": "stream",
          "text": [
            "[2, 4, 6, 8, 10]\n"
          ]
        }
      ],
      "source": [
        "#Função Filter\n",
        "#Filtra os elementos de uma sequencia com base em uma função de teste(retorna true or false)\n",
        "#filter(funcao_teste, sequencia)\n",
        "numeros = [1, 2, 3, 4, 5, 6, 7, 8, 9, 10]\n",
        "numeros_pares = list(filter(lambda x: x % 2 == 0, numeros))\n",
        "print(numeros_pares)"
      ]
    },
    {
      "cell_type": "markdown",
      "metadata": {
        "id": "F6jUY7niETWo"
      },
      "source": [
        "#Tuplas = São semelhantes à listas, mas com uma diferença fundamental: elas são imutáveis. Isso significa que, uma vez criadas, as tuplas não podem ser alteradas."
      ]
    },
    {
      "cell_type": "markdown",
      "metadata": {
        "id": "CjdtIKeiE7dN"
      },
      "source": [
        "#Imutável = A distição principal entre listas e tuplas é que as listas são mutáveis, permitindo a atribuição de valores a posições específicas, enquanto as tuplas são objetos imutáveis;\n",
        "\n",
        "# Tupla vazia: tupla1();\n",
        "# Usando um par de parenteses e elementos separados por vírgulas: tupla2=('a','b','c')."
      ]
    },
    {
      "cell_type": "code",
      "execution_count": null,
      "metadata": {
        "colab": {
          "base_uri": "https://localhost:8080/"
        },
        "id": "gGnx1PkEGAR1",
        "outputId": "357c3d2b-113d-434d-f5f6-2909d4ac6698"
      },
      "outputs": [
        {
          "name": "stdout",
          "output_type": "stream",
          "text": [
            "Tipo de objetos vogais = <class 'tuple'>\n",
            "Posição = 0, valor = a\n",
            "Posição = 1, valor = e\n",
            "Posição = 2, valor = i\n",
            "Posição = 3, valor = o\n",
            "Posição = 4, valor = u\n"
          ]
        }
      ],
      "source": [
        "#A ordem importa!!!\n",
        "#Exemplos de mais tuplas e utilidades!\n",
        "vogais = ('a', 'e', 'i', 'o', 'u')\n",
        "print(f\"Tipo de objetos vogais = {type(vogais)}\")\n",
        "for p, x in enumerate(vogais):\n",
        "  print(f\"Posição = {p}, valor = {x}\")"
      ]
    },
    {
      "cell_type": "markdown",
      "metadata": {
        "id": "gXJBEO8nHEt4"
      },
      "source": [
        "#Aplicando Aula = Você está gerenciando uma lista de convidados para uma festa e uma lista de pessoas que confirmaram sua presença. Você deseja identificar as pessoas que ainda não confirmaram e convidá-las novamente."
      ]
    },
    {
      "cell_type": "code",
      "execution_count": null,
      "metadata": {
        "colab": {
          "base_uri": "https://localhost:8080/"
        },
        "id": "xwMs8s_fEu4X",
        "outputId": "7e845e6d-69f6-4b59-c400-8aa4f0babd42"
      },
      "outputs": [
        {
          "name": "stdout",
          "output_type": "stream",
          "text": [
            "Convidados que ainda não confirmaram:\n",
            "Alice\n",
            "Carol\n",
            "Eve\n",
            "\n",
            " Enviando lembretes para os convidados que ainda não confirmaram.\n"
          ]
        }
      ],
      "source": [
        "#Tuplas de convidados!\n",
        "convidados = (\"Alice\", \"Bob\", \"Carol\", \"David\", \"Eve\")\n",
        "\n",
        "#Lista de confirmações\n",
        "confirmados = [\"Bob\", \"David\"]\n",
        "\n",
        "#identificar quem ainda não confirmou\n",
        "nao_confirmados = [convidado for convidado in convidados if convidado not in confirmados]\n",
        "\n",
        "#Exibir convidados que ainda não confirmaram\n",
        "print(\"Convidados que ainda não confirmaram:\")\n",
        "for pessoa in nao_confirmados:\n",
        "  print(pessoa)\n",
        "\n",
        "#Lembrar os lembretes aos que não confirmaram\n",
        "print(\"\\n Enviando lembretes para os convidados que ainda não confirmaram.\")"
      ]
    },
    {
      "cell_type": "markdown",
      "metadata": {
        "id": "4-amUk5KJupG"
      },
      "source": [
        "#UNIDADE 02 - AULA 02 - Estrutura de dados em Python parte 2"
      ]
    },
    {
      "cell_type": "markdown",
      "metadata": {
        "id": "1Zbcuf7wJ6iO"
      },
      "source": [
        "# Objetos do tipo set;\n",
        "# Objetos do tipo Mapping;\n",
        "# Objetos do tipo Array NumPy."
      ]
    },
    {
      "cell_type": "markdown",
      "metadata": {
        "id": "lh5lIcxzKr9u"
      },
      "source": [
        "# Objetos do tipo set = Um conjunto, ou set, é uma estrutura de dados que representa uma coleção de elementos únicos, sem repetição. Veremos como criar, modificar e realizar operações em conjunto."
      ]
    },
    {
      "cell_type": "markdown",
      "metadata": {
        "id": "akbfI5GbLZVh"
      },
      "source": [
        "# Semelhança com conjuntos da matemática = Os objetos do tipo \"set\" habilitam em operações em conjunto, como união, interseção, diferença e muito mais.\n",
        "# Essa estrutura é especialmente útil para realizar testes de associação e  eliminar valores duplicados em uma sequencia;\n",
        "# Podemos adicionar um novo elemento a um conjunto usado add(valor) e remover elementos remove(valor).\n",
        "# Criar objeto do tipo set:\n",
        "\n",
        "1- Usando um par de chaves e elementos separados por vírgulas, por exemplo: set1={'a','b','c'}.\n",
        "2- Usando o construtor de tipo set(iterable) com um objeto iterável, como uma lista, uma tupla ou mesmo uma sequencia de caracteres (string)."
      ]
    },
    {
      "cell_type": "markdown",
      "metadata": {
        "id": "udTmYjrFU1ze"
      },
      "source": [
        "#Criar a partir do vazio!!!\n",
        "#Vamos criar nosso conjunto agora\n",
        "#Criar um conjunto vazio\n",
        "#Adicionar elementos\n",
        "#Verificar se existe um elemento dentro de um conjunto"
      ]
    },
    {
      "cell_type": "code",
      "execution_count": null,
      "metadata": {
        "id": "izqAV4PqSXsu"
      },
      "outputs": [],
      "source": [
        "## add(), in a remove()\n",
        "\n",
        "#Criando um conjunto vazio\n",
        "meu_conjunto = set()"
      ]
    },
    {
      "cell_type": "code",
      "execution_count": null,
      "metadata": {
        "colab": {
          "base_uri": "https://localhost:8080/"
        },
        "id": "XYSb1Pm5VaOq",
        "outputId": "93f683ac-b3de-4226-cf6f-f158222d2913"
      },
      "outputs": [
        {
          "data": {
            "text/plain": [
              "set()"
            ]
          },
          "execution_count": 13,
          "metadata": {},
          "output_type": "execute_result"
        }
      ],
      "source": [
        "meu_conjunto"
      ]
    },
    {
      "cell_type": "code",
      "execution_count": null,
      "metadata": {
        "colab": {
          "base_uri": "https://localhost:8080/"
        },
        "id": "MzHCnZ0cVfA4",
        "outputId": "ae7ff59d-92b9-4b69-ede6-c2fdbfd67975"
      },
      "outputs": [
        {
          "name": "stdout",
          "output_type": "stream",
          "text": [
            "Conjunto após adicionar elementos: {10, 20, 30}\n"
          ]
        }
      ],
      "source": [
        "# Adicionando elementos ao conjunto\n",
        "meu_conjunto.add(10)\n",
        "meu_conjunto.add(20)\n",
        "meu_conjunto.add(30)\n",
        "#Imprimindo o conjunto\n",
        "print(\"Conjunto após adicionar elementos:\", meu_conjunto)\n"
      ]
    },
    {
      "cell_type": "code",
      "execution_count": null,
      "metadata": {
        "colab": {
          "base_uri": "https://localhost:8080/"
        },
        "id": "iP7uQ3sIXWFO",
        "outputId": "ba16a5aa-3ecb-42c7-e3e3-69f6fc1a203f"
      },
      "outputs": [
        {
          "name": "stdout",
          "output_type": "stream",
          "text": [
            "20 está no conjunto.\n",
            "Conjunto após remover um elemento 20: {10, 30}\n"
          ]
        }
      ],
      "source": [
        "#Verificando se um elemento está em um conjunto\n",
        "elemento = 20\n",
        "if elemento in meu_conjunto:\n",
        "  print(f\"{elemento} está no conjunto.\")\n",
        "else:\n",
        "  print(f\"{elemento} não está no conjunto.\")\n",
        "#Removendo um elemento do conjunto\n",
        "meu_conjunto.remove(20)\n",
        "#Imprimindo o conjunto atualizado\n",
        "print(\"Conjunto após remover um elemento 20:\", meu_conjunto)"
      ]
    },
    {
      "cell_type": "markdown",
      "metadata": {
        "id": "ns8uHb0PXlRq"
      },
      "source": [
        "# Objetos do tipo Mapping = Foco no dicionário (dict) em Python. Dicionários são estruturas que associam chaves a valores, permitindo o armazenamento e recuperação eficiente de informações. Veremos como criar dicionários, adicionar itens e realizar operações de busca."
      ]
    },
    {
      "cell_type": "markdown",
      "metadata": {
        "id": "K5csf3cfYZhN"
      },
      "source": [
        "#Chaves e valores = Dados que estabelecem uma relação entre chaves e valores são conhecidas como objetos dp tipo mapping.\n",
        "# Em Python, o principal objeto que atende a essa propriedade é o dicionário, representado pelo tipo dict;\n",
        "# Dicionários são mutáveis, podemos modificar o valor associado a uma chaves existente ou criar uma nova chave;\n",
        "# Podemos criar dicionários em Python de várias maneiras:\n",
        "1- Usando um par de chaves para denotar um dicionário vazio: dicionário1= {}\n",
        "2- Usando pares de elementos na forma \"chave:valor\" separados por vírgulas: dicionário2 ={'um':1,'dois':2,'tres':3}\n",
        "3-Usando o construtor de tipo dict()."
      ]
    },
    {
      "cell_type": "code",
      "execution_count": null,
      "metadata": {
        "id": "DezS1WBbYMTf"
      },
      "outputs": [],
      "source": [
        "#Exemplo 1: Criação de um dicionário vazio, seguido de atribuições de chaves e valores\n",
        "dici_1 = {}\n",
        "dici_1['nome'] = 'Maria'\n",
        "dici_1['idade'] = 25\n"
      ]
    },
    {
      "cell_type": "code",
      "execution_count": null,
      "metadata": {
        "colab": {
          "base_uri": "https://localhost:8080/"
        },
        "id": "0jiFS5hedcYe",
        "outputId": "e9f80c78-8f30-4194-c155-fbf66395d4e4"
      },
      "outputs": [
        {
          "data": {
            "text/plain": [
              "{'nome': 'Maria', 'idade': 25}"
            ]
          },
          "execution_count": 17,
          "metadata": {},
          "output_type": "execute_result"
        }
      ],
      "source": [
        "dici_1"
      ]
    },
    {
      "cell_type": "code",
      "execution_count": null,
      "metadata": {
        "colab": {
          "base_uri": "https://localhost:8080/"
        },
        "id": "VjdbsWK8dc22",
        "outputId": "df40e4ce-d925-43bd-a8bc-fce75853d480"
      },
      "outputs": [
        {
          "name": "stdout",
          "output_type": "stream",
          "text": [
            "True\n",
            "{'nome': 'Maria', 'idade': 25}\n"
          ]
        }
      ],
      "source": [
        "# Exemplo 2: criação de um dicionário com pares chaves: valor\n",
        "dici_2 = {'nome': 'Maria', 'idade': 25}\n",
        "# Exemplo 3: Criação de um dicionário com uma lista de tuplas representando pares chaves: valor\n",
        "dici_3 = dict([('nome', 'Maria'), ('idade', 25)])\n",
        "# Exemplo 4: Criação de um dicionário usando a função built-in zip() e duas listas, uma para chaves e outra para os valores\n",
        "dici_4 = dict(zip(['nome', 'idade'], ['Maria', 25]))\n",
        "# Teste se todas as construções resultam em objetos iguais\n",
        "print(dici_1 == dici_2 == dici_3 == dici_4) # Deve imprimir true\n",
        "print(dici_1)"
      ]
    },
    {
      "cell_type": "code",
      "execution_count": null,
      "metadata": {
        "colab": {
          "base_uri": "https://localhost:8080/"
        },
        "id": "gk64gx8aeRpF",
        "outputId": "8f9bd370-ab6f-4816-eb61-871a1db53219"
      },
      "outputs": [
        {
          "name": "stdout",
          "output_type": "stream",
          "text": [
            "{'nome': 'Maria', 'idade': 25}\n"
          ]
        }
      ],
      "source": [
        "#Mais rápido\n",
        "print(dici_2)"
      ]
    },
    {
      "cell_type": "markdown",
      "metadata": {
        "id": "WMdRINaxefuL"
      },
      "source": [
        "# Objetos do tipo array NumPy = O Numpy é uma biblioteca essencial para computação científica em Python, fornecendo recursos avançados para manipular arrays multidimensionais. Veremos como criar,realizar operações e acessar elementos em arrays NumPy.\n",
        "NumPy = utilizado em ciencias de dados"
      ]
    },
    {
      "cell_type": "markdown",
      "metadata": {
        "id": "jGdsYRiZfwn1"
      },
      "source": [
        "NumPY = Desenvolvida para suportar a computação científica em Python;\n",
        "Oferece uma ampla gama de funcionalidades, incluindo arrays multidimensionais e funções sofisticadas;\n",
        "\n",
        "Fornece ferramnetas para integração com código em C/C++ e Fortran, bem como recursos essenciais de álgebras linear, transformada em Fourier e geração de números aleatórios;\n",
        "\n",
        "A biblioteca NumPy é particularmente valiosa para cientista de dados e desenvolvedores de soluções de inteligência artificial, permitindo lidar eficientemente com matrizes de dados complexas e realizar operações avançadas.\n",
        "\n",
        " https://numpy.org/."
      ]
    },
    {
      "cell_type": "code",
      "execution_count": null,
      "metadata": {
        "colab": {
          "base_uri": "https://localhost:8080/"
        },
        "id": "WDy-4HqLfa2w",
        "outputId": "cb2fb83b-09da-421a-d099-2ae4399f7511"
      },
      "outputs": [
        {
          "name": "stdout",
          "output_type": "stream",
          "text": [
            "Array original\n",
            "[1 2 3 4 5]\n"
          ]
        }
      ],
      "source": [
        "# Importe a biblioteca NumPy\n",
        "import numpy as np\n",
        "# Crie um array Numpy de números inteiros\n",
        "my_array = np.array([1, 2, 3, 4, 5])\n",
        "# Imprima o array\n",
        "print(\"Array original\")\n",
        "print(my_array)\n",
        "\n"
      ]
    },
    {
      "cell_type": "code",
      "execution_count": null,
      "metadata": {
        "colab": {
          "base_uri": "https://localhost:8080/"
        },
        "id": "kBcA48mskwtB",
        "outputId": "86ce6c41-8ea5-4920-921f-4da34cf67207"
      },
      "outputs": [
        {
          "name": "stdout",
          "output_type": "stream",
          "text": [
            "\n",
            "Array ao quadrado:\n",
            "[ 1  4  9 16 25]\n",
            "\n",
            "Soma dos elementos:\n",
            "15\n",
            "\n",
            "Elemento no índice 2: 3\n"
          ]
        }
      ],
      "source": [
        "# Realize operações matemáticas array\n",
        "squared = my_array ** 2 #Eleva cada elemento ao quadrado\n",
        "sum_of_elements = np.sum(my_array) # Calcula a soma de todos os elementos\n",
        "# Imprima os resultados\n",
        "print(\"\\nArray ao quadrado:\")\n",
        "print(squared)\n",
        "print(\"\\nSoma dos elementos:\")\n",
        "print(sum_of_elements)\n",
        "# Acesse os elementos array\n",
        "element_at_index_2 = my_array[2] # Acessa o elemento no índice 2\n",
        "print(\"\\nElemento no índice 2:\", element_at_index_2)\n"
      ]
    },
    {
      "cell_type": "markdown",
      "metadata": {
        "id": "GWBvihRelie2"
      },
      "source": [
        "#Aplicando a aula:\n",
        "Suponha que estamos gerenciando um evento científico em que participantes de diferentes regiões do mundo se inscreveram. Cada participante forneceu informações sobre sua localização, afiliação a intituições de pesquisa e áreas de interesse. O objetivo é realizar análises sobre a distribuição geográficas dos participantes, suas afiliações e as áreas deinteresses predominantes. Como podemos utilizar os conhecimentos dessa aula para resolver?"
      ]
    },
    {
      "cell_type": "code",
      "execution_count": null,
      "metadata": {
        "colab": {
          "base_uri": "https://localhost:8080/"
        },
        "id": "Jxfwkflumzd7",
        "outputId": "9cd2d1a5-d00b-44e1-a5f5-16bcfe00807c"
      },
      "outputs": [
        {
          "name": "stdout",
          "output_type": "stream",
          "text": [
            "Regiões dos participantes: {'EUA', 'Brasil', 'India'}\n",
            "Afiliações dos participantes:\n",
            "Universidade A: Alice\n",
            "Instituto B: Bob\n",
            "Instituto C: Charlie\n",
            "Área de interesse mais popular: Astronomia\n"
          ]
        }
      ],
      "source": [
        "# Importe as bibliotecas necessárias\n",
        "import numpy as np\n",
        "# Dados dos participantes\n",
        "participantes = [\n",
        "    {\n",
        "        \"nome\": \"Alice\",\n",
        "        \"localizacao\": \"EUA\",\n",
        "        \"afiliacao\": \"Universidade A\",\n",
        "        \"Interesses\": [\"Física\", \"astronomia\"]\n",
        "    },\n",
        "    {\n",
        "\n",
        "        \"nome\": \"Bob\",\n",
        "        \"localizacao\": \"Brasil\",\n",
        "        \"afiliacao\": \"Instituto B\",\n",
        "        \"Interesses\": [\"Biologia\", \"Astronomia\"]\n",
        "    },\n",
        "    {\n",
        "\n",
        "        \"nome\": \"Charlie\",\n",
        "        \"localizacao\": \"India\",\n",
        "        \"afiliacao\": \"Instituto C\",\n",
        "        \"Interesses\": [\"Química\", \"Engenharia\"]\n",
        "    }\n",
        "\n",
        "    # Adicione mais participantes conforme necessário\n",
        "]\n",
        "# Usando sets para identificar diferentes regiões dos participantes\n",
        "regioes = set(participante[\"localizacao\"] for participante in participantes)\n",
        "# Usando um dicionário para categorizar afiliações\n",
        "afiliacoes = {}\n",
        "for participante in participantes:\n",
        "  afiliacao = participante[\"afiliacao\"]\n",
        "  if afiliacao not in afiliacoes:\n",
        "    afiliacoes[afiliacao] = set()\n",
        "  afiliacoes[afiliacao].add(participante[\"nome\"])\n",
        "#Usando o NumPy para analisar as áreas de interesse\n",
        "areas_de_interesse = np.array([interesse for participante in participantes for interesse in participante[\"Interesses\"]])\n",
        "interesse_unico, contagem = np.unique(areas_de_interesse, return_counts=True)\n",
        "area_mais_popular = interesse_unico[np.argmax(contagem)]\n",
        "# Resultados\n",
        "print(\"Regiões dos participantes:\", regioes)\n",
        "print(\"Afiliações dos participantes:\")\n",
        "for afiliacao, nomes in afiliacoes.items():\n",
        "  print(f\"{afiliacao}: {', '.join(nomes)}\")\n",
        "print(\"Área de interesse mais popular:\", area_mais_popular)\n",
        "\n"
      ]
    },
    {
      "cell_type": "markdown",
      "metadata": {
        "id": "yMPvElFz_LL6"
      },
      "source": [
        "#UNIDADE 02 - AULA 03 - Classes e métodos em Python"
      ]
    },
    {
      "cell_type": "markdown",
      "metadata": {
        "id": "FbbQuK9w_fA2"
      },
      "source": [
        "# Introdução a orientação de objetos,\n",
        "# Classes em Python;\n",
        "# Herança em Python"
      ]
    },
    {
      "cell_type": "markdown",
      "metadata": {
        "id": "UrR85ANJ_zB5"
      },
      "source": [
        "Introdução a orientação de objetos = Um paradigma essencial na programação, que organiza o código em torno de objetos, cada um representando entidades do mundo real."
      ]
    },
    {
      "cell_type": "markdown",
      "metadata": {
        "id": "5dYIshVuApZG"
      },
      "source": [
        "A evolução constante = Paradigma de programação permanecem sólidos e cruciais.\n",
        "Importante pois permite que implemente em qualquer tecnologia adotada na sua empresa, independentemente das mudanças frequentes.\n",
        "Uma linguagem de programação é considerada e orientada a objetos quando incorpora os princípios de abstração e suporta o uso de encapsulamento, herança e polimorfismo."
      ]
    },
    {
      "cell_type": "markdown",
      "metadata": {
        "id": "RTgLge2-CWd7"
      },
      "source": [
        "# Classe vs Objeto:\n",
        "#CLASSE                                                    \n",
        "Classe: Pessoa                            \n",
        "Atributos: dados\n",
        "nome:\n",
        "idade:\n",
        "gênero:\n",
        "métodos: (comportamentos)\n",
        "cumprimentar: Saúda como \"Olá, meu nome é\"\n",
        "aniversário: aumenta a idade em 1\n",
        "\n",
        "# Objetos\n",
        "objeto1: pessoa 1\n",
        "atributos:(dados):\n",
        "nome:joão\n",
        "idade:\n",
        "gênero: masculino\n",
        "métodos: (comportamentos)\n",
        "cumprimentar: Saúda como \"Olá meu nome é João\"\n",
        "aniversário: aumenta a idade em 1"
      ]
    },
    {
      "cell_type": "markdown",
      "metadata": {
        "id": "G-8HorHbEozJ"
      },
      "source": [
        "Classes em Python = São os modelos para criação de objetos, e como definir atributos e métodos dentro delas."
      ]
    },
    {
      "cell_type": "markdown",
      "metadata": {
        "id": "ewiZ1PT_FH1k"
      },
      "source": [
        "# Componentes principais de uma classe:\n",
        "ATRIBUTOS: São os dados que representam o estado do objeto, como nome e idade\n",
        "\n",
        "MÉTODOS: Definem o comportamento do objeto, sendo as ações que ele pode executar, como cumprimentar e fazer login.\n",
        "\n",
        "ENCAPSULAMENTO: Combina atributos e métodos em uma entidade, permitindo controlar o acesso a atributos por meio de métodos.\n",
        "\n",
        "HERANÇA: Permite que uma classe herde atributos e métodos de outra, promovendo o reuso de código e a organização hierárquica, como na relação entre as classes pessoa, funcionário e cliente.\n",
        "\n",
        "POLIMORFISMO: Refere-se à capacidade de várias classes responderem de forma diferente à mesma mensagem, graças à herança e às respostas específicas de cada classe às mensagens."
      ]
    },
    {
      "cell_type": "code",
      "execution_count": null,
      "metadata": {
        "id": "XIHeBrFMfIvU"
      },
      "outputs": [],
      "source": [
        "# Defina uma classe chamada pessoa\n",
        "class Pessoa:\n",
        "\n",
        "# O método__init__é um construtor, chamado quando um objeto da classe é criado.\n",
        "# Ele inicializa os atributos da classe\n",
        "  def __init__(self, nome, idade, genero):\n",
        "# Self é uma convenção em Python que se refere à própria instância da classe.\n",
        "# Os parâmetros nome, idade e genero são passados durante a criação do objeto.\n",
        "# Eles são usados para inicializar os atributos da instância.\n",
        "   self.nome = nome # Atribui o valor de nome ao atributo nome a instancia\n",
        "   self.idade = idade # Atribui o valor de idade ao atributo idade a instancia\n",
        "   self.genero = genero # Atribui o valor de genero ao atributo genero a instancia.\n",
        "#O método cumprimentar retorna uma saudação com o nome da pessoa.\n",
        "   def cumprimentar(self):\n",
        "    return f\"Olá, meu nome é {self.nome}.\"\n",
        "# O método aniversário aumenta a idade da pessoa em 1.\n",
        "   def aniversario(self):\n",
        "    self.idade += 1\n",
        "# Cria uma instancia da classe uma \"Pessoa\" com os valores \"João\", 30 e \"Masculino\" para nome, idade e genero, respectivamente.\n",
        "pessoa1 = Pessoa(\"João\", 30, \"Masculino\")\n",
        "\n",
        "#Chama o método \"cumprimentar\" na instancia pessoa1 e imprime a saudação.\n",
        "print(pessoa1.cumprimentar()) # Saída: \"Olá, meu nome é João\"\n",
        "\n",
        "#Acessa o atributo idade da instancia pessoa1 e imprime a sua idade\n",
        "print(f\"idade:{pessoa1.idade}\") # Saída: \"Idade: 30\"\n",
        "\n",
        "# Chama o método \"aniversário\" na instancia pessoa1 para aumentar sua idade 1\n",
        "pessoa1.aniversario()"
      ]
    },
    {
      "cell_type": "code",
      "execution_count": null,
      "metadata": {
        "colab": {
          "base_uri": "https://localhost:8080/"
        },
        "id": "V_hsRSG9cZzR",
        "outputId": "d1da35cf-e1ae-4c3c-dadd-0ccf0ed90369"
      },
      "outputs": [
        {
          "name": "stdout",
          "output_type": "stream",
          "text": [
            "Olá, meu nome é João.\n",
            "idade:30\n",
            "nova idade: 31\n"
          ]
        }
      ],
      "source": [
        "class Pessoa:\n",
        "  def __init__(self, nome, idade, genero):\n",
        "    self.nome = nome\n",
        "    self.idade = idade\n",
        "    self.genero = genero\n",
        "  def cumprimentar(self):\n",
        "       return f\"Olá, meu nome é {self.nome}.\"\n",
        "  def aniversario(self):\n",
        "          self.idade += 1\n",
        "pessoa1 = Pessoa(\"João\", 30, \"Masculino\")\n",
        "print(pessoa1.cumprimentar())\n",
        "print(f\"idade:{pessoa1.idade}\")\n",
        "pessoa1.aniversario()\n",
        "print(f\"nova idade: {pessoa1.idade}\")"
      ]
    },
    {
      "cell_type": "markdown",
      "metadata": {
        "id": "6LZFyFEV5U1f"
      },
      "source": [
        "#Até onde vamos? =\n",
        "A herança é um dos pilares fundamentais da programação orientada a objetos.\n",
        "Ela permite que uma classe ( a classe-filha) herde características e comportamentos de outra classe (a classe-pai).\n",
        "Em Python, essa técnica é amplamente suportada e flexível, permitindo que uma classe-filha herde de múltiplas da classes-pai, um conceito conhecido como herança múltipla."
      ]
    },
    {
      "cell_type": "code",
      "execution_count": null,
      "metadata": {
        "id": "jD7HmBag6gOz"
      },
      "outputs": [],
      "source": [
        "class ClasseFilha(ClassePai):\n",
        "# Definição da classe-filha\n",
        " class ClassFilha(ClassePai1, ClassePai2, ClassePai3):\n",
        "  # Definição da classe-filha"
      ]
    },
    {
      "cell_type": "markdown",
      "metadata": {
        "id": "KSlQXz5L7L3b"
      },
      "source": [
        "#Criando nossa Classe Pessoa:\n",
        "\n",
        "* Reutilização de código = A herança permite que voce reutlilize o código existente, aproveitando a estrutura e funciuonalidade de classes-pai em suas subclasses.\n",
        "* Extensibilidade = Voce pode extender ou adicionar comportamentos específicos às classes filhas sem modificar as classe-pai, mantendo a coesão e a organização do código.\n",
        "\n",
        "* Hierarquia de Classes = A herança permite criar hierárquia de classes, na qual classes filhas podem herdar características comuns de classes-pai e, por sua vez, serem herdadas por outras classes.\n",
        "\n",
        "                                             Bora pro código!\n",
        "\n",
        "\n",
        "\n",
        "\n",
        "\n"
      ]
    },
    {
      "cell_type": "code",
      "execution_count": null,
      "metadata": {
        "id": "zfRCU8Mm89hM"
      },
      "outputs": [],
      "source": [
        "class Animal:\n",
        "    def __init__(self, nome):\n",
        "      self.nome = nome\n",
        "    def fazer_barulho(self):\n",
        "        pass\n",
        "class Cachorro(Animal):\n",
        "    def fazer_barulho(self):\n",
        "        return \"Latir\"\n",
        "class Gato(Animal):\n",
        "    def fazer_barulho(self):\n",
        "        return \"Miar!\""
      ]
    },
    {
      "cell_type": "code",
      "execution_count": null,
      "metadata": {
        "id": "x3zWBaTb-R2e"
      },
      "outputs": [],
      "source": [
        "rex = Cachorro(\"Rex\")\n",
        "whiskers = Gato(\"Whiskers\")"
      ]
    },
    {
      "cell_type": "code",
      "execution_count": null,
      "metadata": {
        "colab": {
          "base_uri": "https://localhost:8080/"
        },
        "id": "9eL8sLlu-hEc",
        "outputId": "ff430662-f44c-4a80-a8f7-d7cb67ade3e0"
      },
      "outputs": [
        {
          "name": "stdout",
          "output_type": "stream",
          "text": [
            "Rex faz : Latir\n"
          ]
        }
      ],
      "source": [
        "print(f\"{rex.nome} faz : {rex.fazer_barulho()}\")"
      ]
    },
    {
      "cell_type": "code",
      "execution_count": null,
      "metadata": {
        "colab": {
          "base_uri": "https://localhost:8080/"
        },
        "id": "8kxglUqe-5Ts",
        "outputId": "7ed664be-d1f3-47dd-e47c-26c4860195ac"
      },
      "outputs": [
        {
          "name": "stdout",
          "output_type": "stream",
          "text": [
            "Whiskers faz: Miar! \n"
          ]
        }
      ],
      "source": [
        "print(f\"{whiskers.nome} faz: {whiskers.fazer_barulho()} \")"
      ]
    },
    {
      "cell_type": "markdown",
      "metadata": {
        "id": "TputuS7xAK87"
      },
      "source": [
        "# Aplicando a aula =\n",
        "Suponha agora, que voce, precisa criar um algorítmo que apartir de características imputadas, mostre um resumo e status de um veículo. E ainda, voce deve fazer algo semelhante para uma subdivisão dessa classe veículos.\n",
        "Vamos juntos para resolver isso?"
      ]
    },
    {
      "cell_type": "code",
      "execution_count": null,
      "metadata": {
        "colab": {
          "base_uri": "https://localhost:8080/"
        },
        "id": "HGi_LOZPAz0H",
        "outputId": "2325aac1-f811-495c-9f6c-e606bb1ede7b"
      },
      "outputs": [
        {
          "name": "stdout",
          "output_type": "stream",
          "text": [
            "Status do Carro:\n",
            "Marca Toyota, Modelo Corolla, Ano (2022) - Velocidade: 200 km/h\n",
            "\n",
            "Status da Bicicleta:\n",
            "Marca Trek, Modelo Mountain Bike, Ano (2021), - Tipo: MTB, Velocidade: 20 km/h\n"
          ]
        }
      ],
      "source": [
        "class Veiculo:\n",
        "  def __init__(self, marca, modelo, ano):\n",
        "    self.marca = marca\n",
        "    self.modelo = modelo\n",
        "    self.ano = ano\n",
        "    self.velocidade = 0\n",
        "  def acelerar(self, incremento):\n",
        "      self.velocidade += incremento\n",
        "\n",
        "  def frear(self, decremento):\n",
        "      self.velocidade -= decremento\n",
        "\n",
        "  def status(self):\n",
        "      return f\"Marca {self.marca}, Modelo {self.modelo}, Ano ({self.ano}) - Velocidade: {self.velocidade} km/h\"\n",
        "\n",
        "class Carro(Veiculo):\n",
        "  def __init__(self, marca, modelo, ano, potencia):\n",
        "    super().__init__(marca, modelo, ano)\n",
        "    self.potencia = potencia\n",
        "\n",
        "  def acelerar(self, incremento):\n",
        "# Carros podem acelerar mais rápido.\n",
        "     self.velocidade += incremento + self.potencia\n",
        "\n",
        "class Bicicleta(Veiculo):\n",
        "  def __init__(self, marca, modelo, ano, tipo):\n",
        "    super().__init__(marca, modelo, ano)\n",
        "    self.tipo = tipo\n",
        "\n",
        "  def status(self):\n",
        "    return f\"Marca {self.marca}, Modelo {self.modelo}, Ano ({self.ano}), - Tipo: {self.tipo}, Velocidade: {self.velocidade} km/h\"\n",
        "\n",
        "# Criando objetos\n",
        "carro1 = Carro(\"Toyota\", \"Corolla\", 2022, 150)\n",
        "bicicleta1 = Bicicleta(\"Trek\", \"Mountain Bike\", 2021, \"MTB\")\n",
        "\n",
        "# Acelerando e verificando os status\n",
        "carro1.acelerar(50)\n",
        "bicicleta1.acelerar(20)\n",
        "\n",
        "# Exibindo os status dos veículos\n",
        "print(\"Status do Carro:\")\n",
        "print(carro1.status())\n",
        "\n",
        "print(\"\\nStatus da Bicicleta:\")\n",
        "print(bicicleta1.status())"
      ]
    },
    {
      "cell_type": "markdown",
      "metadata": {
        "id": "avdJcYcwHwZE"
      },
      "source": [
        "# UNIDADE 02 - AULA 04"
      ]
    },
    {
      "cell_type": "markdown",
      "metadata": {
        "id": "Mu3AudfKH2Zb"
      },
      "source": [
        "# BIBLIOTECAS E MÓDULOS EM PYTHON:\n",
        "\n",
        "* Módulos e bibliotecas em Python;\n",
        "* Classificação dos módulos (built-in, de terceiros e própios);\n",
        "* Matploblit\n",
        "\n",
        "\n",
        "\n"
      ]
    },
    {
      "cell_type": "markdown",
      "metadata": {
        "id": "NCHmNHv6IiJH"
      },
      "source": [
        "Módulos e bibliotecas em Python = São componentes de código que servem como conjuntos de funções em Python que facilitam a organização de código e a reutilização de funções em várias aplicações."
      ]
    },
    {
      "cell_type": "markdown",
      "metadata": {
        "id": "2NI1N4VoJLXC"
      },
      "source": [
        "Organização é tudo = Existem duas abordagens principais para organizar o código em Python: Usando funções ou classes para encapsular funcionalidades e dividindo o código em vários arquivos .py para modularizar a função.\n",
        "\n",
        "O ideal é combinar essas técnicas, criando módulos separados em arquivos independentes;\n",
        "\n",
        "Mas afinal, o que são módulos? São componentes de código que servem como bibliotecas ou conjuntos em funções em Python;\n",
        "\n",
        "Em Python, frequentemente ouvimos falar tanto de módulos quanto de bibliotecas;\n",
        "\n",
        "A relação entre ele é que, na prática, um módulo pode ser considerado uma bibliotecas de códigos."
      ]
    },
    {
      "cell_type": "code",
      "execution_count": null,
      "metadata": {
        "colab": {
          "base_uri": "https://localhost:8080/"
        },
        "id": "jgYWXUAQJAqf",
        "outputId": "52c49dd9-05f1-4298-ace9-dfac611af80a"
      },
      "outputs": [
        {
          "data": {
            "text/plain": [
              "0.5253219888177297"
            ]
          },
          "execution_count": 23,
          "metadata": {},
          "output_type": "execute_result"
        }
      ],
      "source": [
        "# Primeira modo\n",
        "import math\n",
        "\n",
        "math.sqrt(25)\n",
        "math.log2(1024)\n",
        "math.cos(45)"
      ]
    },
    {
      "cell_type": "code",
      "execution_count": null,
      "metadata": {
        "colab": {
          "base_uri": "https://localhost:8080/"
        },
        "id": "NkPpfubOLOjW",
        "outputId": "13a17d3e-b696-4026-fd98-4d5642fc1a19"
      },
      "outputs": [
        {
          "data": {
            "text/plain": [
              "5.0"
            ]
          },
          "execution_count": 20,
          "metadata": {},
          "output_type": "execute_result"
        }
      ],
      "source": [
        "# Segundo modo\n",
        "import math as m\n",
        "\n",
        "m.sqrt(25)\n",
        "#m.log2(1024)\n",
        "#m.cos(45)"
      ]
    },
    {
      "cell_type": "code",
      "execution_count": null,
      "metadata": {
        "colab": {
          "base_uri": "https://localhost:8080/"
        },
        "id": "1mxdjSF_LhiR",
        "outputId": "48901f8c-1b93-4443-dfba-40eee6c42867"
      },
      "outputs": [
        {
          "data": {
            "text/plain": [
              "5.0"
            ]
          },
          "execution_count": 22,
          "metadata": {},
          "output_type": "execute_result"
        }
      ],
      "source": [
        "# Terceiro modo\n",
        "from math import sqrt, log2, cos\n",
        "\n",
        "sqrt(25)\n",
        "#log2(1024)\n",
        "#cos(45)"
      ]
    },
    {
      "cell_type": "markdown",
      "metadata": {
        "id": "obPqx668McR4"
      },
      "source": [
        "utilizando o sinal # em math, m.log2, log2 e cos dá númeiro inteiro raiz quadrada(25) = 5 e se tirar fica como decimal 0,5253219888177297"
      ]
    },
    {
      "cell_type": "markdown",
      "metadata": {
        "id": "xryLSbn2NIGQ"
      },
      "source": [
        "# Classificação dos Módulos =\n",
        "\n",
        "Tres tipos, de built-in, de terceiros e os próprios. O primeiro é \"pronto\" e já vem na instalação do Python, os de terceiros são produzidos por desenvolvedores e são disponibilizados via PypI, por fim, os próprios são construção de nós para resolver determinado problema e que podem ser reutilizados."
      ]
    },
    {
      "cell_type": "markdown",
      "metadata": {
        "id": "zXfy5DVh6rKr"
      },
      "source": [
        "# Tipos de módulos =\n",
        "\n",
        "-------math;os;svs;Random;datetime;re;collection------\n",
        "\n",
        "Módulos de terceiros = Criados por terceiros e disponibilizados via PyPI\n",
        "\n",
        "Módulos Próprios = Criados pelo desenvolvedor"
      ]
    },
    {
      "cell_type": "markdown",
      "metadata": {
        "id": "PC9hWNWW7Xgy"
      },
      "source": [
        "# Módulos de terceiros =\n",
        "\n",
        "São criados e mantidos por desenvolvedores externos à comunidade oficial do Python;\n",
        "Ampliam a funcionalidade do Python em diversas áreas;\n",
        "Instalação é feita usando o gerenciador de pacotes padrão, pip. Exemplo: Pip install requests;\n",
        "Gerenciar dependencias é essencial a medida que projetos crescem, o uso de um arquivo requirements.txt facilita a instalação de todas as dependencias em um unico comando pip;\n",
        "Conhecer as licenças dos módulos de terceiros é importante, pois eles podem variar de código aberto à proprietário, e a qualidade da manutenção podem variar;\n",
        "Frequentemente possuem comunidades ativas de desenvolvedores e documentação rica."
      ]
    },
    {
      "cell_type": "markdown",
      "metadata": {
        "id": "PNbvemRy-Ge_"
      },
      "source": [
        "# MATPLOTLIB =\n",
        "\n",
        "É uma biblioteca de visualização, que está entre as mais populares em Python."
      ]
    },
    {
      "cell_type": "markdown",
      "metadata": {
        "id": "_6cPG7gn-mlE"
      },
      "source": [
        "# VISUALIZAR É TUDO:\n",
        "\n",
        "O MATPLOTLIB é umas das bibliotecas de visualização mais populares em Python.\n",
        "Oferece uma ampla gama de recursos para criar gráficos e visualizações de dados de maneira flexível e personalizavel;\n",
        "Frequentemente usado para criar gráficos estatisticos, gráficos interativos e até mesmo animações."
      ]
    },
    {
      "cell_type": "code",
      "execution_count": null,
      "metadata": {
        "colab": {
          "base_uri": "https://localhost:8080/",
          "height": 472
        },
        "id": "RgU6hnBC-XpL",
        "outputId": "20305379-5cf6-488a-d841-b66960822106"
      },
      "outputs": [
        {
          "data": {
            "image/png": "[encoded data removed]",
            "text/plain": [
              "<Figure size 640x480 with 1 Axes>"
            ]
          },
          "metadata": {},
          "output_type": "display_data"
        }
      ],
      "source": [
        "import matplotlib.pyplot as plt\n",
        "\n",
        "# Dados\n",
        "x = [1, 2, 3, 4, 5]\n",
        "y = [2, 4, 1, 3, 5]\n",
        "\n",
        "# Criar um gráfico de linhas\n",
        "plt.plot(x, y)\n",
        "\n",
        "# Adicionar aos rótulos de eixos\n",
        "plt.xlabel('Eixo x')\n",
        "plt.ylabel('Eixo y')\n",
        "\n",
        "# Adicionar um título para o gráfico\n",
        "plt.title('Exemplo de gráfico de linha')\n",
        "\n",
        "# Mostrar o gráfico\n",
        "plt.show()"
      ]
    },
    {
      "cell_type": "code",
      "execution_count": null,
      "metadata": {
        "colab": {
          "base_uri": "https://localhost:8080/",
          "height": 472
        },
        "id": "95gKbGNIBh62",
        "outputId": "74670a61-fb29-47dd-c048-cfacac7c97f2"
      },
      "outputs": [
        {
          "data": {
            "image/png": "[encoded data removed]",
            "text/plain": [
              "<Figure size 640x480 with 1 Axes>"
            ]
          },
          "metadata": {},
          "output_type": "display_data"
        }
      ],
      "source": [
        "import matplotlib.pyplot as plt\n",
        "\n",
        "# Dados\n",
        "x = [1, 2, 3, 4, 5]\n",
        "y = [2, 4, 1, 3, 5]\n",
        "\n",
        "# Criar um gráfico de barras\n",
        "plt.bar(x, y)\n",
        "\n",
        "# Adicionar aos rótulos de eixos\n",
        "plt.xlabel('Eixo x')\n",
        "plt.ylabel('Eixo y')\n",
        "\n",
        "# Adicionar um título para o gráfico\n",
        "plt.title('Exemplo de gráfico de linha')\n",
        "\n",
        "# Mostrar o gráfico\n",
        "plt.show()"
      ]
    },
    {
      "cell_type": "markdown",
      "metadata": {
        "id": "fEoLyvgbBX-A"
      },
      "source": [
        "# Aplicando a aula =\n",
        "\n",
        "Suponhamos que voce precisa fazer uma visualização da contagem de venda de um produto hipotético, vamos usar essa aula para construir essa visualização?"
      ]
    },
    {
      "cell_type": "code",
      "execution_count": null,
      "metadata": {
        "colab": {
          "base_uri": "https://localhost:8080/",
          "height": 472
        },
        "id": "Eln-OGxICZxt",
        "outputId": "4734faf2-d9e0-4077-f55a-fbf6cb2b894f"
      },
      "outputs": [
        {
          "data": {
            "image/png": "[encoded data removed]",
            "text/plain": [
              "<Figure size 640x480 with 1 Axes>"
            ]
          },
          "metadata": {},
          "output_type": "display_data"
        }
      ],
      "source": [
        "import matplotlib.pyplot as plt\n",
        "\n",
        "# Dados de exemplo\n",
        "meses = ['Janeiro', 'Fevereiro', 'Março', 'Abril', 'Maio']\n",
        "vendas = [120, 90, 150, 80, 200]\n",
        "\n",
        "# Criar um gráfico de barras\n",
        "plt.bar(meses, vendas, color= 'royalblue')\n",
        "\n",
        "# Adicionar aos rótulos de eixos\n",
        "plt.xlabel('Mês')\n",
        "plt.ylabel('Vendas(em unidades)')\n",
        "\n",
        "# Adicionar um título para o gráfico\n",
        "plt.title('Vendas Mensais')\n",
        "\n",
        "# Mostrar o gráfico\n",
        "plt.show()"
      ]
    },
    {
      "cell_type": "markdown",
      "metadata": {
        "id": "-WWKDSptF3Ky"
      },
      "source": [
        "# UNIDADE 03 - AULA 01 = Aplicação de Bancos de dados em Python\n"
      ]
    },
    {
      "cell_type": "markdown",
      "metadata": {
        "id": "jqtIn1iaGEFD"
      },
      "source": [
        "Tópicos nessa aula:\n",
        "\n",
        "* Linguagem de consulta estruturada - SQL;\n",
        "* Conexão com banco de dados;\n",
        "* CRUD\n",
        "\n",
        "\n",
        "\n"
      ]
    },
    {
      "cell_type": "markdown",
      "metadata": {
        "id": "mhnMh_B3GaRv"
      },
      "source": [
        "# Linguagem de consulta estruturada - SQL =\n",
        "\n",
        "A linguagem SQL(structured Query Language), desempenha um papel fundamental na comunicação com bancos de dados relacionais."
      ]
    },
    {
      "cell_type": "markdown",
      "metadata": {
        "id": "ArojjShvG4ZX"
      },
      "source": [
        "# Linguagem estruturada =\n",
        "Diferentes de fornecedores de software de banco de dados, como Oracle e microsoft, adaptaram o SQL com suas extensões e modificações exclusivas.\n",
        "\n",
        "Existe um núcleo comum de comandos SQL que é padrão em todos os sistemas.\n",
        "\n",
        "O SQL oferece funcionalidades avançadas, como agregações, junções subconsultas e transações, que permitem consultas complexas e a manipulação eficaz de dados."
      ]
    },
    {
      "cell_type": "markdown",
      "metadata": {
        "id": "DC4XTrv4HxjG"
      },
      "source": [
        "# Categorias Principais SQL\n",
        "\n",
        "* DDL(Data Definition Language = Linguagem de Definição de Dados) = criação, modificação e exclusão de bancos de dados e tabelas;\n",
        "\n",
        "* DML(Data Manipulation Language = Linguagem de Manutenção Automático) = Recuperar, Atualizar, inserir e excluir dados no banco de dados.\n",
        "\n",
        "* DCL(Data Control Language = Linguagem de Controle de Dados) = Segurança e a autorização de acesso aos dados no banco de dados(GRANT e REVOKE).\n",
        "\n",
        "\n",
        "\n",
        "\n"
      ]
    },
    {
      "cell_type": "markdown",
      "metadata": {
        "id": "Z2-OPRSzKmHM"
      },
      "source": [
        "# Conexão para banco de dados =\n",
        "\n",
        "Quando desenvolvemos uma aplicação em uma linguagem de programação que precisa interagir com um sistema Gerenciador de Banco de Dados Relacional (RDBMS), é essencial uma conexão entre entre esses dois processos distintos."
      ]
    },
    {
      "cell_type": "markdown",
      "metadata": {
        "id": "YsQWViioLR_b"
      },
      "source": [
        "# A Conexão Perfeita:\n",
        "\n",
        "Primeiro passo para utilizar o SQL é a conexão bem sucedida com SGBD.\n",
        "\n",
        "Tanto o OBDC quanto o JBDC são tecnologias que proporcionam uma interface padronizada para que aplicativos possam se conectar e interagir com bancos de dados de forma eficiente.\n",
        "\n",
        "Uma das grandes vantagens dessas tecnologias é que permitem uma aplicação acesse diferentes Sistemas Gerenciadores de Bancos de Dados sem a necessidade de recompilar o código.\n",
        "\n",
        "No contexto de Python, para se comunicar com SGBD, podemos usar bibliotecas específicas que incorporam os drivers de fornecedores. Isso permite a conexão e a execução de comandos SQL no banco de dados."
      ]
    },
    {
      "cell_type": "markdown",
      "metadata": {
        "id": "uRNGi8wwM7XW"
      },
      "source": [
        "# SQlite =\n",
        "\n",
        "Uma poderosa biblioteca de banco de dados escrita em linguagem C, que oferece um mecanismo de banco de dados SQL completo, embora compacto e de alta confiabilidade.\n",
        "\n",
        "Diferentemente da maioria dos sistemas de gerenciamento de banco de dados SQL, o SQlite opera sem a necessidade de um servidor separado.\n",
        "\n",
        "Para os desenvolvedores que utilizam o Python, a linguagem possui um módulo integrado chamado \"sqlite3\" que permite a interação com o mecanismo do banco de dados SQlite.\n",
        "\n",
        "Vamos criar um banco de dados!"
      ]
    },
    {
      "cell_type": "code",
      "execution_count": null,
      "metadata": {
        "id": "F4luX51gEGz2"
      },
      "outputs": [],
      "source": [
        "import sqlite3\n",
        "\n",
        "# 1. Conectar ao banco de dados (ou criar um novo)\n",
        "# Usando a funçao connect do módulo sqlite3 para se conctar ao banco de dados SQlite\n",
        "# Chamado 'Exemplo.db'. Se o banco de dados não existir, ele será criado automaticamente.\n",
        "conn = sqlite3.connect('Exemplo.db')\n",
        "\n",
        "# 2. Criar um objeto cursor\n",
        "# O cursor é usado para executar comandos SQL no banco de dados\n",
        "# Ele atua como espécie de ponteiro que percorre os resultados de consultas\n",
        "cursor = conn.cursor()\n",
        "\n",
        "# 3. Definir o comando SQL para criar tabela\n",
        "# Define uma string create_table que contém um comando SQL para criar uma tabela chamada \"Produtos\".\n",
        "# Esta tabela terá 4 colunas: id (chave primária), nome (texto), preco (número real) e estoque (número inteiro).\n",
        "# IF NOT EXISTS garante que a tabela só será criada se ainda não existir\n",
        "create_table = \"\"\"\n",
        "CREATE TABLE IF NOT EXISTS Produtos (\n",
        "    id INTEGER PRIMARY KEY,\n",
        "    nome TEXT NOT NULL,\n",
        "    preco REAL NOT NULL,\n",
        "    estoque INTEGER\n",
        ")\n",
        "\"\"\"\n",
        "# Usa método execute do objeto cursor para executar o comando SQL definido anteriormente e criar tabela no banco de dados.\n",
        "# 4. Executar o comando SQL para criar a tabela\n",
        "cursor.execute(create_table)\n",
        "\n",
        "# 5. Confirmar alterações (commit)\n",
        "# Após execução bem-sucedida do comando SQL, usa o método commit no objeto de conexão (conn) para confirmar as alterações no banco de dados.\n",
        "# Isso garante que as alterações sejam efetivamente aplicadas.\n",
        "conn.commit()\n",
        "\n",
        "# 6. Fechar a conexão com o banco de dados\n",
        "# Finalmente voce usa o método close no objeto de conexão para encerrar a conexão com o banco de dados.\n",
        "# É uma prática recomendada fechar a conexão após a conclusão das operações, para liberar recursos e evitar possíveis problemas de concorrência.\n",
        "conn.close()\n",
        "\n",
        "\n"
      ]
    },
    {
      "cell_type": "markdown",
      "metadata": {
        "id": "mS2sAWjguzoy"
      },
      "source": [
        "# CRUD - CREATE, READ, UPDATE, DELETE =\n",
        "\n",
        "O modelo CRUD é uma abordagem fundamental para operações para banco de dados, onde \"Create\" envolve inserção de novos registros, \"Read\" refere-se à recuperação de informações, \"Update\" permite a modificação de registros existentes e \"Delete\" envolve a exclusão de dados."
      ]
    },
    {
      "cell_type": "markdown",
      "metadata": {
        "id": "P30MDURevltk"
      },
      "source": [
        "# Manipulação banco de dados =\n",
        "\n",
        "Podemos inserir informações (create), ler (read), atualizar (update) e apagar (delete).\n",
        "Os passos necessários para efetuar uma das operações do CRUD são sempre os mesmos:\n",
        "(i) estabelecer a conexão com um banco;\n",
        "(ii) (ii) criar um cursor e executar o comando;\n",
        "(iii) (iii) gravar a operação;\n",
        "(iv)  (iv) fechar o cursor e a conexão."
      ]
    },
    {
      "cell_type": "markdown",
      "metadata": {
        "id": "i7P-OHCsw-ro"
      },
      "source": [
        "# Inserindo um novo produto =\n",
        "\n",
        "Vamos criar um exemplo que insere um novo produto na tabela \"Produtos\".\n",
        "Adicionar um novo produto com nome, preço, e quantidade em estoque.\n",
        "Vamos ao código!"
      ]
    },
    {
      "cell_type": "code",
      "execution_count": null,
      "metadata": {
        "id": "KzXKKBcbxZ8q"
      },
      "outputs": [],
      "source": [
        "# Adicionar produto\n",
        "import sqlite3\n",
        "# Conectando ao banco de dados\n",
        "conn = sqlite3.connect('Exemplo.db')\n",
        "cursor = conn.cursor()\n",
        "# Dados do novo produto\n",
        "novo_produto = ('Camiseta', 29.99, 50)\n",
        "# Comando SQL para inserir um novo produto na tabela\n",
        "inserir_produto = \"INSERT INTO Produtos (nome, preco, estoque) VALUES (?, ?, ?)\"\n",
        "# Executando o comando SQL para inserção\n",
        "cursor.execute(inserir_produto, novo_produto)\n",
        "# Confirmando as alterações no banco de dados\n",
        "conn.commit()\n",
        "# Fechando a conexão\n",
        "conn.close()"
      ]
    },
    {
      "cell_type": "code",
      "execution_count": null,
      "metadata": {
        "colab": {
          "base_uri": "https://localhost:8080/"
        },
        "id": "Sj__Uiw9zXov",
        "outputId": "1433873f-f777-47d3-841e-28e950a1ece7"
      },
      "outputs": [
        {
          "name": "stdout",
          "output_type": "stream",
          "text": [
            "(2, 'Camiseta', 29.99, 50)\n"
          ]
        }
      ],
      "source": [
        "# Visualizar produto\n",
        "# Conectando ao banco de dados\n",
        "conn = sqlite3.connect ('Exemplo.db')\n",
        "cursor = conn.cursor()\n",
        "# Comando SQL para selecionar todos os produtos\n",
        "selecionar_produtos = \"SELECT * FROM Produtos\"\n",
        "# Executando o comando SQL\n",
        "cursor.execute(selecionar_produtos)\n",
        "# Obtendo todos os registros e exibindo-os\n",
        "produtos = cursor.fetchall()\n",
        "for produto in produtos:\n",
        "  print(produto)\n",
        "# Fechando a conexão\n",
        "conn.close()"
      ]
    },
    {
      "cell_type": "code",
      "execution_count": null,
      "metadata": {
        "id": "Zi-kXpND0s60"
      },
      "outputs": [],
      "source": [
        "# Visualizar o produto\n",
        "import sqlite3\n",
        "# Conectando ao banco de dados\n",
        "conn = sqlite3.connect('Exemplo.db')\n",
        "cursor = conn.cursor()\n",
        "# Novo preco e ID do produto a ser atualizado\n",
        "novo_preco = 24.99\n",
        "produto_id = 1 # Suponhamos que queremos atualizar o produto ID 1\n",
        "# Comando SQL para atualizar o preço do produto\n",
        "atualizar_preco = \"UPDATE Produtos SET preco = ? WHERE id = ?\"\n",
        "# Executando o comando SQL para atualização\n",
        "cursor.execute(atualizar_preco, (novo_preco, produto_id))\n",
        "# Confirmando as alterações no banco de dados\n",
        "conn.commit()\n",
        "# Fechando a conexão\n",
        "conn.close()\n"
      ]
    },
    {
      "cell_type": "code",
      "execution_count": null,
      "metadata": {
        "id": "OdsFwEz02xzF"
      },
      "outputs": [],
      "source": [
        "# Excluir o produto\n",
        "import sqlite3\n",
        "# Conectando ao banco de dados\n",
        "conn = sqlite3.connect('Exemplo.db')\n",
        "cursor = conn.cursor()\n",
        "# ID do produto a ser excluído\n",
        "produto_id = 1 # Suponhamos que queremos excluir o produto com ID 2\n",
        "# Comando SQL para excluir o produto\n",
        "excluir_produto = \"DELETE FROM Produtos WHERE id = ?\"\n",
        "# Executando o comando SQL para exclusão\n",
        "cursor.execute(excluir_produto, (produto_id,))\n",
        "# Confirmando as alterações no banco de dados\n",
        "conn.commit()\n",
        "# Fechando a conexão\n",
        "conn.close()\n"
      ]
    },
    {
      "cell_type": "markdown",
      "metadata": {
        "id": "JOgZiZA03hLn"
      },
      "source": [
        "# Aplicando a aula =\n",
        "\n",
        "Suponha agora que voce precise criar uma tabela de contatos para comunicação da empresa que voce trabalha.\n",
        "Nessa tabela \"contatos\" precisa armazenar as informações de contatos, incluindo nome, e-mail e número de telefone."
      ]
    },
    {
      "cell_type": "code",
      "execution_count": null,
      "metadata": {
        "colab": {
          "base_uri": "https://localhost:8080/"
        },
        "id": "DjFMw6B04YYd",
        "outputId": "13d22ac0-19bd-4220-8a97-9f7700135817"
      },
      "outputs": [
        {
          "name": "stdout",
          "output_type": "stream",
          "text": [
            "(1, 'João', 'joaoemail.com', '123-456-789')\n",
            "(2, 'Maria', 'mariaemail.com', '987-654-321')\n",
            "(3, 'Pedro', 'pedroemail.com', '555-555-555')\n"
          ]
        }
      ],
      "source": [
        "import sqlite3\n",
        "# CREATE (Criação da tabela e inserção de dados de exemplo)\n",
        "conn = sqlite3.connect('Contatos.db')\n",
        "cursor = conn.cursor()\n",
        "cursor.execute('''\n",
        "    CREATE TABLE IF NOT EXISTS contatos (\n",
        "        id INTEGER PRIMARY KEY,\n",
        "        nome TEXT NOT NULL,\n",
        "        email TEXT,\n",
        "        telefone TEXT\n",
        "    )\n",
        "''')\n",
        "dados_exemplo = [\n",
        "    ('João', 'joaoemail.com', '123-456-789'),\n",
        "    ('Maria', 'mariaemail.com', '987-654-321'),\n",
        "    ('Pedro', 'pedroemail.com', '555-555-555')\n",
        "]\n",
        "cursor.executemany('INSERT INTO contatos (nome, email, telefone) VALUES (?, ?, ?)', dados_exemplo)\n",
        "conn.commit()\n",
        "\n",
        "# Read (Leitura e exibição dos contatos)\n",
        "cursor.execute('SELECT * FROM contatos')\n",
        "contatos = cursor.fetchall()\n",
        "for contato in contatos:\n",
        "    print(contato)\n",
        "\n",
        "# UPDATE (atualização do número de telefone do contato com ID 2)\n",
        "\n",
        "novo_telefone = '999-999-9999'\n",
        "contato_id = 2\n",
        "cursor.execute('UPDATE contatos SET telefone = ? WHERE id = ?', (novo_telefone, contato_id))\n",
        "conn.commit()"
      ]
    },
    {
      "cell_type": "markdown",
      "metadata": {
        "id": "BlGzR6ck65I1"
      },
      "source": [
        "# UNIDADE 03 - AULA 02 = Introdução à biblioteca Pandas"
      ]
    },
    {
      "cell_type": "markdown",
      "metadata": {
        "id": "AtO4KuXP7E7T"
      },
      "source": [
        "# Tópicos da nossa aula\n",
        "\n",
        "* Introdução à biblioteca Pandas\n",
        "* Séries\n",
        "* Leitura de dados estruturados com a biblioteca Pandas;\n",
        "\n",
        "\n"
      ]
    },
    {
      "cell_type": "markdown",
      "metadata": {
        "id": "OAkTpVJW7jat"
      },
      "source": [
        "# Intodução à bibliotecas Pandas =\n",
        "\n",
        "Uma biblioteca Python de alto desempenho e código aberto e projetada para simplificar a manipulação e análise de dados prganizados em tabela e séries temporais."
      ]
    },
    {
      "cell_type": "markdown",
      "metadata": {
        "id": "uBCOxMmn7raO"
      },
      "source": [
        "# O famoso Pandas 1 =\n",
        "\n",
        "DataFrames e Series: estruturas de dados flexíveis, semelhante a tabela(DF) e lista.\n",
        "\n",
        "Manipulação de dados: filtragem, seleção, ordenação, agrupamento e agregação.\n",
        "\n",
        "Leitura e escrita de dados: CSV, Excel, SQL, HDF5 e muitos outros, tornando-a uma ferramenta versátil para lidar com dados de diferentes fontes."
      ]
    },
    {
      "cell_type": "markdown",
      "metadata": {
        "id": "b8JXhgbj9S9q"
      },
      "source": [
        "# O famoso Pandas 2 =\n",
        "\n",
        "Tratamento de dados ausentes: simplifica o tratamento de dados faltantes;\n",
        "\n",
        "Visualização de dados: integrado com bibliotecas de visualização, como matplotlib e seaborn.\n",
        "\n",
        "Integração com NumPy: construído sobre a biblioteca NumPy, combinação de cálculos e combinação;\n",
        "\n",
        "Comunidade Ativa: tem uma comunidade de usuários e desenvolvedores ativa."
      ]
    },
    {
      "cell_type": "markdown",
      "metadata": {
        "id": "pZLTaelFAAmQ"
      },
      "source": [
        "# SÉRIES =\n",
        "\n",
        "Refere-se a uma estrutura unidimensional de dados que pode armazenar qualquer tipo de dado, como números inteiros, números de pontos flutuante, strings, objetos Python."
      ]
    },
    {
      "cell_type": "markdown",
      "metadata": {
        "id": "-iqHcJg3AioR"
      },
      "source": [
        "# Craindo uma série =\n",
        "\n",
        "O principal parâmetro é \"data\", que pode conter um único valor, uma lista de valores ou um dicionário.\n",
        "\n",
        "Os outros parâmetros, como \"index\", \"dtype\", \"name\" e outros, tem valores padrão predefinidos, tornando sua especificação opcional.\n",
        "\n",
        "Vamos criar uma série apartir de uma lista."
      ]
    },
    {
      "cell_type": "code",
      "execution_count": null,
      "metadata": {
        "colab": {
          "base_uri": "https://localhost:8080/"
        },
        "id": "77yeC0KU9GSL",
        "outputId": "f84ecc51-b8a5-4763-d213-ca125a1314f5"
      },
      "outputs": [
        {
          "name": "stdout",
          "output_type": "stream",
          "text": [
            "0    10\n",
            "1    20\n",
            "2    30\n",
            "3    40\n",
            "4    50\n",
            "dtype: int64\n",
            "[10, 20, 30, 40, 50]\n"
          ]
        }
      ],
      "source": [
        "import pandas as pd\n",
        "\n",
        "# Criando uma lista de valores\n",
        "exemplo1 = [10, 20, 30, 40, 50]\n",
        "\n",
        "# Criando uma série a partir da lista\n",
        "series1 = pd.Series(data = exemplo1)\n",
        "\n",
        "# Exibindo a série\n",
        "print(series1)\n",
        "print(exemplo1)"
      ]
    },
    {
      "cell_type": "code",
      "execution_count": null,
      "metadata": {
        "colab": {
          "base_uri": "https://localhost:8080/"
        },
        "id": "ht9E_JEpENhr",
        "outputId": "e5d5b7c4-1a4d-4802-9fb7-c039b21b0d78"
      },
      "outputs": [
        {
          "name": "stdout",
          "output_type": "stream",
          "text": [
            "A    100\n",
            "B    200\n",
            "C    300\n",
            "D    400\n",
            "E    500\n",
            "dtype: int64\n"
          ]
        }
      ],
      "source": [
        "import pandas as pd\n",
        "\n",
        "# Criando dicionários com chave-valor\n",
        "exemplo2 = {'A': 100, 'B': 200, 'C': 300, 'D': 400, 'E': 500}\n",
        "\n",
        "# Criando uma série a partir do dicionário\n",
        "series2 = pd.Series(data = exemplo2)\n",
        "\n",
        "# Exibindo a série\n",
        "print(series2)"
      ]
    },
    {
      "cell_type": "markdown",
      "metadata": {
        "id": "U2DayAi0FBRK"
      },
      "source": [
        "# Leitura de dados estruturados com a biblioteca Pandas =\n",
        "\n",
        "A biblioteca oferece vários métodos de leitura de dados, identificados pelo padrão \"read\", como pandas.read_XXXXX"
      ]
    },
    {
      "cell_type": "markdown",
      "metadata": {
        "id": "X-tIHhi2FlTo"
      },
      "source": [
        "# Ler é importante =\n",
        "\n",
        "Um recurso poderoso no pandas é a capacidade de ler dados estruturados e armazená-los em um DataFrame.\n",
        "\n",
        "pandas.read_XXXXX ou pd.read_xxxx\n",
        "\n",
        "Cada um desses métodos é projetado pra ler diferentes tipos de fontes de dados."
      ]
    },
    {
      "cell_type": "markdown",
      "metadata": {
        "id": "sBlxbkAUFpF7"
      },
      "source": [
        "# Vamos de exemplo:\n",
        "\n",
        "Para exemplificar, vamos explorar o método pandas.read_html(), que é utilizado para extrair tabelas de uma página de uma web.\n",
        "\n",
        "Na URL https://www.fdic.gov/bank/individual/failed/banklist.html, encontra-se uma tabela com bancos norte-americanos que faliram desde 1º de outubro de 2000, cada linha representa um banco."
      ]
    },
    {
      "cell_type": "code",
      "execution_count": null,
      "metadata": {
        "colab": {
          "base_uri": "https://localhost:8080/"
        },
        "id": "Kf8IU785HpTY",
        "outputId": "4b87a54c-2df8-4759-8d94-63441d8f0143"
      },
      "outputs": [
        {
          "name": "stdout",
          "output_type": "stream",
          "text": [
            "<class 'list'>\n",
            "1\n"
          ]
        }
      ],
      "source": [
        "import pandas as pd\n",
        "url = 'https://www.fdic.gov/resources/resolutions/bank-failures/failed-bank-list/'\n",
        "dfs = pd.read_html(url)\n",
        "\n",
        "print(type(dfs))\n",
        "print(len(dfs))"
      ]
    },
    {
      "cell_type": "code",
      "execution_count": null,
      "metadata": {
        "id": "xxfH8v7NI9Pm"
      },
      "outputs": [],
      "source": [
        " df_bancos = dfs[0]"
      ]
    },
    {
      "cell_type": "code",
      "execution_count": null,
      "metadata": {
        "colab": {
          "base_uri": "https://localhost:8080/"
        },
        "id": "O5xRb_oRJH5U",
        "outputId": "ee2eedda-e712-4e2d-ec2a-a4431d8f754e"
      },
      "outputs": [
        {
          "name": "stdout",
          "output_type": "stream",
          "text": [
            "(25, 7)\n"
          ]
        }
      ],
      "source": [
        "print(df_bancos.shape)"
      ]
    },
    {
      "cell_type": "code",
      "execution_count": null,
      "metadata": {
        "colab": {
          "base_uri": "https://localhost:8080/"
        },
        "id": "hR7lbXSoJaOS",
        "outputId": "8e99fd7f-16d0-40db-fbc0-9f48b471281d"
      },
      "outputs": [
        {
          "name": "stdout",
          "output_type": "stream",
          "text": [
            "Bank Name                object\n",
            "City                     object\n",
            "State                    object\n",
            "Cert                      int64\n",
            "Acquiring Institution    object\n",
            "Closing Date             object\n",
            "Fund  Sort ascending      int64\n",
            "dtype: object\n"
          ]
        }
      ],
      "source": [
        "print (df_bancos.dtypes)"
      ]
    },
    {
      "cell_type": "code",
      "execution_count": null,
      "metadata": {
        "colab": {
          "base_uri": "https://localhost:8080/",
          "height": 310
        },
        "id": "RgB_AuOsJimB",
        "outputId": "59cb495e-d443-4603-c3dc-fd7b8fbd2f2f"
      },
      "outputs": [
        {
          "data": {
            "application/vnd.google.colaboratory.intrinsic+json": {
              "summary": "{\n  \"name\": \"df_bancos\",\n  \"rows\": 25,\n  \"fields\": [\n    {\n      \"column\": \"Bank Name\",\n      \"properties\": {\n        \"dtype\": \"string\",\n        \"num_unique_values\": 25,\n        \"samples\": [\n          \"Silicon Valley Bank\",\n          \"The Enloe State Bank\",\n          \"The Santa Anna National Bank\"\n        ],\n        \"semantic_type\": \"\",\n        \"description\": \"\"\n      }\n    },\n    {\n      \"column\": \"City\",\n      \"properties\": {\n        \"dtype\": \"string\",\n        \"num_unique_values\": 23,\n        \"samples\": [\n          \"Louisa\",\n          \"Almena\",\n          \"Santa Anna\"\n        ],\n        \"semantic_type\": \"\",\n        \"description\": \"\"\n      }\n    },\n    {\n      \"column\": \"State\",\n      \"properties\": {\n        \"dtype\": \"string\",\n        \"num_unique_values\": 17,\n        \"samples\": [\n          \"Texas\",\n          \"Illinois\",\n          \"Kansas\"\n        ],\n        \"semantic_type\": \"\",\n        \"description\": \"\"\n      }\n    },\n    {\n      \"column\": \"Cert\",\n      \"properties\": {\n        \"dtype\": \"number\",\n        \"std\": 18134,\n        \"min\": 1802,\n        \"max\": 59017,\n        \"num_unique_values\": 25,\n        \"samples\": [\n          24735,\n          10716,\n          5520\n        ],\n        \"semantic_type\": \"\",\n        \"description\": \"\"\n      }\n    },\n    {\n      \"column\": \"Acquiring Institution\",\n      \"properties\": {\n        \"dtype\": \"string\",\n        \"num_unique_values\": 23,\n        \"samples\": [\n          \"Kentucky Farmers Bank Corporation\",\n          \"Equity Bank\",\n          \"Coleman County State Bank\"\n        ],\n        \"semantic_type\": \"\",\n        \"description\": \"\"\n      }\n    },\n    {\n      \"column\": \"Closing Date\",\n      \"properties\": {\n        \"dtype\": \"object\",\n        \"num_unique_values\": 24,\n        \"samples\": [\n          \"March 10, 2023\",\n          \"December 15, 2017\",\n          \"June 27, 2025\"\n        ],\n        \"semantic_type\": \"\",\n        \"description\": \"\"\n      }\n    },\n    {\n      \"column\": \"Fund  Sort ascending\",\n      \"properties\": {\n        \"dtype\": \"number\",\n        \"std\": 8,\n        \"min\": 10523,\n        \"max\": 10549,\n        \"num_unique_values\": 25,\n        \"samples\": [\n          10539,\n          10531,\n          10549\n        ],\n        \"semantic_type\": \"\",\n        \"description\": \"\"\n      }\n    }\n  ]\n}",
              "type": "dataframe",
              "variable_name": "df_bancos"
            },
            "text/html": [
              "\n",
              "  <div id=\"df-b61d36bc-1fc2-41a9-af6f-44e9fbef7d3b\" class=\"colab-df-container\">\n",
              "    <div>\n",
              "<style scoped>\n",
              "    .dataframe tbody tr th:only-of-type {\n",
              "        vertical-align: middle;\n",
              "    }\n",
              "\n",
              "    .dataframe tbody tr th {\n",
              "        vertical-align: top;\n",
              "    }\n",
              "\n",
              "    .dataframe thead th {\n",
              "        text-align: right;\n",
              "    }\n",
              "</style>\n",
              "<table border=\"1\" class=\"dataframe\">\n",
              "  <thead>\n",
              "    <tr style=\"text-align: right;\">\n",
              "      <th></th>\n",
              "      <th>Bank Name</th>\n",
              "      <th>City</th>\n",
              "      <th>State</th>\n",
              "      <th>Cert</th>\n",
              "      <th>Acquiring Institution</th>\n",
              "      <th>Closing Date</th>\n",
              "      <th>Fund  Sort ascending</th>\n",
              "    </tr>\n",
              "  </thead>\n",
              "  <tbody>\n",
              "    <tr>\n",
              "      <th>0</th>\n",
              "      <td>The Santa Anna National Bank</td>\n",
              "      <td>Santa Anna</td>\n",
              "      <td>Texas</td>\n",
              "      <td>5520</td>\n",
              "      <td>Coleman County State Bank</td>\n",
              "      <td>June 27, 2025</td>\n",
              "      <td>10549</td>\n",
              "    </tr>\n",
              "    <tr>\n",
              "      <th>1</th>\n",
              "      <td>Pulaski Savings Bank</td>\n",
              "      <td>Chicago</td>\n",
              "      <td>Illinois</td>\n",
              "      <td>28611</td>\n",
              "      <td>Millennium Bank</td>\n",
              "      <td>January 17, 2025</td>\n",
              "      <td>10548</td>\n",
              "    </tr>\n",
              "    <tr>\n",
              "      <th>2</th>\n",
              "      <td>The First National Bank of Lindsay</td>\n",
              "      <td>Lindsay</td>\n",
              "      <td>Oklahoma</td>\n",
              "      <td>4134</td>\n",
              "      <td>First Bank &amp; Trust Co.</td>\n",
              "      <td>October 18, 2024</td>\n",
              "      <td>10547</td>\n",
              "    </tr>\n",
              "    <tr>\n",
              "      <th>3</th>\n",
              "      <td>Republic First Bank dba Republic Bank</td>\n",
              "      <td>Philadelphia</td>\n",
              "      <td>Pennsylvania</td>\n",
              "      <td>27332</td>\n",
              "      <td>Fulton Bank, National Association</td>\n",
              "      <td>April 26, 2024</td>\n",
              "      <td>10546</td>\n",
              "    </tr>\n",
              "    <tr>\n",
              "      <th>4</th>\n",
              "      <td>Citizens Bank</td>\n",
              "      <td>Sac City</td>\n",
              "      <td>Iowa</td>\n",
              "      <td>8758</td>\n",
              "      <td>Iowa Trust &amp; Savings Bank</td>\n",
              "      <td>November 3, 2023</td>\n",
              "      <td>10545</td>\n",
              "    </tr>\n",
              "  </tbody>\n",
              "</table>\n",
              "</div>\n",
              "    <div class=\"colab-df-buttons\">\n",
              "\n",
              "  <div class=\"colab-df-container\">\n",
              "    <button class=\"colab-df-convert\" onclick=\"convertToInteractive('df-b61d36bc-1fc2-41a9-af6f-44e9fbef7d3b')\"\n",
              "            title=\"Convert this dataframe to an interactive table.\"\n",
              "            style=\"display:none;\">\n",
              "\n",
              "  <svg xmlns=\"http://www.w3.org/2000/svg\" height=\"24px\" viewBox=\"0 -960 960 960\">\n",
              "    <path d=\"M120-120v-720h720v720H120Zm60-500h600v-160H180v160Zm220 220h160v-160H400v160Zm0 220h160v-160H400v160ZM180-400h160v-160H180v160Zm440 0h160v-160H620v160ZM180-180h160v-160H180v160Zm440 0h160v-160H620v160Z\"/>\n",
              "  </svg>\n",
              "    </button>\n",
              "\n",
              "  <style>\n",
              "    .colab-df-container {\n",
              "      display:flex;\n",
              "      gap: 12px;\n",
              "    }\n",
              "\n",
              "    .colab-df-convert {\n",
              "      background-color: #E8F0FE;\n",
              "      border: none;\n",
              "      border-radius: 50%;\n",
              "      cursor: pointer;\n",
              "      display: none;\n",
              "      fill: #1967D2;\n",
              "      height: 32px;\n",
              "      padding: 0 0 0 0;\n",
              "      width: 32px;\n",
              "    }\n",
              "\n",
              "    .colab-df-convert:hover {\n",
              "      background-color: #E2EBFA;\n",
              "      box-shadow: 0px 1px 2px rgba(60, 64, 67, 0.3), 0px 1px 3px 1px rgba(60, 64, 67, 0.15);\n",
              "      fill: #174EA6;\n",
              "    }\n",
              "\n",
              "    .colab-df-buttons div {\n",
              "      margin-bottom: 4px;\n",
              "    }\n",
              "\n",
              "    [theme=dark] .colab-df-convert {\n",
              "      background-color: #3B4455;\n",
              "      fill: #D2E3FC;\n",
              "    }\n",
              "\n",
              "    [theme=dark] .colab-df-convert:hover {\n",
              "      background-color: #434B5C;\n",
              "      box-shadow: 0px 1px 3px 1px rgba(0, 0, 0, 0.15);\n",
              "      filter: drop-shadow(0px 1px 2px rgba(0, 0, 0, 0.3));\n",
              "      fill: #FFFFFF;\n",
              "    }\n",
              "  </style>\n",
              "\n",
              "    <script>\n",
              "      const buttonEl =\n",
              "        document.querySelector('#df-b61d36bc-1fc2-41a9-af6f-44e9fbef7d3b button.colab-df-convert');\n",
              "      buttonEl.style.display =\n",
              "        google.colab.kernel.accessAllowed ? 'block' : 'none';\n",
              "\n",
              "      async function convertToInteractive(key) {\n",
              "        const element = document.querySelector('#df-b61d36bc-1fc2-41a9-af6f-44e9fbef7d3b');\n",
              "        const dataTable =\n",
              "          await google.colab.kernel.invokeFunction('convertToInteractive',\n",
              "                                                    [key], {});\n",
              "        if (!dataTable) return;\n",
              "\n",
              "        const docLinkHtml = 'Like what you see? Visit the ' +\n",
              "          '<a target=\"_blank\" href=https://colab.research.google.com/notebooks/data_table.ipynb>data table notebook</a>'\n",
              "          + ' to learn more about interactive tables.';\n",
              "        element.innerHTML = '';\n",
              "        dataTable['output_type'] = 'display_data';\n",
              "        await google.colab.output.renderOutput(dataTable, element);\n",
              "        const docLink = document.createElement('div');\n",
              "        docLink.innerHTML = docLinkHtml;\n",
              "        element.appendChild(docLink);\n",
              "      }\n",
              "    </script>\n",
              "  </div>\n",
              "\n",
              "\n",
              "    <div id=\"df-179c4da6-09f0-4376-9222-96c3321899af\">\n",
              "      <button class=\"colab-df-quickchart\" onclick=\"quickchart('df-179c4da6-09f0-4376-9222-96c3321899af')\"\n",
              "                title=\"Suggest charts\"\n",
              "                style=\"display:none;\">\n",
              "\n",
              "<svg xmlns=\"http://www.w3.org/2000/svg\" height=\"24px\"viewBox=\"0 0 24 24\"\n",
              "     width=\"24px\">\n",
              "    <g>\n",
              "        <path d=\"M19 3H5c-1.1 0-2 .9-2 2v14c0 1.1.9 2 2 2h14c1.1 0 2-.9 2-2V5c0-1.1-.9-2-2-2zM9 17H7v-7h2v7zm4 0h-2V7h2v10zm4 0h-2v-4h2v4z\"/>\n",
              "    </g>\n",
              "</svg>\n",
              "      </button>\n",
              "\n",
              "<style>\n",
              "  .colab-df-quickchart {\n",
              "      --bg-color: #E8F0FE;\n",
              "      --fill-color: #1967D2;\n",
              "      --hover-bg-color: #E2EBFA;\n",
              "      --hover-fill-color: #174EA6;\n",
              "      --disabled-fill-color: #AAA;\n",
              "      --disabled-bg-color: #DDD;\n",
              "  }\n",
              "\n",
              "  [theme=dark] .colab-df-quickchart {\n",
              "      --bg-color: #3B4455;\n",
              "      --fill-color: #D2E3FC;\n",
              "      --hover-bg-color: #434B5C;\n",
              "      --hover-fill-color: #FFFFFF;\n",
              "      --disabled-bg-color: #3B4455;\n",
              "      --disabled-fill-color: #666;\n",
              "  }\n",
              "\n",
              "  .colab-df-quickchart {\n",
              "    background-color: var(--bg-color);\n",
              "    border: none;\n",
              "    border-radius: 50%;\n",
              "    cursor: pointer;\n",
              "    display: none;\n",
              "    fill: var(--fill-color);\n",
              "    height: 32px;\n",
              "    padding: 0;\n",
              "    width: 32px;\n",
              "  }\n",
              "\n",
              "  .colab-df-quickchart:hover {\n",
              "    background-color: var(--hover-bg-color);\n",
              "    box-shadow: 0 1px 2px rgba(60, 64, 67, 0.3), 0 1px 3px 1px rgba(60, 64, 67, 0.15);\n",
              "    fill: var(--button-hover-fill-color);\n",
              "  }\n",
              "\n",
              "  .colab-df-quickchart-complete:disabled,\n",
              "  .colab-df-quickchart-complete:disabled:hover {\n",
              "    background-color: var(--disabled-bg-color);\n",
              "    fill: var(--disabled-fill-color);\n",
              "    box-shadow: none;\n",
              "  }\n",
              "\n",
              "  .colab-df-spinner {\n",
              "    border: 2px solid var(--fill-color);\n",
              "    border-color: transparent;\n",
              "    border-bottom-color: var(--fill-color);\n",
              "    animation:\n",
              "      spin 1s steps(1) infinite;\n",
              "  }\n",
              "\n",
              "  @keyframes spin {\n",
              "    0% {\n",
              "      border-color: transparent;\n",
              "      border-bottom-color: var(--fill-color);\n",
              "      border-left-color: var(--fill-color);\n",
              "    }\n",
              "    20% {\n",
              "      border-color: transparent;\n",
              "      border-left-color: var(--fill-color);\n",
              "      border-top-color: var(--fill-color);\n",
              "    }\n",
              "    30% {\n",
              "      border-color: transparent;\n",
              "      border-left-color: var(--fill-color);\n",
              "      border-top-color: var(--fill-color);\n",
              "      border-right-color: var(--fill-color);\n",
              "    }\n",
              "    40% {\n",
              "      border-color: transparent;\n",
              "      border-right-color: var(--fill-color);\n",
              "      border-top-color: var(--fill-color);\n",
              "    }\n",
              "    60% {\n",
              "      border-color: transparent;\n",
              "      border-right-color: var(--fill-color);\n",
              "    }\n",
              "    80% {\n",
              "      border-color: transparent;\n",
              "      border-right-color: var(--fill-color);\n",
              "      border-bottom-color: var(--fill-color);\n",
              "    }\n",
              "    90% {\n",
              "      border-color: transparent;\n",
              "      border-bottom-color: var(--fill-color);\n",
              "    }\n",
              "  }\n",
              "</style>\n",
              "\n",
              "      <script>\n",
              "        async function quickchart(key) {\n",
              "          const quickchartButtonEl =\n",
              "            document.querySelector('#' + key + ' button');\n",
              "          quickchartButtonEl.disabled = true;  // To prevent multiple clicks.\n",
              "          quickchartButtonEl.classList.add('colab-df-spinner');\n",
              "          try {\n",
              "            const charts = await google.colab.kernel.invokeFunction(\n",
              "                'suggestCharts', [key], {});\n",
              "          } catch (error) {\n",
              "            console.error('Error during call to suggestCharts:', error);\n",
              "          }\n",
              "          quickchartButtonEl.classList.remove('colab-df-spinner');\n",
              "          quickchartButtonEl.classList.add('colab-df-quickchart-complete');\n",
              "        }\n",
              "        (() => {\n",
              "          let quickchartButtonEl =\n",
              "            document.querySelector('#df-179c4da6-09f0-4376-9222-96c3321899af button');\n",
              "          quickchartButtonEl.style.display =\n",
              "            google.colab.kernel.accessAllowed ? 'block' : 'none';\n",
              "        })();\n",
              "      </script>\n",
              "    </div>\n",
              "\n",
              "    </div>\n",
              "  </div>\n"
            ],
            "text/plain": [
              "                               Bank Name          City         State   Cert  \\\n",
              "0           The Santa Anna National Bank    Santa Anna         Texas   5520   \n",
              "1                   Pulaski Savings Bank       Chicago      Illinois  28611   \n",
              "2     The First National Bank of Lindsay       Lindsay      Oklahoma   4134   \n",
              "3  Republic First Bank dba Republic Bank  Philadelphia  Pennsylvania  27332   \n",
              "4                          Citizens Bank      Sac City          Iowa   8758   \n",
              "\n",
              "               Acquiring Institution      Closing Date  Fund  Sort ascending  \n",
              "0          Coleman County State Bank     June 27, 2025                 10549  \n",
              "1                    Millennium Bank  January 17, 2025                 10548  \n",
              "2             First Bank & Trust Co.  October 18, 2024                 10547  \n",
              "3  Fulton Bank, National Association    April 26, 2024                 10546  \n",
              "4          Iowa Trust & Savings Bank  November 3, 2023                 10545  "
            ]
          },
          "execution_count": 30,
          "metadata": {},
          "output_type": "execute_result"
        }
      ],
      "source": [
        "df_bancos.head()"
      ]
    },
    {
      "cell_type": "markdown",
      "metadata": {
        "id": "9GgfnpEZKDRW"
      },
      "source": [
        "# Aplicando a aula =\n",
        "\n",
        "Suponha que estamos gerenciando um cadastro de uma loja, e se essa loja, precisa de uma orientação em qual público deve investir, sendo assim, querem saber a idade média dos clientes."
      ]
    },
    {
      "cell_type": "code",
      "execution_count": null,
      "metadata": {
        "colab": {
          "base_uri": "https://localhost:8080/"
        },
        "id": "YkwzsfakKaCG",
        "outputId": "4d02bef4-c80e-49b0-c3dd-df6f98e4acb5"
      },
      "outputs": [
        {
          "name": "stdout",
          "output_type": "stream",
          "text": [
            "serie_idades:\n",
            "Alice    25\n",
            "Bob      30\n",
            "Carol    22\n",
            "David    35\n",
            "Eve      28\n",
            "dtype: int64\n"
          ]
        }
      ],
      "source": [
        "import pandas as pd\n",
        "\n",
        "# Criar dicionários com nomes e idades\n",
        "dados_exemplo = {\n",
        "    'Nome': ['Alice', 'Bob', 'Carol', 'David', 'Eve'],\n",
        "    'Idade': [25, 30, 22, 35, 28]\n",
        "}\n",
        "\n",
        "# Criar uma séria a partir de um dicionário\n",
        "serie_idades = pd.Series(dados_exemplo['Idade'], index=dados_exemplo['Nome'])\n",
        "\n",
        "# Exibir a série de idades\n",
        "print(\"serie_idades:\")\n",
        "print(serie_idades)\n",
        "\n"
      ]
    },
    {
      "cell_type": "code",
      "execution_count": null,
      "metadata": {
        "colab": {
          "base_uri": "https://localhost:8080/"
        },
        "id": "GBBFBdYfMNIE",
        "outputId": "ba0ee830-97cb-4e25-f967-97d86c3c9e90"
      },
      "outputs": [
        {
          "name": "stdout",
          "output_type": "stream",
          "text": [
            "\n",
            "Média das idades: 28.0\n"
          ]
        }
      ],
      "source": [
        "# Calcular a media das idades\n",
        "media_idades = serie_idades.mean()\n",
        "print(\"\\nMédia das idades:\", media_idades)"
      ]
    },
    {
      "cell_type": "markdown",
      "metadata": {
        "id": "wk2FupTOMcde"
      },
      "source": [
        "# Unidade 03 - AULA 03 - Introdução à manipulação de dados em panda"
      ]
    },
    {
      "cell_type": "markdown",
      "metadata": {
        "id": "MjrdcOULMmLA"
      },
      "source": [
        "# Tópicos na nossa aula =\n",
        "\n",
        "* Métodos para leitura e escrita da biblioteca Pandas;\n",
        "* Captura e transformação dos dados;\n",
        "* Extração de informações;\n",
        "\n",
        "\n",
        "\n"
      ]
    },
    {
      "cell_type": "markdown",
      "metadata": {
        "id": "MK4GFuumnUoq"
      },
      "source": [
        "# Métodos para leitura e escrita da bibliotecas Pandas =\n",
        "\n",
        "Devemos saber os métodos para leitura e escrita para bibliotecas Pandas, atualmente, os dados são provenientes de diversas fontes e diferentes formas de arquivo, com isso é necessário saber lidar com cada um desses dados."
      ]
    },
    {
      "cell_type": "markdown",
      "metadata": {
        "id": "AUNr1Gj8n_j4"
      },
      "source": [
        "TIPO DE DADOS  - DESCRIÇÃO DO DADO  - MÉTODO PARA LEITURA - MÉTODO PARA ESCRITA\n",
        "\n",
        "Texto              CSV                  read _csv                 to_csv\n",
        "Texto            fixe-width texto file  read fwf                   -\n",
        "Texto             JSON                  read_json                 to_json\n",
        "Texto             HTML                  read_html                 to_html\n",
        "Texto            Latex                                          styler.to_latex\n",
        "Texto             XML                   read_xml                 to_xml\n",
        "Texto            Local Clipboard        read_clipboard            to_clipboard\n",
        "Binário          MS Excel               read_excel                to_excel\n",
        "Binário          OpenDocument           read_excel                 -\n",
        "Binário          HDF5 Format            read_hdf                   to_hdf\n",
        "Binário          Feather Fomart         read_feather              to_feather\n",
        "Binário          Parquet Format         read_parquet              to_parquet\n",
        "Binário          ORC Format             read_orc                   -\n",
        "Binário          MsgPack                read_msgpack              to_msgpack\n",
        "Binário          Stata                  read_stata                to_stata\n",
        "Binário          SAS                    read_sas                   -\n",
        "Binário          SPSS                   read_spss                  -\n",
        "SQL              Python Pickle Format   read_pickle               to_pickle\n",
        "SQL              SQL                    read_sql                  to_sql\n",
        "SQL              Google BigQuery        read_gbq                  to_gbq"
      ]
    },
    {
      "cell_type": "markdown",
      "metadata": {
        "id": "69WSJsDjq12f"
      },
      "source": [
        "# Tecle 2x emcima deixei organizado PANDAS!!!"
      ]
    },
    {
      "cell_type": "markdown",
      "metadata": {
        "id": "XBTotqFOrHFJ"
      },
      "source": [
        "# Captura e Transformação dos dados =\n",
        "\n",
        "Sabendo como lidar cada um desses dados devemos nos atentar em como trabalhar com eles e mais do que isso, como fazer transformações neles, visto que a grande maioria dos dados não vem de forma que conseguimos trabalhar sem manipulá-los antes."
      ]
    },
    {
      "cell_type": "markdown",
      "metadata": {
        "id": "qwCo7Ta41ZwR"
      },
      "source": [
        "# Captura de dados =\n",
        "\n",
        "O Pandas é uma biblioteca Python muito útil para realizar captura de dados de diferentes fontes, pois fornece estruturas de dados flexíveis e ferramentas poderosa para manipular e transformar dados.\n",
        "Vamos ver um exemplo!"
      ]
    },
    {
      "cell_type": "code",
      "execution_count": null,
      "metadata": {
        "colab": {
          "base_uri": "https://localhost:8080/"
        },
        "id": "gC2Iktlz4h-u",
        "outputId": "2c9d6951-706d-465d-e43f-88192bdbce57"
      },
      "outputs": [
        {
          "name": "stdout",
          "output_type": "stream",
          "text": [
            "<class 'pandas.core.frame.DataFrame'>\n",
            "RangeIndex: 2508 entries, 0 to 2507\n",
            "Data columns (total 2 columns):\n",
            " #   Column  Non-Null Count  Dtype  \n",
            "---  ------  --------------  -----  \n",
            " 0   data    2508 non-null   object \n",
            " 1   valor   2508 non-null   float64\n",
            "dtypes: float64(1), object(1)\n",
            "memory usage: 39.3+ KB\n",
            "None\n",
            "            data     valor\n",
            "0     03/09/2015  0.052531\n",
            "1     04/09/2015  0.052531\n",
            "2     08/09/2015  0.052531\n",
            "3     09/09/2015  0.052531\n",
            "4     10/09/2015  0.052531\n",
            "...          ...       ...\n",
            "2503  27/08/2025  0.055131\n",
            "2504  28/08/2025  0.055131\n",
            "2505  29/08/2025  0.055131\n",
            "2506  01/09/2025  0.055131\n",
            "2507  02/09/2025  0.055131\n",
            "\n",
            "[2508 rows x 2 columns]\n"
          ]
        }
      ],
      "source": [
        "import pandas as pd\n",
        "df_selic = pd.read_json('https://api.bcb.gov.br/dados/serie/bcdata.sgs.11/dados?formato=json&dataInicial=03/09/2015')\n",
        "\n",
        "\n",
        "print(df_selic.info())\n",
        "print(df_selic)"
      ]
    },
    {
      "cell_type": "code",
      "execution_count": null,
      "metadata": {
        "id": "_9fty9Zg5uR_"
      },
      "outputs": [],
      "source": [
        "#verificar a duplicidade de linhas (passo muito importante), utilizando a função drop_duplicates()\n",
        "df_selic.drop_duplicates(keep='last', inplace=True)\n",
        "#mantém o último registro=('Keep last')\n",
        "#através do parâmetro inplace=True, faz com que a transformação seja salva do DataFrame\n",
        "#no nosso caso não existe linhas duplicadas."
      ]
    },
    {
      "cell_type": "code",
      "execution_count": null,
      "metadata": {
        "colab": {
          "base_uri": "https://localhost:8080/"
        },
        "id": "Px4CmCJ-n-xO",
        "outputId": "e252c6b1-b64a-4919-9fbb-b758883df57e"
      },
      "outputs": [
        {
          "name": "stdout",
          "output_type": "stream",
          "text": [
            "            data     valor data_extracao responsavel\n",
            "0     03/09/2015  0.052531    2025-09-03       Autor\n",
            "1     04/09/2015  0.052531    2025-09-03       Autor\n",
            "2     08/09/2015  0.052531    2025-09-03       Autor\n",
            "3     09/09/2015  0.052531    2025-09-03       Autor\n",
            "4     10/09/2015  0.052531    2025-09-03       Autor\n",
            "...          ...       ...           ...         ...\n",
            "2503  27/08/2025  0.055131    2025-09-03       Autor\n",
            "2504  28/08/2025  0.055131    2025-09-03       Autor\n",
            "2505  29/08/2025  0.055131    2025-09-03       Autor\n",
            "2506  01/09/2025  0.055131    2025-09-03       Autor\n",
            "2507  02/09/2025  0.055131    2025-09-03       Autor\n",
            "\n",
            "[2508 rows x 4 columns]\n"
          ]
        }
      ],
      "source": [
        "print(df_selic)"
      ]
    },
    {
      "cell_type": "code",
      "execution_count": null,
      "metadata": {
        "colab": {
          "base_uri": "https://localhost:8080/",
          "height": 424
        },
        "id": "VES-OnSraQbX",
        "outputId": "72163686-a8dc-4a6b-9b93-c61a14104133"
      },
      "outputs": [
        {
          "name": "stdout",
          "output_type": "stream",
          "text": [
            "<class 'pandas.core.frame.DataFrame'>\n",
            "RangeIndex: 2508 entries, 0 to 2507\n",
            "Data columns (total 4 columns):\n",
            " #   Column         Non-Null Count  Dtype  \n",
            "---  ------         --------------  -----  \n",
            " 0   data           2508 non-null   object \n",
            " 1   valor          2508 non-null   float64\n",
            " 2   data_extracao  2508 non-null   object \n",
            " 3   responsavel    2508 non-null   object \n",
            "dtypes: float64(1), object(3)\n",
            "memory usage: 78.5+ KB\n",
            "None\n"
          ]
        },
        {
          "data": {
            "application/vnd.google.colaboratory.intrinsic+json": {
              "summary": "{\n  \"name\": \"df_selic\",\n  \"rows\": 2508,\n  \"fields\": [\n    {\n      \"column\": \"data\",\n      \"properties\": {\n        \"dtype\": \"string\",\n        \"num_unique_values\": 2508,\n        \"samples\": [\n          \"21/02/2024\",\n          \"25/11/2015\",\n          \"25/07/2025\"\n        ],\n        \"semantic_type\": \"\",\n        \"description\": \"\"\n      }\n    },\n    {\n      \"column\": \"valor\",\n      \"properties\": {\n        \"dtype\": \"number\",\n        \"std\": 0.015187848757958419,\n        \"min\": 0.007469,\n        \"max\": 0.055131,\n        \"num_unique_values\": 34,\n        \"samples\": [\n          0.018985,\n          0.011345,\n          0.040168\n        ],\n        \"semantic_type\": \"\",\n        \"description\": \"\"\n      }\n    },\n    {\n      \"column\": \"data_extracao\",\n      \"properties\": {\n        \"dtype\": \"date\",\n        \"min\": \"2025-09-03\",\n        \"max\": \"2025-09-03\",\n        \"num_unique_values\": 1,\n        \"samples\": [\n          \"2025-09-03\"\n        ],\n        \"semantic_type\": \"\",\n        \"description\": \"\"\n      }\n    },\n    {\n      \"column\": \"responsavel\",\n      \"properties\": {\n        \"dtype\": \"category\",\n        \"num_unique_values\": 1,\n        \"samples\": [\n          \"Autor\"\n        ],\n        \"semantic_type\": \"\",\n        \"description\": \"\"\n      }\n    }\n  ]\n}",
              "type": "dataframe",
              "variable_name": "df_selic"
            },
            "text/html": [
              "\n",
              "  <div id=\"df-6d431085-928b-46b7-b5ec-af4828b22bfe\" class=\"colab-df-container\">\n",
              "    <div>\n",
              "<style scoped>\n",
              "    .dataframe tbody tr th:only-of-type {\n",
              "        vertical-align: middle;\n",
              "    }\n",
              "\n",
              "    .dataframe tbody tr th {\n",
              "        vertical-align: top;\n",
              "    }\n",
              "\n",
              "    .dataframe thead th {\n",
              "        text-align: right;\n",
              "    }\n",
              "</style>\n",
              "<table border=\"1\" class=\"dataframe\">\n",
              "  <thead>\n",
              "    <tr style=\"text-align: right;\">\n",
              "      <th></th>\n",
              "      <th>data</th>\n",
              "      <th>valor</th>\n",
              "      <th>data_extracao</th>\n",
              "      <th>responsavel</th>\n",
              "    </tr>\n",
              "  </thead>\n",
              "  <tbody>\n",
              "    <tr>\n",
              "      <th>0</th>\n",
              "      <td>03/09/2015</td>\n",
              "      <td>0.052531</td>\n",
              "      <td>2025-09-03</td>\n",
              "      <td>Autor</td>\n",
              "    </tr>\n",
              "    <tr>\n",
              "      <th>1</th>\n",
              "      <td>04/09/2015</td>\n",
              "      <td>0.052531</td>\n",
              "      <td>2025-09-03</td>\n",
              "      <td>Autor</td>\n",
              "    </tr>\n",
              "    <tr>\n",
              "      <th>2</th>\n",
              "      <td>08/09/2015</td>\n",
              "      <td>0.052531</td>\n",
              "      <td>2025-09-03</td>\n",
              "      <td>Autor</td>\n",
              "    </tr>\n",
              "    <tr>\n",
              "      <th>3</th>\n",
              "      <td>09/09/2015</td>\n",
              "      <td>0.052531</td>\n",
              "      <td>2025-09-03</td>\n",
              "      <td>Autor</td>\n",
              "    </tr>\n",
              "    <tr>\n",
              "      <th>4</th>\n",
              "      <td>10/09/2015</td>\n",
              "      <td>0.052531</td>\n",
              "      <td>2025-09-03</td>\n",
              "      <td>Autor</td>\n",
              "    </tr>\n",
              "  </tbody>\n",
              "</table>\n",
              "</div>\n",
              "    <div class=\"colab-df-buttons\">\n",
              "\n",
              "  <div class=\"colab-df-container\">\n",
              "    <button class=\"colab-df-convert\" onclick=\"convertToInteractive('df-6d431085-928b-46b7-b5ec-af4828b22bfe')\"\n",
              "            title=\"Convert this dataframe to an interactive table.\"\n",
              "            style=\"display:none;\">\n",
              "\n",
              "  <svg xmlns=\"http://www.w3.org/2000/svg\" height=\"24px\" viewBox=\"0 -960 960 960\">\n",
              "    <path d=\"M120-120v-720h720v720H120Zm60-500h600v-160H180v160Zm220 220h160v-160H400v160Zm0 220h160v-160H400v160ZM180-400h160v-160H180v160Zm440 0h160v-160H620v160ZM180-180h160v-160H180v160Zm440 0h160v-160H620v160Z\"/>\n",
              "  </svg>\n",
              "    </button>\n",
              "\n",
              "  <style>\n",
              "    .colab-df-container {\n",
              "      display:flex;\n",
              "      gap: 12px;\n",
              "    }\n",
              "\n",
              "    .colab-df-convert {\n",
              "      background-color: #E8F0FE;\n",
              "      border: none;\n",
              "      border-radius: 50%;\n",
              "      cursor: pointer;\n",
              "      display: none;\n",
              "      fill: #1967D2;\n",
              "      height: 32px;\n",
              "      padding: 0 0 0 0;\n",
              "      width: 32px;\n",
              "    }\n",
              "\n",
              "    .colab-df-convert:hover {\n",
              "      background-color: #E2EBFA;\n",
              "      box-shadow: 0px 1px 2px rgba(60, 64, 67, 0.3), 0px 1px 3px 1px rgba(60, 64, 67, 0.15);\n",
              "      fill: #174EA6;\n",
              "    }\n",
              "\n",
              "    .colab-df-buttons div {\n",
              "      margin-bottom: 4px;\n",
              "    }\n",
              "\n",
              "    [theme=dark] .colab-df-convert {\n",
              "      background-color: #3B4455;\n",
              "      fill: #D2E3FC;\n",
              "    }\n",
              "\n",
              "    [theme=dark] .colab-df-convert:hover {\n",
              "      background-color: #434B5C;\n",
              "      box-shadow: 0px 1px 3px 1px rgba(0, 0, 0, 0.15);\n",
              "      filter: drop-shadow(0px 1px 2px rgba(0, 0, 0, 0.3));\n",
              "      fill: #FFFFFF;\n",
              "    }\n",
              "  </style>\n",
              "\n",
              "    <script>\n",
              "      const buttonEl =\n",
              "        document.querySelector('#df-6d431085-928b-46b7-b5ec-af4828b22bfe button.colab-df-convert');\n",
              "      buttonEl.style.display =\n",
              "        google.colab.kernel.accessAllowed ? 'block' : 'none';\n",
              "\n",
              "      async function convertToInteractive(key) {\n",
              "        const element = document.querySelector('#df-6d431085-928b-46b7-b5ec-af4828b22bfe');\n",
              "        const dataTable =\n",
              "          await google.colab.kernel.invokeFunction('convertToInteractive',\n",
              "                                                    [key], {});\n",
              "        if (!dataTable) return;\n",
              "\n",
              "        const docLinkHtml = 'Like what you see? Visit the ' +\n",
              "          '<a target=\"_blank\" href=https://colab.research.google.com/notebooks/data_table.ipynb>data table notebook</a>'\n",
              "          + ' to learn more about interactive tables.';\n",
              "        element.innerHTML = '';\n",
              "        dataTable['output_type'] = 'display_data';\n",
              "        await google.colab.output.renderOutput(dataTable, element);\n",
              "        const docLink = document.createElement('div');\n",
              "        docLink.innerHTML = docLinkHtml;\n",
              "        element.appendChild(docLink);\n",
              "      }\n",
              "    </script>\n",
              "  </div>\n",
              "\n",
              "\n",
              "    <div id=\"df-b6effff9-1c37-4329-b6de-b7231eb8e170\">\n",
              "      <button class=\"colab-df-quickchart\" onclick=\"quickchart('df-b6effff9-1c37-4329-b6de-b7231eb8e170')\"\n",
              "                title=\"Suggest charts\"\n",
              "                style=\"display:none;\">\n",
              "\n",
              "<svg xmlns=\"http://www.w3.org/2000/svg\" height=\"24px\"viewBox=\"0 0 24 24\"\n",
              "     width=\"24px\">\n",
              "    <g>\n",
              "        <path d=\"M19 3H5c-1.1 0-2 .9-2 2v14c0 1.1.9 2 2 2h14c1.1 0 2-.9 2-2V5c0-1.1-.9-2-2-2zM9 17H7v-7h2v7zm4 0h-2V7h2v10zm4 0h-2v-4h2v4z\"/>\n",
              "    </g>\n",
              "</svg>\n",
              "      </button>\n",
              "\n",
              "<style>\n",
              "  .colab-df-quickchart {\n",
              "      --bg-color: #E8F0FE;\n",
              "      --fill-color: #1967D2;\n",
              "      --hover-bg-color: #E2EBFA;\n",
              "      --hover-fill-color: #174EA6;\n",
              "      --disabled-fill-color: #AAA;\n",
              "      --disabled-bg-color: #DDD;\n",
              "  }\n",
              "\n",
              "  [theme=dark] .colab-df-quickchart {\n",
              "      --bg-color: #3B4455;\n",
              "      --fill-color: #D2E3FC;\n",
              "      --hover-bg-color: #434B5C;\n",
              "      --hover-fill-color: #FFFFFF;\n",
              "      --disabled-bg-color: #3B4455;\n",
              "      --disabled-fill-color: #666;\n",
              "  }\n",
              "\n",
              "  .colab-df-quickchart {\n",
              "    background-color: var(--bg-color);\n",
              "    border: none;\n",
              "    border-radius: 50%;\n",
              "    cursor: pointer;\n",
              "    display: none;\n",
              "    fill: var(--fill-color);\n",
              "    height: 32px;\n",
              "    padding: 0;\n",
              "    width: 32px;\n",
              "  }\n",
              "\n",
              "  .colab-df-quickchart:hover {\n",
              "    background-color: var(--hover-bg-color);\n",
              "    box-shadow: 0 1px 2px rgba(60, 64, 67, 0.3), 0 1px 3px 1px rgba(60, 64, 67, 0.15);\n",
              "    fill: var(--button-hover-fill-color);\n",
              "  }\n",
              "\n",
              "  .colab-df-quickchart-complete:disabled,\n",
              "  .colab-df-quickchart-complete:disabled:hover {\n",
              "    background-color: var(--disabled-bg-color);\n",
              "    fill: var(--disabled-fill-color);\n",
              "    box-shadow: none;\n",
              "  }\n",
              "\n",
              "  .colab-df-spinner {\n",
              "    border: 2px solid var(--fill-color);\n",
              "    border-color: transparent;\n",
              "    border-bottom-color: var(--fill-color);\n",
              "    animation:\n",
              "      spin 1s steps(1) infinite;\n",
              "  }\n",
              "\n",
              "  @keyframes spin {\n",
              "    0% {\n",
              "      border-color: transparent;\n",
              "      border-bottom-color: var(--fill-color);\n",
              "      border-left-color: var(--fill-color);\n",
              "    }\n",
              "    20% {\n",
              "      border-color: transparent;\n",
              "      border-left-color: var(--fill-color);\n",
              "      border-top-color: var(--fill-color);\n",
              "    }\n",
              "    30% {\n",
              "      border-color: transparent;\n",
              "      border-left-color: var(--fill-color);\n",
              "      border-top-color: var(--fill-color);\n",
              "      border-right-color: var(--fill-color);\n",
              "    }\n",
              "    40% {\n",
              "      border-color: transparent;\n",
              "      border-right-color: var(--fill-color);\n",
              "      border-top-color: var(--fill-color);\n",
              "    }\n",
              "    60% {\n",
              "      border-color: transparent;\n",
              "      border-right-color: var(--fill-color);\n",
              "    }\n",
              "    80% {\n",
              "      border-color: transparent;\n",
              "      border-right-color: var(--fill-color);\n",
              "      border-bottom-color: var(--fill-color);\n",
              "    }\n",
              "    90% {\n",
              "      border-color: transparent;\n",
              "      border-bottom-color: var(--fill-color);\n",
              "    }\n",
              "  }\n",
              "</style>\n",
              "\n",
              "      <script>\n",
              "        async function quickchart(key) {\n",
              "          const quickchartButtonEl =\n",
              "            document.querySelector('#' + key + ' button');\n",
              "          quickchartButtonEl.disabled = true;  // To prevent multiple clicks.\n",
              "          quickchartButtonEl.classList.add('colab-df-spinner');\n",
              "          try {\n",
              "            const charts = await google.colab.kernel.invokeFunction(\n",
              "                'suggestCharts', [key], {});\n",
              "          } catch (error) {\n",
              "            console.error('Error during call to suggestCharts:', error);\n",
              "          }\n",
              "          quickchartButtonEl.classList.remove('colab-df-spinner');\n",
              "          quickchartButtonEl.classList.add('colab-df-quickchart-complete');\n",
              "        }\n",
              "        (() => {\n",
              "          let quickchartButtonEl =\n",
              "            document.querySelector('#df-b6effff9-1c37-4329-b6de-b7231eb8e170 button');\n",
              "          quickchartButtonEl.style.display =\n",
              "            google.colab.kernel.accessAllowed ? 'block' : 'none';\n",
              "        })();\n",
              "      </script>\n",
              "    </div>\n",
              "\n",
              "    </div>\n",
              "  </div>\n"
            ],
            "text/plain": [
              "         data     valor data_extracao responsavel\n",
              "0  03/09/2015  0.052531    2025-09-03       Autor\n",
              "1  04/09/2015  0.052531    2025-09-03       Autor\n",
              "2  08/09/2015  0.052531    2025-09-03       Autor\n",
              "3  09/09/2015  0.052531    2025-09-03       Autor\n",
              "4  10/09/2015  0.052531    2025-09-03       Autor"
            ]
          },
          "execution_count": 33,
          "metadata": {},
          "output_type": "execute_result"
        }
      ],
      "source": [
        "# Adicionando colunas\n",
        "from datetime import time\n",
        "from datetime import datetime as dt\n",
        "from datetime import date\n",
        "\n",
        "\n",
        "data_extracao = date.today()\n",
        "\n",
        "df_selic['data_extracao'] = data_extracao\n",
        "df_selic['responsavel'] = \"Autor\"\n",
        "\n",
        "print(df_selic.info())\n",
        "df_selic.head()"
      ]
    },
    {
      "cell_type": "markdown",
      "metadata": {
        "id": "fe192d36"
      },
      "source": [
        "This code snippet demonstrates how to remove duplicate rows from the `df_selic` DataFrame using the `drop_duplicates()` function."
      ]
    },
    {
      "cell_type": "markdown",
      "metadata": {
        "id": "7eb88b49"
      },
      "source": [
        "Loading the data and dropping duplicate rows."
      ]
    },
    {
      "cell_type": "code",
      "execution_count": null,
      "metadata": {
        "colab": {
          "base_uri": "https://localhost:8080/"
        },
        "id": "1c405aae",
        "outputId": "06391739-3d88-4265-b9a9-ea566c9cea9e"
      },
      "outputs": [
        {
          "name": "stdout",
          "output_type": "stream",
          "text": [
            "Shape of DataFrame before dropping duplicates: (2508, 2)\n",
            "Shape of DataFrame after dropping duplicates: (2508, 2)\n",
            "<class 'pandas.core.frame.DataFrame'>\n",
            "RangeIndex: 2508 entries, 0 to 2507\n",
            "Data columns (total 2 columns):\n",
            " #   Column  Non-Null Count  Dtype  \n",
            "---  ------  --------------  -----  \n",
            " 0   data    2508 non-null   object \n",
            " 1   valor   2508 non-null   float64\n",
            "dtypes: float64(1), object(1)\n",
            "memory usage: 39.3+ KB\n",
            "None\n",
            "         data     valor\n",
            "0  03/09/2015  0.052531\n",
            "1  04/09/2015  0.052531\n",
            "2  08/09/2015  0.052531\n",
            "3  09/09/2015  0.052531\n",
            "4  10/09/2015  0.052531\n"
          ]
        }
      ],
      "source": [
        "import pandas as pd\n",
        "\n",
        "# Load the data\n",
        "df_selic = pd.read_json('https://api.bcb.gov.br/dados/serie/bcdata.sgs.11/dados?formato=json&dataInicial=03/09/2015')\n",
        "\n",
        "# Drop duplicate rows\n",
        "print(\"Shape of DataFrame before dropping duplicates:\", df_selic.shape)\n",
        "df_selic.drop_duplicates(keep='last', inplace=True)\n",
        "print(\"Shape of DataFrame after dropping duplicates:\", df_selic.shape)\n",
        "\n",
        "print(df_selic.info())\n",
        "print(df_selic.head())"
      ]
    },
    {
      "cell_type": "code",
      "execution_count": null,
      "metadata": {
        "colab": {
          "base_uri": "https://localhost:8080/",
          "height": 209
        },
        "id": "o07gf4cSojvB",
        "outputId": "46843d46-b3a2-4875-cf4e-6d275a03129b"
      },
      "outputs": [
        {
          "data": {
            "text/html": [
              "<div>\n",
              "<style scoped>\n",
              "    .dataframe tbody tr th:only-of-type {\n",
              "        vertical-align: middle;\n",
              "    }\n",
              "\n",
              "    .dataframe tbody tr th {\n",
              "        vertical-align: top;\n",
              "    }\n",
              "\n",
              "    .dataframe thead th {\n",
              "        text-align: right;\n",
              "    }\n",
              "</style>\n",
              "<table border=\"1\" class=\"dataframe\">\n",
              "  <thead>\n",
              "    <tr style=\"text-align: right;\">\n",
              "      <th></th>\n",
              "      <th>0</th>\n",
              "    </tr>\n",
              "  </thead>\n",
              "  <tbody>\n",
              "    <tr>\n",
              "      <th>data</th>\n",
              "      <td>03/09/2015</td>\n",
              "    </tr>\n",
              "    <tr>\n",
              "      <th>valor</th>\n",
              "      <td>0.052531</td>\n",
              "    </tr>\n",
              "    <tr>\n",
              "      <th>data_extracao</th>\n",
              "      <td>2025-09-03</td>\n",
              "    </tr>\n",
              "    <tr>\n",
              "      <th>responsavel</th>\n",
              "      <td>Autor</td>\n",
              "    </tr>\n",
              "  </tbody>\n",
              "</table>\n",
              "</div><br><label><b>dtype:</b> object</label>"
            ],
            "text/plain": [
              "data             03/09/2015\n",
              "valor              0.052531\n",
              "data_extracao    2025-09-03\n",
              "responsavel           Autor\n",
              "Name: 0, dtype: object"
            ]
          },
          "execution_count": 34,
          "metadata": {},
          "output_type": "execute_result"
        }
      ],
      "source": [
        "df_selic.loc[0]"
      ]
    },
    {
      "cell_type": "code",
      "execution_count": null,
      "metadata": {
        "colab": {
          "base_uri": "https://localhost:8080/",
          "height": 143
        },
        "id": "auCU4TfAotOS",
        "outputId": "9607a67e-b137-4e09-cee2-929d8a3147cc"
      },
      "outputs": [
        {
          "data": {
            "application/vnd.google.colaboratory.intrinsic+json": {
              "summary": "{\n  \"name\": \"df_selic\",\n  \"rows\": 3,\n  \"fields\": [\n    {\n      \"column\": \"data\",\n      \"properties\": {\n        \"dtype\": \"string\",\n        \"num_unique_values\": 3,\n        \"samples\": [\n          \"03/09/2015\",\n          \"02/10/2015\",\n          \"15/12/2015\"\n        ],\n        \"semantic_type\": \"\",\n        \"description\": \"\"\n      }\n    },\n    {\n      \"column\": \"valor\",\n      \"properties\": {\n        \"dtype\": \"number\",\n        \"std\": 0.0,\n        \"min\": 0.052531,\n        \"max\": 0.052531,\n        \"num_unique_values\": 1,\n        \"samples\": [\n          0.052531\n        ],\n        \"semantic_type\": \"\",\n        \"description\": \"\"\n      }\n    },\n    {\n      \"column\": \"data_extracao\",\n      \"properties\": {\n        \"dtype\": \"date\",\n        \"min\": \"2025-09-03\",\n        \"max\": \"2025-09-03\",\n        \"num_unique_values\": 1,\n        \"samples\": [\n          \"2025-09-03\"\n        ],\n        \"semantic_type\": \"\",\n        \"description\": \"\"\n      }\n    },\n    {\n      \"column\": \"responsavel\",\n      \"properties\": {\n        \"dtype\": \"category\",\n        \"num_unique_values\": 1,\n        \"samples\": [\n          \"Autor\"\n        ],\n        \"semantic_type\": \"\",\n        \"description\": \"\"\n      }\n    }\n  ]\n}",
              "type": "dataframe"
            },
            "text/html": [
              "\n",
              "  <div id=\"df-3b326756-13d7-46ce-b7a9-56ab473ab822\" class=\"colab-df-container\">\n",
              "    <div>\n",
              "<style scoped>\n",
              "    .dataframe tbody tr th:only-of-type {\n",
              "        vertical-align: middle;\n",
              "    }\n",
              "\n",
              "    .dataframe tbody tr th {\n",
              "        vertical-align: top;\n",
              "    }\n",
              "\n",
              "    .dataframe thead th {\n",
              "        text-align: right;\n",
              "    }\n",
              "</style>\n",
              "<table border=\"1\" class=\"dataframe\">\n",
              "  <thead>\n",
              "    <tr style=\"text-align: right;\">\n",
              "      <th></th>\n",
              "      <th>data</th>\n",
              "      <th>valor</th>\n",
              "      <th>data_extracao</th>\n",
              "      <th>responsavel</th>\n",
              "    </tr>\n",
              "  </thead>\n",
              "  <tbody>\n",
              "    <tr>\n",
              "      <th>0</th>\n",
              "      <td>03/09/2015</td>\n",
              "      <td>0.052531</td>\n",
              "      <td>2025-09-03</td>\n",
              "      <td>Autor</td>\n",
              "    </tr>\n",
              "    <tr>\n",
              "      <th>20</th>\n",
              "      <td>02/10/2015</td>\n",
              "      <td>0.052531</td>\n",
              "      <td>2025-09-03</td>\n",
              "      <td>Autor</td>\n",
              "    </tr>\n",
              "    <tr>\n",
              "      <th>70</th>\n",
              "      <td>15/12/2015</td>\n",
              "      <td>0.052531</td>\n",
              "      <td>2025-09-03</td>\n",
              "      <td>Autor</td>\n",
              "    </tr>\n",
              "  </tbody>\n",
              "</table>\n",
              "</div>\n",
              "    <div class=\"colab-df-buttons\">\n",
              "\n",
              "  <div class=\"colab-df-container\">\n",
              "    <button class=\"colab-df-convert\" onclick=\"convertToInteractive('df-3b326756-13d7-46ce-b7a9-56ab473ab822')\"\n",
              "            title=\"Convert this dataframe to an interactive table.\"\n",
              "            style=\"display:none;\">\n",
              "\n",
              "  <svg xmlns=\"http://www.w3.org/2000/svg\" height=\"24px\" viewBox=\"0 -960 960 960\">\n",
              "    <path d=\"M120-120v-720h720v720H120Zm60-500h600v-160H180v160Zm220 220h160v-160H400v160Zm0 220h160v-160H400v160ZM180-400h160v-160H180v160Zm440 0h160v-160H620v160ZM180-180h160v-160H180v160Zm440 0h160v-160H620v160Z\"/>\n",
              "  </svg>\n",
              "    </button>\n",
              "\n",
              "  <style>\n",
              "    .colab-df-container {\n",
              "      display:flex;\n",
              "      gap: 12px;\n",
              "    }\n",
              "\n",
              "    .colab-df-convert {\n",
              "      background-color: #E8F0FE;\n",
              "      border: none;\n",
              "      border-radius: 50%;\n",
              "      cursor: pointer;\n",
              "      display: none;\n",
              "      fill: #1967D2;\n",
              "      height: 32px;\n",
              "      padding: 0 0 0 0;\n",
              "      width: 32px;\n",
              "    }\n",
              "\n",
              "    .colab-df-convert:hover {\n",
              "      background-color: #E2EBFA;\n",
              "      box-shadow: 0px 1px 2px rgba(60, 64, 67, 0.3), 0px 1px 3px 1px rgba(60, 64, 67, 0.15);\n",
              "      fill: #174EA6;\n",
              "    }\n",
              "\n",
              "    .colab-df-buttons div {\n",
              "      margin-bottom: 4px;\n",
              "    }\n",
              "\n",
              "    [theme=dark] .colab-df-convert {\n",
              "      background-color: #3B4455;\n",
              "      fill: #D2E3FC;\n",
              "    }\n",
              "\n",
              "    [theme=dark] .colab-df-convert:hover {\n",
              "      background-color: #434B5C;\n",
              "      box-shadow: 0px 1px 3px 1px rgba(0, 0, 0, 0.15);\n",
              "      filter: drop-shadow(0px 1px 2px rgba(0, 0, 0, 0.3));\n",
              "      fill: #FFFFFF;\n",
              "    }\n",
              "  </style>\n",
              "\n",
              "    <script>\n",
              "      const buttonEl =\n",
              "        document.querySelector('#df-3b326756-13d7-46ce-b7a9-56ab473ab822 button.colab-df-convert');\n",
              "      buttonEl.style.display =\n",
              "        google.colab.kernel.accessAllowed ? 'block' : 'none';\n",
              "\n",
              "      async function convertToInteractive(key) {\n",
              "        const element = document.querySelector('#df-3b326756-13d7-46ce-b7a9-56ab473ab822');\n",
              "        const dataTable =\n",
              "          await google.colab.kernel.invokeFunction('convertToInteractive',\n",
              "                                                    [key], {});\n",
              "        if (!dataTable) return;\n",
              "\n",
              "        const docLinkHtml = 'Like what you see? Visit the ' +\n",
              "          '<a target=\"_blank\" href=https://colab.research.google.com/notebooks/data_table.ipynb>data table notebook</a>'\n",
              "          + ' to learn more about interactive tables.';\n",
              "        element.innerHTML = '';\n",
              "        dataTable['output_type'] = 'display_data';\n",
              "        await google.colab.output.renderOutput(dataTable, element);\n",
              "        const docLink = document.createElement('div');\n",
              "        docLink.innerHTML = docLinkHtml;\n",
              "        element.appendChild(docLink);\n",
              "      }\n",
              "    </script>\n",
              "  </div>\n",
              "\n",
              "\n",
              "    <div id=\"df-3a72abb8-0638-4381-b85e-5b142b896f17\">\n",
              "      <button class=\"colab-df-quickchart\" onclick=\"quickchart('df-3a72abb8-0638-4381-b85e-5b142b896f17')\"\n",
              "                title=\"Suggest charts\"\n",
              "                style=\"display:none;\">\n",
              "\n",
              "<svg xmlns=\"http://www.w3.org/2000/svg\" height=\"24px\"viewBox=\"0 0 24 24\"\n",
              "     width=\"24px\">\n",
              "    <g>\n",
              "        <path d=\"M19 3H5c-1.1 0-2 .9-2 2v14c0 1.1.9 2 2 2h14c1.1 0 2-.9 2-2V5c0-1.1-.9-2-2-2zM9 17H7v-7h2v7zm4 0h-2V7h2v10zm4 0h-2v-4h2v4z\"/>\n",
              "    </g>\n",
              "</svg>\n",
              "      </button>\n",
              "\n",
              "<style>\n",
              "  .colab-df-quickchart {\n",
              "      --bg-color: #E8F0FE;\n",
              "      --fill-color: #1967D2;\n",
              "      --hover-bg-color: #E2EBFA;\n",
              "      --hover-fill-color: #174EA6;\n",
              "      --disabled-fill-color: #AAA;\n",
              "      --disabled-bg-color: #DDD;\n",
              "  }\n",
              "\n",
              "  [theme=dark] .colab-df-quickchart {\n",
              "      --bg-color: #3B4455;\n",
              "      --fill-color: #D2E3FC;\n",
              "      --hover-bg-color: #434B5C;\n",
              "      --hover-fill-color: #FFFFFF;\n",
              "      --disabled-bg-color: #3B4455;\n",
              "      --disabled-fill-color: #666;\n",
              "  }\n",
              "\n",
              "  .colab-df-quickchart {\n",
              "    background-color: var(--bg-color);\n",
              "    border: none;\n",
              "    border-radius: 50%;\n",
              "    cursor: pointer;\n",
              "    display: none;\n",
              "    fill: var(--fill-color);\n",
              "    height: 32px;\n",
              "    padding: 0;\n",
              "    width: 32px;\n",
              "  }\n",
              "\n",
              "  .colab-df-quickchart:hover {\n",
              "    background-color: var(--hover-bg-color);\n",
              "    box-shadow: 0 1px 2px rgba(60, 64, 67, 0.3), 0 1px 3px 1px rgba(60, 64, 67, 0.15);\n",
              "    fill: var(--button-hover-fill-color);\n",
              "  }\n",
              "\n",
              "  .colab-df-quickchart-complete:disabled,\n",
              "  .colab-df-quickchart-complete:disabled:hover {\n",
              "    background-color: var(--disabled-bg-color);\n",
              "    fill: var(--disabled-fill-color);\n",
              "    box-shadow: none;\n",
              "  }\n",
              "\n",
              "  .colab-df-spinner {\n",
              "    border: 2px solid var(--fill-color);\n",
              "    border-color: transparent;\n",
              "    border-bottom-color: var(--fill-color);\n",
              "    animation:\n",
              "      spin 1s steps(1) infinite;\n",
              "  }\n",
              "\n",
              "  @keyframes spin {\n",
              "    0% {\n",
              "      border-color: transparent;\n",
              "      border-bottom-color: var(--fill-color);\n",
              "      border-left-color: var(--fill-color);\n",
              "    }\n",
              "    20% {\n",
              "      border-color: transparent;\n",
              "      border-left-color: var(--fill-color);\n",
              "      border-top-color: var(--fill-color);\n",
              "    }\n",
              "    30% {\n",
              "      border-color: transparent;\n",
              "      border-left-color: var(--fill-color);\n",
              "      border-top-color: var(--fill-color);\n",
              "      border-right-color: var(--fill-color);\n",
              "    }\n",
              "    40% {\n",
              "      border-color: transparent;\n",
              "      border-right-color: var(--fill-color);\n",
              "      border-top-color: var(--fill-color);\n",
              "    }\n",
              "    60% {\n",
              "      border-color: transparent;\n",
              "      border-right-color: var(--fill-color);\n",
              "    }\n",
              "    80% {\n",
              "      border-color: transparent;\n",
              "      border-right-color: var(--fill-color);\n",
              "      border-bottom-color: var(--fill-color);\n",
              "    }\n",
              "    90% {\n",
              "      border-color: transparent;\n",
              "      border-bottom-color: var(--fill-color);\n",
              "    }\n",
              "  }\n",
              "</style>\n",
              "\n",
              "      <script>\n",
              "        async function quickchart(key) {\n",
              "          const quickchartButtonEl =\n",
              "            document.querySelector('#' + key + ' button');\n",
              "          quickchartButtonEl.disabled = true;  // To prevent multiple clicks.\n",
              "          quickchartButtonEl.classList.add('colab-df-spinner');\n",
              "          try {\n",
              "            const charts = await google.colab.kernel.invokeFunction(\n",
              "                'suggestCharts', [key], {});\n",
              "          } catch (error) {\n",
              "            console.error('Error during call to suggestCharts:', error);\n",
              "          }\n",
              "          quickchartButtonEl.classList.remove('colab-df-spinner');\n",
              "          quickchartButtonEl.classList.add('colab-df-quickchart-complete');\n",
              "        }\n",
              "        (() => {\n",
              "          let quickchartButtonEl =\n",
              "            document.querySelector('#df-3a72abb8-0638-4381-b85e-5b142b896f17 button');\n",
              "          quickchartButtonEl.style.display =\n",
              "            google.colab.kernel.accessAllowed ? 'block' : 'none';\n",
              "        })();\n",
              "      </script>\n",
              "    </div>\n",
              "\n",
              "    </div>\n",
              "  </div>\n"
            ],
            "text/plain": [
              "          data     valor data_extracao responsavel\n",
              "0   03/09/2015  0.052531    2025-09-03       Autor\n",
              "20  02/10/2015  0.052531    2025-09-03       Autor\n",
              "70  15/12/2015  0.052531    2025-09-03       Autor"
            ]
          },
          "execution_count": 35,
          "metadata": {},
          "output_type": "execute_result"
        }
      ],
      "source": [
        "df_selic.loc[[0,20,70]]"
      ]
    },
    {
      "cell_type": "code",
      "execution_count": null,
      "metadata": {
        "colab": {
          "base_uri": "https://localhost:8080/"
        },
        "id": "I3XUI2CCo3Tp",
        "outputId": "d36ce3d5-8da1-4a35-a9b2-5174adaee673"
      },
      "outputs": [
        {
          "name": "stdout",
          "output_type": "stream",
          "text": [
            "<class 'pandas.core.series.Series'>\n"
          ]
        }
      ],
      "source": [
        "teste = df_selic['valor']<0.01\n",
        "print(type(teste))"
      ]
    },
    {
      "cell_type": "code",
      "execution_count": null,
      "metadata": {
        "colab": {
          "base_uri": "https://localhost:8080/"
        },
        "id": "zBJUQnxBpNYm",
        "outputId": "9d4ed1db-135f-4c61-9393-82524219d63b"
      },
      "outputs": [
        {
          "name": "stdout",
          "output_type": "stream",
          "text": [
            "0       False\n",
            "1       False\n",
            "2       False\n",
            "3       False\n",
            "4       False\n",
            "        ...  \n",
            "2503    False\n",
            "2504    False\n",
            "2505    False\n",
            "2506    False\n",
            "2507    False\n",
            "Name: valor, Length: 2508, dtype: bool\n"
          ]
        }
      ],
      "source": [
        "print(teste)"
      ]
    },
    {
      "cell_type": "markdown",
      "metadata": {
        "id": "lSM3rpO9qL8-"
      },
      "source": [
        "# Aplicando a aula =\n",
        "\n",
        "Suponha, agora que voce trabalha em uma loja de que vendes itens variados, por conta de um erro no sistema de venda, não mostra o valor unitário dos itens vendidos e existem algumas duplicações de linhas. Voce precisa mostrar itens com valores acima de R$ 50,00 para o planejamento da empresa em uma ação de marketing. Vamos juntos para resolver isso?"
      ]
    },
    {
      "cell_type": "code",
      "execution_count": null,
      "metadata": {
        "colab": {
          "base_uri": "https://localhost:8080/"
        },
        "id": "1qUOCPSArOfe",
        "outputId": "9a6eba6e-fe68-4dd8-f66c-ed656c0b6628"
      },
      "outputs": [
        {
          "name": "stdout",
          "output_type": "stream",
          "text": [
            "        nome  quantidade de itens comprados tipo de item  Receita total\n",
            "0  Produto A                              3   Eletrônico            120\n",
            "1  Produto B                              1    Vestuário             80\n",
            "2  Produto C                              4     Alimento             60\n",
            "3  Produto D                              3   Eletrônico            120\n",
            "4  Produto E                              2     Alimento             90\n"
          ]
        }
      ],
      "source": [
        "import pandas as pd\n",
        "\n",
        "#Criando DataFrame com 5 linhas de dados\n",
        "data = {\n",
        "    'nome': ['Produto A', 'Produto B', 'Produto C', 'Produto D', 'Produto E'],\n",
        "    'quantidade de itens comprados': [3, 1, 4, 3, 2],\n",
        "    'tipo de item': ['Eletrônico', 'Vestuário', 'Alimento', 'Eletrônico', 'Alimento'],\n",
        "    'Receita total':[120, 80, 60, 120, 90]\n",
        "}\n",
        "\n",
        "df = pd.DataFrame(data)\n",
        "\n",
        "print(df)"
      ]
    },
    {
      "cell_type": "code",
      "execution_count": null,
      "metadata": {
        "colab": {
          "base_uri": "https://localhost:8080/"
        },
        "id": "RxNYdxs-tHSg",
        "outputId": "e8db92e3-73cf-4a19-f7de-7634f9a26802"
      },
      "outputs": [
        {
          "name": "stdout",
          "output_type": "stream",
          "text": [
            "        nome  quantidade de itens comprados tipo de item  Receita total\n",
            "0  Produto A                              3   Eletrônico            120\n",
            "1  Produto B                              1    Vestuário             80\n",
            "2  Produto C                              4     Alimento             60\n",
            "3  Produto D                              3   Eletrônico            120\n",
            "4  Produto E                              2     Alimento             90\n"
          ]
        }
      ],
      "source": [
        "# Duplicando uma linha\n",
        "df.drop_duplicates(keep='last', inplace=True)\n",
        "print(df)\n"
      ]
    },
    {
      "cell_type": "code",
      "execution_count": null,
      "metadata": {
        "colab": {
          "base_uri": "https://localhost:8080/"
        },
        "id": "dLaCzWWWtd7n",
        "outputId": "7691dec8-af62-4e94-b5d6-12386b2dee62"
      },
      "outputs": [
        {
          "name": "stdout",
          "output_type": "stream",
          "text": [
            "Itens acima de 50 reais:\n",
            "        nome  quantidade de itens comprados tipo de item  Receita total  \\\n",
            "1  Produto B                              1    Vestuário             80   \n",
            "\n",
            "   preço do item  \n",
            "1           80.0  \n"
          ]
        }
      ],
      "source": [
        "# Calculando a coluna preço do item\n",
        "df['preço do item'] = df['Receita total']/df['quantidade de itens comprados']\n",
        "\n",
        "# Selecionando o preço do item acima de 50 reais\n",
        "itens_acima_de_50 = df[df['preço do item'] > 50]\n",
        "\n",
        "print(\"Itens acima de 50 reais:\")\n",
        "print(itens_acima_de_50)"
      ]
    },
    {
      "cell_type": "markdown",
      "metadata": {
        "id": "b7gPQxOuvtv0"
      },
      "source": [
        "# UNIDADE 03 - AULA 04 - Visualização de dados em Python"
      ]
    },
    {
      "cell_type": "markdown",
      "metadata": {
        "id": "17cHDonjv-mn"
      },
      "source": [
        "# Tópicos na nossa aula =\n",
        "\n",
        "* Matplotlib;\n",
        "* Bibliotecas Pandas;\n",
        "* Biblioteca Seaborn;\n",
        "\n",
        "\n"
      ]
    },
    {
      "cell_type": "markdown",
      "metadata": {
        "id": "G015lS_lOCud"
      },
      "source": [
        "# Matplotlib =\n",
        "\n",
        "É uma biblioteca de visualização, que está entre as mais populares em Python.\n",
        "\n"
      ]
    },
    {
      "cell_type": "markdown",
      "metadata": {
        "id": "F6EqG5ZwPvTH"
      },
      "source": [
        "# Matplotlib =\n",
        "\n",
        "A biblioteca matplotlib desempenha um papel central na criação de gráficos de Python, sendo amplamente adotada em projetos de visualização de dados.\n",
        "\n",
        "Anteriormente, os cientistas tinham que gerar gráficos em outros softwares após extrair resultados de suas análises, tornando o processo incômodo.\n",
        "\n",
        "Assim a biblioteca Matplotlib, surgiu como uma solução eficiente para criar visualizações em Python.\n",
        "\n",
        "Vamos gerar duas listas de valores inteiros aleatórios usando o módulo \"Random\" e criar um gráfico de linhas com Matplotlib."
      ]
    },
    {
      "cell_type": "code",
      "execution_count": null,
      "metadata": {
        "colab": {
          "base_uri": "https://localhost:8080/",
          "height": 466
        },
        "id": "rzl2zCueRjSf",
        "outputId": "3118d519-f280-40a9-e859-1aa8c2943e8b"
      },
      "outputs": [
        {
          "name": "stdout",
          "output_type": "stream",
          "text": [
            "[72, 66, 92, 70, 4, 41, 85, 50, 36, 38, 73, 16, 27, 98, 42, 33, 43, 67, 45, 13]\n"
          ]
        },
        {
          "data": {
            "text/plain": [
              "[<matplotlib.lines.Line2D at 0x7f4f8971a360>]"
            ]
          },
          "execution_count": 2,
          "metadata": {},
          "output_type": "execute_result"
        },
        {
          "data": {
            "image/png": "[encoded data removed]",
            "text/plain": [
              "<Figure size 640x480 with 1 Axes>"
            ]
          },
          "metadata": {},
          "output_type": "display_data"
        }
      ],
      "source": [
        "import matplotlib.pyplot as plt\n",
        "import random\n",
        "\n",
        "dados1 = random.sample(range(100), k=20)\n",
        "dados2 = random.sample(range(100), k=20)\n",
        "\n",
        "print(dados1)\n",
        "plt.plot(dados1, dados2)"
      ]
    },
    {
      "cell_type": "code",
      "execution_count": null,
      "metadata": {
        "colab": {
          "base_uri": "https://localhost:8080/",
          "height": 466
        },
        "id": "-1gecVVGTZ2i",
        "outputId": "e36cf489-694e-4dd1-f356-e15615c4f884"
      },
      "outputs": [
        {
          "name": "stdout",
          "output_type": "stream",
          "text": [
            "[92, 11, 91, 45, 53, 5, 60, 99, 10, 15, 59, 95, 75, 55, 69, 33, 40, 74, 84, 98]\n"
          ]
        },
        {
          "data": {
            "text/plain": [
              "<BarContainer object of 20 artists>"
            ]
          },
          "execution_count": 3,
          "metadata": {},
          "output_type": "execute_result"
        },
        {
          "data": {
            "image/png": "[encoded data removed]",
            "text/plain": [
              "<Figure size 640x480 with 1 Axes>"
            ]
          },
          "metadata": {},
          "output_type": "display_data"
        }
      ],
      "source": [
        "import matplotlib.pyplot as plt\n",
        "import random\n",
        "\n",
        "dados1 = random.sample(range(100), k=20)\n",
        "dados2 = random.sample(range(100), k=20)\n",
        "\n",
        "print(dados1)\n",
        "#muda o plot por bar que representa outro grafico\n",
        "plt.bar(dados1, dados2)"
      ]
    },
    {
      "cell_type": "markdown",
      "metadata": {
        "id": "8VI8pQGxToh0"
      },
      "source": [
        "# Bibliotecas Pandas =\n",
        "\n",
        "Já sabemos muitas funcionalidades da bibliotecas Pandas, e uma outra é a respeito da visualização gráfica."
      ]
    },
    {
      "cell_type": "markdown",
      "metadata": {
        "id": "OrTBcu0GUGU6"
      },
      "source": [
        "# Pandas =\n",
        "\n",
        "As principais estrutura de dados da biblioteca Pandas (Serie e DataFrame) possuem o método plot(), construído com base no matplotlib e que permite criar gráficos a partir dos dados nas estruturas.\n",
        "\n",
        "                         Vamos de exemplo!!!"
      ]
    },
    {
      "cell_type": "code",
      "execution_count": null,
      "metadata": {
        "colab": {
          "base_uri": "https://localhost:8080/",
          "height": 468
        },
        "id": "QRQS_ow2Tjie",
        "outputId": "91e342d1-371e-4f69-ebb4-61e86580a015"
      },
      "outputs": [
        {
          "data": {
            "text/plain": [
              "<Axes: xlabel='Produto'>"
            ]
          },
          "execution_count": 4,
          "metadata": {},
          "output_type": "execute_result"
        },
        {
          "data": {
            "image/png": "[encoded data removed]",
            "text/plain": [
              "<Figure size 640x480 with 1 Axes>"
            ]
          },
          "metadata": {},
          "output_type": "display_data"
        }
      ],
      "source": [
        "import pandas as pd\n",
        "dados = {\n",
        "    'Produto':['A', 'B', ' C'],\n",
        "    'qtde_vendida': [33, 50, 45]\n",
        "}\n",
        "\n",
        "df = pd.DataFrame(dados)\n",
        "df.plot(x='Produto', y='qtde_vendida', kind='bar')"
      ]
    },
    {
      "cell_type": "code",
      "execution_count": null,
      "metadata": {
        "colab": {
          "base_uri": "https://localhost:8080/",
          "height": 423
        },
        "id": "-ZCj7OsKWM_3",
        "outputId": "52f8fec1-e172-4edd-ec75-ac7fd25db175"
      },
      "outputs": [
        {
          "data": {
            "text/plain": [
              "<Axes: ylabel='qtde_vendida'>"
            ]
          },
          "execution_count": 10,
          "metadata": {},
          "output_type": "execute_result"
        },
        {
          "data": {
            "image/png": "[encoded data removed]",
            "text/plain": [
              "<Figure size 640x480 with 1 Axes>"
            ]
          },
          "metadata": {},
          "output_type": "display_data"
        }
      ],
      "source": [
        "df.plot(x='Produto', y='qtde_vendida', kind='pie')"
      ]
    },
    {
      "cell_type": "code",
      "execution_count": null,
      "metadata": {
        "colab": {
          "base_uri": "https://localhost:8080/",
          "height": 467
        },
        "id": "96N1a2LhWaGE",
        "outputId": "e9b745d1-b6ee-4132-ad8f-255bcab4d91a"
      },
      "outputs": [
        {
          "data": {
            "text/plain": [
              "<Axes: xlabel='Produto'>"
            ]
          },
          "execution_count": 7,
          "metadata": {},
          "output_type": "execute_result"
        },
        {
          "data": {
            "image/png": "[encoded data removed]",
            "text/plain": [
              "<Figure size 640x480 with 1 Axes>"
            ]
          },
          "metadata": {},
          "output_type": "display_data"
        }
      ],
      "source": [
        "df.plot(x='Produto', y='qtde_vendida', kind='line')"
      ]
    },
    {
      "cell_type": "markdown",
      "metadata": {
        "id": "6_1ZMdrXl_8F"
      },
      "source": [
        "# Biblioteca Seaborn =\n",
        "\n",
        "Seaborn é uma biblioteca Python, construída sobre a base matplotlib, destaca-se na criação de gráficos de forma especializada.\n",
        "\n",
        "Pode usar ela importando-a na seguinte forma: \"import seaborn as sns\" em seus projetos;\n",
        "\n",
        "Uma característica notável Seaborn é seu repositório de conjuntos de dados prontos para uso, facilitando a função das funcionalidades.\n",
        "\n",
        "Voce pode acessar esse conjuntos de dados em https://github.com/mwaskom/seaborn-data"
      ]
    },
    {
      "cell_type": "code",
      "execution_count": null,
      "metadata": {
        "colab": {
          "base_uri": "https://localhost:8080/"
        },
        "id": "1zum4lmqrbX2",
        "outputId": "0817d759-6303-4e96-8307-7fc3068ae6c3"
      },
      "outputs": [
        {
          "name": "stdout",
          "output_type": "stream",
          "text": [
            "     total_bill   tip     sex smoker   day    time  size\n",
            "0         16.99  1.01  Female     No   Sun  Dinner     2\n",
            "1         10.34  1.66    Male     No   Sun  Dinner     3\n",
            "2         21.01  3.50    Male     No   Sun  Dinner     3\n",
            "3         23.68  3.31    Male     No   Sun  Dinner     2\n",
            "4         24.59  3.61  Female     No   Sun  Dinner     4\n",
            "..          ...   ...     ...    ...   ...     ...   ...\n",
            "239       29.03  5.92    Male     No   Sat  Dinner     3\n",
            "240       27.18  2.00  Female    Yes   Sat  Dinner     2\n",
            "241       22.67  2.00    Male    Yes   Sat  Dinner     2\n",
            "242       17.82  1.75    Male     No   Sat  Dinner     2\n",
            "243       18.78  3.00  Female     No  Thur  Dinner     2\n",
            "\n",
            "[244 rows x 7 columns]\n"
          ]
        }
      ],
      "source": [
        "import seaborn as sns\n",
        "import matplotlib.pyplot as plt\n",
        "\n",
        "sns.set_theme(style=\"whitegrid\") # opções: darkgrid, whitegrid, dark, white, ticks\n",
        "\n",
        "df_tips = sns.load_dataset(\"tips\")\n",
        "\n",
        "print(df_tips)\n",
        "\n"
      ]
    },
    {
      "cell_type": "code",
      "execution_count": null,
      "metadata": {
        "colab": {
          "base_uri": "https://localhost:8080/",
          "height": 751
        },
        "id": "dFRAfQuZrfmU",
        "outputId": "29360769-1f3e-40ec-dd19-876af1c7d293"
      },
      "outputs": [
        {
          "name": "stderr",
          "output_type": "stream",
          "text": [
            "/tmp/ipython-input-2106376799.py:10: FutureWarning: \n",
            "\n",
            "Passing `palette` without assigning `hue` is deprecated and will be removed in v0.14.0. Assign the `x` variable to `hue` and set `legend=False` for the same effect.\n",
            "\n",
            "  sns.barplot(data=df_tips, x='sex', y='total_bill', ax=ax[0], palette=['royalblue', 'lightcoral'])\n",
            "/tmp/ipython-input-2106376799.py:15: FutureWarning: \n",
            "\n",
            "Passing `palette` without assigning `hue` is deprecated and will be removed in v0.14.0. Assign the `x` variable to `hue` and set `legend=False` for the same effect.\n",
            "\n",
            "  sns.barplot(data=df_tips, x='sex', y='total_bill', ax=ax[1], estimator=sum, palette=['royalblue', 'lightcoral'])\n",
            "/tmp/ipython-input-2106376799.py:19: FutureWarning: \n",
            "\n",
            "Passing `palette` without assigning `hue` is deprecated and will be removed in v0.14.0. Assign the `x` variable to `hue` and set `legend=False` for the same effect.\n",
            "\n",
            "  sns.barplot(data=df_tips, x='sex', y='total_bill', ax=ax[2], estimator=len, palette=['royalblue', 'lightcoral'])\n"
          ]
        },
        {
          "data": {
            "text/plain": [
              "<Axes: xlabel='sex', ylabel='total_bill'>"
            ]
          },
          "execution_count": 9,
          "metadata": {},
          "output_type": "execute_result"
        },
        {
          "data": {
            "image/png": "[encoded data removed]",
            "text/plain": [
              "<Figure size 1500x500 with 3 Axes>"
            ]
          },
          "metadata": {},
          "output_type": "display_data"
        }
      ],
      "source": [
        "import matplotlib.pyplot as plt\n",
        "import seaborn as sns\n",
        "\n",
        "sns.set_theme(style=\"whitegrid\") # opções: darkgrid, whitegrid, dark, white, ticks\n",
        "\n",
        "df_tips = sns.load_dataset(\"tips\")\n",
        "\n",
        "fig, ax = plt.subplots(1, 3, figsize=(15, 5))\n",
        "\n",
        "sns.barplot(data=df_tips, x='sex', y='total_bill', ax=ax[0], palette=['royalblue', 'lightcoral'])\n",
        "#media por sexo\n",
        "\n",
        "\n",
        "\n",
        "sns.barplot(data=df_tips, x='sex', y='total_bill', ax=ax[1], estimator=sum, palette=['royalblue', 'lightcoral'])\n",
        "#O motivo para optar pelo \"barplot()\" muitas vezes se baseia nos parâmetros adicionais e na flexibilidade que ele oferece.\n",
        "#vamos dar destaque ao parâmetro \"estimator\", que, por padrão, calcula a média.\n",
        "\n",
        "sns.barplot(data=df_tips, x='sex', y='total_bill', ax=ax[2], estimator=len, palette=['royalblue', 'lightcoral'])\n",
        "#a função \"barplot()\" do Seaborn apresenta uma variedade opções estatísticas,\n",
        "#permitindo que os cientistas de dados escolham a métrica que melhor se ajusta aos seus objetivos.\n",
        "#Por exemplo, voce pode calcular a soma, a contagem ou até mesmo outras métricas personalizadas.\n",
        "#Isso é particularmente útil quando voce deseja exibir informações diferentes nas barras\n",
        "#como a quantidade (len) ou a soma (sum) dos valores, em vez da media."
      ]
    },
    {
      "cell_type": "markdown",
      "metadata": {
        "id": "npoQO2Svg5B3"
      },
      "source": [
        "# Aplicando a aula =\n",
        "\n",
        "Suponha que voce precise responder qual o período os clientes gastam mais em um restaurante e se esse mesmo período é o que eles dão mais gorjetas, como podemos responder isso graficamente?"
      ]
    },
    {
      "cell_type": "code",
      "execution_count": null,
      "metadata": {
        "colab": {
          "base_uri": "https://localhost:8080/",
          "height": 670
        },
        "id": "Ab-E5aIGkDrK",
        "outputId": "e00f9256-d8d1-4a96-f16b-459eede9c322"
      },
      "outputs": [
        {
          "name": "stderr",
          "output_type": "stream",
          "text": [
            "/tmp/ipython-input-193841035.py:8: FutureWarning: \n",
            "\n",
            "The `ci` parameter is deprecated. Use `errorbar=None` for the same effect.\n",
            "\n",
            "  sns.barplot(x='time', y='total_bill', data=df, estimator=sum, ci=None, palette=['red', 'yellow'])\n",
            "/tmp/ipython-input-193841035.py:8: FutureWarning: \n",
            "\n",
            "Passing `palette` without assigning `hue` is deprecated and will be removed in v0.14.0. Assign the `x` variable to `hue` and set `legend=False` for the same effect.\n",
            "\n",
            "  sns.barplot(x='time', y='total_bill', data=df, estimator=sum, ci=None, palette=['red', 'yellow'])\n"
          ]
        },
        {
          "data": {
            "image/png": "[encoded data removed]",
            "text/plain": [
              "<Figure size 800x500 with 1 Axes>"
            ]
          },
          "metadata": {},
          "output_type": "display_data"
        }
      ],
      "source": [
        "import seaborn as sns\n",
        "import matplotlib.pyplot as plt\n",
        "sns.set(style=\"whitegrid\")\n",
        "\n",
        "df = sns.load_dataset('tips')\n",
        "\n",
        "plt.figure(figsize=(8, 5))\n",
        "sns.barplot(x='time', y='total_bill', data=df, estimator=sum, ci=None, palette=['red', 'yellow'])\n",
        "plt.xlabel('Período(Time)')\n",
        "plt.ylabel('Total de Gastos')\n",
        "plt.title('Total de Gastos por Período')\n",
        "plt.show()"
      ]
    },
    {
      "cell_type": "code",
      "execution_count": null,
      "metadata": {
        "colab": {
          "base_uri": "https://localhost:8080/",
          "height": 670
        },
        "id": "ekivatVMlT6V",
        "outputId": "c6360a55-157f-4cdb-de51-771ca63978ae"
      },
      "outputs": [
        {
          "name": "stderr",
          "output_type": "stream",
          "text": [
            "/tmp/ipython-input-1554574950.py:2: FutureWarning: \n",
            "\n",
            "The `ci` parameter is deprecated. Use `errorbar=None` for the same effect.\n",
            "\n",
            "  sns.barplot(x='time', y='total_bill', data=df, ci=None, palette=[\"green\", \"purple\"])\n",
            "/tmp/ipython-input-1554574950.py:2: FutureWarning: \n",
            "\n",
            "Passing `palette` without assigning `hue` is deprecated and will be removed in v0.14.0. Assign the `x` variable to `hue` and set `legend=False` for the same effect.\n",
            "\n",
            "  sns.barplot(x='time', y='total_bill', data=df, ci=None, palette=[\"green\", \"purple\"])\n"
          ]
        },
        {
          "data": {
            "image/png": "[encoded data removed]",
            "text/plain": [
              "<Figure size 800x500 with 1 Axes>"
            ]
          },
          "metadata": {},
          "output_type": "display_data"
        }
      ],
      "source": [
        "plt.figure(figsize=(8, 5))\n",
        "sns.barplot(x='time', y='total_bill', data=df, ci=None, palette=[\"green\", \"purple\"])\n",
        "plt.xlabel('Período(Time)')\n",
        "plt.ylabel('Média de Gastos')\n",
        "plt.title('Média de Gastos por Período(Almoço ou Jantar)')\n",
        "plt.show()"
      ]
    },
    {
      "cell_type": "code",
      "execution_count": null,
      "metadata": {
        "colab": {
          "base_uri": "https://localhost:8080/",
          "height": 839
        },
        "id": "mvI9q2hrmag6",
        "outputId": "f06e8a0a-34fe-4b18-db4c-51def6fb19b5"
      },
      "outputs": [
        {
          "name": "stderr",
          "output_type": "stream",
          "text": [
            "/tmp/ipython-input-2936453670.py:3: FutureWarning: \n",
            "\n",
            "The `ci` parameter is deprecated. Use `errorbar=None` for the same effect.\n",
            "\n",
            "  sns.barplot(x='time', y='tip', data=df, ci=None, palette=['pink', 'orange'])\n",
            "/tmp/ipython-input-2936453670.py:3: FutureWarning: \n",
            "\n",
            "Passing `palette` without assigning `hue` is deprecated and will be removed in v0.14.0. Assign the `x` variable to `hue` and set `legend=False` for the same effect.\n",
            "\n",
            "  sns.barplot(x='time', y='tip', data=df, ci=None, palette=['pink', 'orange'])\n"
          ]
        },
        {
          "data": {
            "text/html": [
              "<div style=\"max-width:800px; border: 1px solid var(--colab-border-color);\"><style>\n",
              "      pre.function-repr-contents {\n",
              "        overflow-x: auto;\n",
              "        padding: 8px 12px;\n",
              "        max-height: 500px;\n",
              "      }\n",
              "\n",
              "      pre.function-repr-contents.function-repr-contents-collapsed {\n",
              "        cursor: pointer;\n",
              "        max-height: 100px;\n",
              "      }\n",
              "    </style>\n",
              "    <pre style=\"white-space: initial; background:\n",
              "         var(--colab-secondary-surface-color); padding: 8px 12px;\n",
              "         border-bottom: 1px solid var(--colab-border-color);\"><b>matplotlib.pyplot.show</b><br/>def show(*args, **kwargs) -&gt; None</pre><pre class=\"function-repr-contents function-repr-contents-collapsed\" style=\"\"><a class=\"filepath\" style=\"display:none\" href=\"#\">/usr/local/lib/python3.12/dist-packages/matplotlib/pyplot.py</a>Display all open figures.\n",
              "\n",
              "Parameters\n",
              "----------\n",
              "block : bool, optional\n",
              "    Whether to wait for all figures to be closed before returning.\n",
              "\n",
              "    If `True` block and run the GUI main loop until all figure windows\n",
              "    are closed.\n",
              "\n",
              "    If `False` ensure that all figure windows are displayed and return\n",
              "    immediately.  In this case, you are responsible for ensuring\n",
              "    that the event loop is running to have responsive figures.\n",
              "\n",
              "    Defaults to True in non-interactive mode and to False in interactive\n",
              "    mode (see `.pyplot.isinteractive`).\n",
              "\n",
              "See Also\n",
              "--------\n",
              "ion : Enable interactive mode, which shows / updates the figure after\n",
              "      every plotting command, so that calling ``show()`` is not necessary.\n",
              "ioff : Disable interactive mode.\n",
              "savefig : Save the figure to an image file instead of showing it on screen.\n",
              "\n",
              "Notes\n",
              "-----\n",
              "**Saving figures to file and showing a window at the same time**\n",
              "\n",
              "If you want an image file as well as a user interface window, use\n",
              "`.pyplot.savefig` before `.pyplot.show`. At the end of (a blocking)\n",
              "``show()`` the figure is closed and thus unregistered from pyplot. Calling\n",
              "`.pyplot.savefig` afterwards would save a new and thus empty figure. This\n",
              "limitation of command order does not apply if the show is non-blocking or\n",
              "if you keep a reference to the figure and use `.Figure.savefig`.\n",
              "\n",
              "**Auto-show in jupyter notebooks**\n",
              "\n",
              "The jupyter backends (activated via ``%matplotlib inline``,\n",
              "``%matplotlib notebook``, or ``%matplotlib widget``), call ``show()`` at\n",
              "the end of every cell by default. Thus, you usually don&#x27;t have to call it\n",
              "explicitly there.</pre>\n",
              "      <script>\n",
              "      if (google.colab.kernel.accessAllowed && google.colab.files && google.colab.files.view) {\n",
              "        for (const element of document.querySelectorAll('.filepath')) {\n",
              "          element.style.display = 'block'\n",
              "          element.onclick = (event) => {\n",
              "            event.preventDefault();\n",
              "            event.stopPropagation();\n",
              "            google.colab.files.view(element.textContent, 569);\n",
              "          };\n",
              "        }\n",
              "      }\n",
              "      for (const element of document.querySelectorAll('.function-repr-contents')) {\n",
              "        element.onclick = (event) => {\n",
              "          event.preventDefault();\n",
              "          event.stopPropagation();\n",
              "          element.classList.toggle('function-repr-contents-collapsed');\n",
              "        };\n",
              "      }\n",
              "      </script>\n",
              "      </div>"
            ],
            "text/plain": [
              "<function matplotlib.pyplot.show(close=None, block=None)>"
            ]
          },
          "execution_count": 28,
          "metadata": {},
          "output_type": "execute_result"
        },
        {
          "data": {
            "image/png": "[encoded data removed]",
            "text/plain": [
              "<Figure size 800x500 with 1 Axes>"
            ]
          },
          "metadata": {},
          "output_type": "display_data"
        }
      ],
      "source": [
        "# Crie um gráfico de barras com seaborn para mostrar a média da gorgeta por período\n",
        "plt.figure(figsize=(8, 5))\n",
        "sns.barplot(x='time', y='tip', data=df, ci=None, palette=['pink', 'orange'])\n",
        "plt.xlabel('Período(Time)')\n",
        "plt.ylabel('Média da gorgeta')\n",
        "plt.title('Média da gorgeta por período(Almoço ou Jantar)')\n",
        "plt.show"
      ]
    },
    {
      "cell_type": "markdown",
      "metadata": {
        "id": "b0RXAfGgoaFl"
      },
      "source": [
        "# Unidade 3 - aula 05 - Introdução a análise de Dados com Python"
      ]
    },
    {
      "cell_type": "markdown",
      "metadata": {
        "id": "XjILYxa1qHyq"
      },
      "source": [
        "# Aplicando nossa aula =\n",
        "\n",
        "Suponha que estamos desenvolvendo um programa de gerenciaremos informações de funcionários em uma tabela de um banco de dados SQlite."
      ]
    },
    {
      "cell_type": "code",
      "execution_count": null,
      "metadata": {
        "id": "zMK88rfUoonE"
      },
      "outputs": [],
      "source": [
        "import sqlite3\n",
        "\n",
        "# Passo 1: Conectar ao banco de dados SQlite(ou criá-lo se não existir)\n",
        "conn = sqlite3.connect(\"funcionários.db\")\n"
      ]
    },
    {
      "cell_type": "code",
      "execution_count": null,
      "metadata": {
        "colab": {
          "base_uri": "https://localhost:8080/"
        },
        "id": "9I_APNIWrGCM",
        "outputId": "771a05ca-ae3e-403d-f744-287d11ccd52a"
      },
      "outputs": [
        {
          "data": {
            "text/plain": [
              "<sqlite3.Cursor at 0x7dba5ff6d4c0>"
            ]
          },
          "execution_count": 2,
          "metadata": {},
          "output_type": "execute_result"
        }
      ],
      "source": [
        "# Passo 2: Criar tabelas de funcionários\n",
        "cursor = conn.cursor()\n",
        "cursor.execute('''\n",
        "    CREATE TABLE IF NOT EXISTS funcionários (\n",
        "        id INTEGER PRIMARY KEY,\n",
        "        nome TEXT,\n",
        "        cargo TEXT,\n",
        "        salario REAL\n",
        "    )\n",
        "''')"
      ]
    },
    {
      "cell_type": "code",
      "execution_count": null,
      "metadata": {
        "id": "O8ddF8qFr5vf"
      },
      "outputs": [],
      "source": [
        "# Passo 3: Inserir novos funcionários na tabela usando executemany\n",
        "novos_funcionarios = [\n",
        "    (5, \"Rogerio\", \"Analista\", 5000.0),\n",
        "    (6, \"Ana\", \"Desenvolvedora\", 6000.0),\n",
        "    (7, \"Carlos\", \"Gerente\", 7500.0)\n",
        "]\n",
        "cursor.executemany(\"INSERT INTO funcionários VALUES (?, ?, ?, ?)\", novos_funcionarios)\n",
        "conn.commit()"
      ]
    },
    {
      "cell_type": "code",
      "execution_count": null,
      "metadata": {
        "colab": {
          "base_uri": "https://localhost:8080/"
        },
        "id": "WJwU9FaFsiv5",
        "outputId": "f7322763-885e-49ef-cc8a-27a78ba68a6a"
      },
      "outputs": [
        {
          "name": "stdout",
          "output_type": "stream",
          "text": [
            "Funcionários Cadastrados:\n",
            "(1, 'Ronaldo', 'Analista', 5000.0)\n",
            "(2, 'Ronaldo', 'Analista', 5000.0)\n",
            "(3, 'Ronaldo', 'Analista', 5000.0)\n",
            "(5, 'Rogerio', 'Analista', 5000.0)\n",
            "(6, 'Ana', 'Desenvolvedora', 6000.0)\n",
            "(7, 'Carlos', 'Gerente', 7500.0)\n"
          ]
        }
      ],
      "source": [
        "# Passo 4: Consultar e exibir os funcionários\n",
        "cursor.execute(\"SELECT * FROM funcionários\")\n",
        "funcionarios = cursor.fetchall()\n",
        "print(\"Funcionários Cadastrados:\")\n",
        "for funcionario in funcionarios:\n",
        "    print(funcionario)"
      ]
    },
    {
      "cell_type": "code",
      "execution_count": null,
      "metadata": {
        "id": "qyC-zEXZXl0m"
      },
      "outputs": [],
      "source": [
        "# Passo 5: Atualizar informações de um funcionário\n",
        "atualizacao = (\"Ronaldo Sabino\", 5500.00, 4)\n",
        "cursor.execute(\"UPDATE funcionários SET nome = ?, salario = ? WHERE id = ?\", atualizacao)\n",
        "conn.commit()"
      ]
    },
    {
      "cell_type": "code",
      "execution_count": null,
      "metadata": {
        "id": "oLo6ECehYZL7"
      },
      "outputs": [],
      "source": [
        "# Passo 6: Deletar um funcionário da tabela\n",
        "id_funcionario_para_deletar = 4\n",
        "cursor.execute(\"DELETE FROM funcionários WHERE id = ?\", (id_funcionario_para_deletar,))\n",
        "conn.commit()"
      ]
    },
    {
      "cell_type": "markdown",
      "metadata": {
        "id": "VWLAxP0BZpBz"
      },
      "source": [
        "# UNIDADE 04 - AULA 01 - Introdução à programação em Python"
      ]
    },
    {
      "cell_type": "markdown",
      "metadata": {
        "id": "wLc8OejtZyPZ"
      },
      "source": [
        "# Tópicos na nossa aula:\n",
        "\n",
        "* Visão geral de desenvolvimento de sistemas para web;\n",
        "* Front-end e back-end;\n",
        "* Primeiras páginas web;\n",
        "\n"
      ]
    },
    {
      "cell_type": "markdown",
      "metadata": {
        "id": "GQ784h-1a_7j"
      },
      "source": [
        "# Visão geral de desenvolvimento de sistemas para web =\n",
        "\n",
        "Envolve a criação de aplicativos e sites para a internet. Isso abrange tanto o lado do cliente(front-end) quanto o lado do servidor(back-end), utilizando linguagens como HTML,CSS, JavaScript, e frameworks como React, Django, ou Flask, sendo o Python um \"mediador\" dessas interações."
      ]
    },
    {
      "cell_type": "markdown",
      "metadata": {
        "id": "GzdRP7Lla76D"
      },
      "source": [
        "# Desenvolvimento Web =\n",
        "\n",
        "O desenvolvimento web com Python integra a versatilidade da linguagem às necessidades dinâmicas da internet contemporânea.\n",
        "\n",
        "Python é proeminente no desenvolvimento web, conhecido por sua legibilidade e aplicabilidade em ambas as camadas(front-end e back-end), permitindo a criação eficaz de aplicativos robustos.\n",
        "\n",
        "No início, as páginas web eram estáticas, mas a demanda por interfaces dinâmicas impulsionou o desenvolvimento de linguagens e frameworks web, onde Python se destacou, principalmente no back-end, com frameworks como Django e Flask.\n",
        "\n",
        "Python é versátil no desenvolvimento web, sendo aplicado tanto no front-end quanto no back-end, permitindo uma integração eficiente entre interface do usuário e lógica de processamento."
      ]
    },
    {
      "cell_type": "markdown",
      "metadata": {
        "id": "cS-gtuUReRUh"
      },
      "source": [
        "# Python na Web =\n",
        "\n",
        "Oferece frameworks robustos como Django e flexíveis como Flask para o back-end, além de suportar a integração fácil com bibliotecas front-end populares como React, Vue.js e angular.\n",
        "\n",
        "Com FastAPI e Django Rest framework, destaca-se em criar APIs eficientes e bem documentadas para facilitar a comunicação entre front-end e back-end.\n",
        "\n",
        "Python se integra a tendências web modernas, como arquiteturas sem servidor e containers, mantendo os desenvolvedores atualizados.\n",
        "\n",
        "Desenvolvimento web em Python enfrenta desafios, como escabilidade e segurança, mas oferece oportunidades para inovação.\n",
        "\n",
        "Python se destaca-se no desenvolvimento web, oferecendo ferramentas poderosas e sendo uma escolha excelente com uma comunidade ativa."
      ]
    },
    {
      "cell_type": "markdown",
      "metadata": {
        "id": "wS9kibntgUZ_"
      },
      "source": [
        "# FRONT-END e BACK-END =\n",
        "\n",
        "O front-end é a interface invisível para os usuários. O back-end é responsável pela lógica, processamento, e armazenamento de dados."
      ]
    },
    {
      "cell_type": "markdown",
      "metadata": {
        "id": "m7ISa1Ysg1sT"
      },
      "source": [
        "# FRONT-END =\n",
        "\n",
        "O front-end de uma aplicação web é a interface com a qual os usuários interagem diretamente.\n",
        "\n",
        "Vamos explorar como criar uma experiência front-end simples usando Python no Google Colab.\n",
        "\n",
        "O HTML é a espinhosa dorsal do conteúdo na web.\n",
        "\n",
        "Podemos criar elementos HTML usando Python no Colab e, em seguida, incorporá-los em nossa página.\n",
        "\n",
        "Vamos criar uma página HTML básica.\n",
        "\n"
      ]
    },
    {
      "cell_type": "code",
      "execution_count": null,
      "metadata": {
        "id": "wwA0EIiwf59T"
      },
      "outputs": [],
      "source": [
        "# Criando uma página HTML usando Python\n",
        "html_code = \"\"\"\n",
        "<!DOCTYPE html>\n",
        "<html>\n",
        "<head>\n",
        "   <title>Exemplo de front-end com Python</title>\n",
        "   </head>\n",
        "   <body>\n",
        "   <hi>Olá, mundo!</h1>\n",
        "   <p>Está é uma página web criada usando Python no Google Colab.</p>\n",
        "   </body>\n",
        "   </html>\n",
        "   \"\"\""
      ]
    },
    {
      "cell_type": "code",
      "execution_count": null,
      "metadata": {
        "colab": {
          "base_uri": "https://localhost:8080/",
          "height": 64
        },
        "id": "rbHtBKbXjvh5",
        "outputId": "ad75d102-884f-4be3-8bb6-be4e3a7f13c3"
      },
      "outputs": [
        {
          "data": {
            "text/html": [
              "\n",
              "<!DOCTYPE html>\n",
              "<html>\n",
              "<head>\n",
              "   <title>Exemplo de front-end com Python</title>\n",
              "   </head>\n",
              "   <body>\n",
              "   <hi>Olá, mundo!</h1>\n",
              "   <p>Está é uma página web criada usando Python no Google Colab.</p>\n",
              "   </body>\n",
              "   </html>\n",
              "   "
            ],
            "text/plain": [
              "<IPython.core.display.HTML object>"
            ]
          },
          "execution_count": 26,
          "metadata": {},
          "output_type": "execute_result"
        }
      ],
      "source": [
        "from IPython.display import HTML\n",
        "HTML(html_code)\n"
      ]
    },
    {
      "cell_type": "markdown",
      "metadata": {
        "id": "9zyan0Khkht1"
      },
      "source": [
        "# BACK-END =\n",
        "\n",
        "O back-end de uma aplicação web lida com a lógica, o processamento de dados e a interação com o servidor.\n",
        "\n",
        "O Flask é um framework web leve para Python, podemos usá-lo para criar um exemplo básico de servidor back-end.\n",
        "\n",
        "Vamos ver um exemplo!"
      ]
    },
    {
      "cell_type": "code",
      "execution_count": 10,
      "metadata": {
        "colab": {
          "base_uri": "https://localhost:8080/"
        },
        "id": "XavYvROKlOVL",
        "outputId": "055b54e7-bfb1-435c-b483-eddd874a04f2"
      },
      "outputs": [
        {
          "output_type": "stream",
          "name": "stdout",
          "text": [
            " * Serving Flask app '__main__'\n",
            " * Debug mode: off\n"
          ]
        },
        {
          "output_type": "stream",
          "name": "stderr",
          "text": [
            "INFO:werkzeug:\u001b[31m\u001b[1mWARNING: This is a development server. Do not use it in a production deployment. Use a production WSGI server instead.\u001b[0m\n",
            " * Running on http://localhost:5000\n",
            "INFO:werkzeug:\u001b[33mPress CTRL+C to quit\u001b[0m\n"
          ]
        }
      ],
      "source": [
        "from flask import Flask\n",
        "# criação da aplicação flask\n",
        "app = Flask(__name__)\n",
        "# Rota para página inicial\n",
        "@app.route('/')\n",
        "def hello ():\n",
        "    return'Seja bem vindo ao back-end simples com Flask!'\n",
        "# Executa a aplicação no host e na porta especificados\n",
        "if __name__ == '__main__':\n",
        "    app.run(host='localhost', port=5000)\n",
        "\n",
        "#*Serving Flask app\n",
        "#* Debug mode:off"
      ]
    },
    {
      "cell_type": "markdown",
      "source": [
        "Ferramenta JUPYTER ... mas dá pra fazer no colab."
      ],
      "metadata": {
        "id": "7ho3zcjpok42"
      }
    },
    {
      "cell_type": "markdown",
      "source": [
        "# Primeira Páginas web =\n",
        "\n",
        "Vamos utilizar o que vimos na aula para melhorar nossa página HTML!!!\n"
      ],
      "metadata": {
        "id": "iWz3x4e1_St9"
      }
    },
    {
      "cell_type": "markdown",
      "source": [
        "#Aplicando a nossa aula =\n",
        "\n",
        "Vamos imaginar que voce esta participando de um curso de desenvolvimento web e a primeira tarefa é criar uma página de perfil pessoal."
      ],
      "metadata": {
        "id": "k4JDSsdr_jnc"
      }
    },
    {
      "cell_type": "code",
      "source": [
        "from IPython.display import HTML\n",
        "\n",
        "html_code = \"\"\"\n",
        "<!DOCTYPE html>\n",
        "<html lang=\"pt-BR\">\n",
        "<head>\n",
        "    <!-- Definindo a codificação e a viewport para dispositivos móveis -->\n",
        "    <meta charset=\"UTF-8\">\n",
        "    <meta name=\"viewport\" content=\"width=device-width, initial-scale=1.0\">\n",
        "    <title>Meu Perfil</title>\n",
        "</head>\n",
        "<body style=\"font-family: Arial, sans-serif; background-color: #f8f8f8; margin: 0; padding: 0;\">\n",
        "\n",
        "    <!-- Cabeçalho da página -->\n",
        "    <header style=\"text-align: center; background-color: #3498db; color: #fff; padding: 20px;\">\n",
        "        <h1 style=\"margin: 0;\">Ronaldo Augusto Sabino</h1>\n",
        "        <p style=\"margin: 5px 0;\">Desenvolvedor Web</p>\n",
        "    </header>\n",
        "\n",
        "    <!-- Seção de informações pessoais -->\n",
        "    <section style=\"margin: 20px; text-align: center;\">\n",
        "        <img src=\"content/sua_foto.jpg\" alt=\"Sua Foto\" style=\"border-radius: 50%; margin-bottom: 20px; width: 150px; height: 150px; object-fit: cover;\">\n",
        "        <div id=\"informacoes-pessoais\" style=\"max-width: 400px; margin: 0 auto;\">\n",
        "            <p><strong>Cidade:</strong> Agudos SP</p>\n",
        "            <p><strong>País:</strong> Brasil</p>\n",
        "            <p><strong>Interesses:</strong> Web Development, Programação, etc.</p>\n",
        "        </div>\n",
        "    </section>\n",
        "\n",
        "    <!-- Seção de Habilidades -->\n",
        "    <section style=\"margin: 20px; text-align: center;\">\n",
        "        <h2>Habilidades</h2>\n",
        "        <ul style=\"list-style: none; padding: 0;\">\n",
        "            <li><strong>Linguagens:</strong> Python, HTML, CSS, JavaScript</li>\n",
        "            <li><strong>Ferramentas:</strong> Git, VS Code</li>\n",
        "        </ul>\n",
        "    </section>\n",
        "\n",
        "    <!-- Seção de Projetos Recentes -->\n",
        "    <section style=\"margin: 20px; text-align: center;\">\n",
        "        <h2>Projetos Recentes</h2>\n",
        "        <p>Trabalhando em um site pessoal para mostrar meu portfólio.</p>\n",
        "    </section>\n",
        "\n",
        "    <!-- Rodapé da Página -->\n",
        "    <footer style=\"text-align: center; margin-top: 20px;\">\n",
        "        <a href=\"https://www.linkedin.com/in/ronaldo-a-sabino-381a07213/\" target=\"_blank\" style=\"margin: 0 10px; color: #3498db; text-decoration: none;\">LinkedIn</a>\n",
        "    </footer>\n",
        "\n",
        "</body>\n",
        "</html>\n",
        "\"\"\"\n",
        "\n",
        "# Exibindo a página HTML\n",
        "HTML(html_code)\n"
      ],
      "metadata": {
        "colab": {
          "resources": {
            "http://localhost:8080/content/sua_foto.jpg": {
              "data": "",
              "ok": false,
              "headers": [
                [
                  "content-length",
                  "0"
                ]
              ],
              "status": 404,
              "status_text": ""
            }
          },
          "base_uri": "https://localhost:8080/",
          "height": 440
        },
        "id": "2TyvYIm9ScTO",
        "outputId": "102b010b-a7c9-4c74-9994-be99556fdc38"
      },
      "execution_count": 8,
      "outputs": [
        {
          "output_type": "execute_result",
          "data": {
            "text/plain": [
              "<IPython.core.display.HTML object>"
            ],
            "text/html": [
              "\n",
              "<!DOCTYPE html>\n",
              "<html lang=\"pt-BR\">\n",
              "<head>\n",
              "    <!-- Definindo a codificação e a viewport para dispositivos móveis -->\n",
              "    <meta charset=\"UTF-8\"> \n",
              "    <meta name=\"viewport\" content=\"width=device-width, initial-scale=1.0\">\n",
              "    <title>Meu Perfil</title>\n",
              "</head>\n",
              "<body style=\"font-family: Arial, sans-serif; background-color: #f8f8f8; margin: 0; padding: 0;\">\n",
              "\n",
              "    <!-- Cabeçalho da página -->\n",
              "    <header style=\"text-align: center; background-color: #3498db; color: #fff; padding: 20px;\">\n",
              "        <h1 style=\"margin: 0;\">Ronaldo Augusto Sabino</h1>\n",
              "        <p style=\"margin: 5px 0;\">Desenvolvedor Web</p>\n",
              "    </header>\n",
              "\n",
              "    <!-- Seção de informações pessoais -->\n",
              "    <section style=\"margin: 20px; text-align: center;\">\n",
              "        <img src=\"content/sua_foto.jpg\" alt=\"Sua Foto\" style=\"border-radius: 50%; margin-bottom: 20px; width: 150px; height: 150px; object-fit: cover;\">\n",
              "        <div id=\"informacoes-pessoais\" style=\"max-width: 400px; margin: 0 auto;\">\n",
              "            <p><strong>Cidade:</strong> Agudos SP</p>\n",
              "            <p><strong>País:</strong> Brasil</p>\n",
              "            <p><strong>Interesses:</strong> Web Development, Programação, etc.</p>\n",
              "        </div>\n",
              "    </section>\n",
              "\n",
              "    <!-- Seção de Habilidades -->\n",
              "    <section style=\"margin: 20px; text-align: center;\">\n",
              "        <h2>Habilidades</h2>\n",
              "        <ul style=\"list-style: none; padding: 0;\">\n",
              "            <li><strong>Linguagens:</strong> Python, HTML, CSS, JavaScript</li>\n",
              "            <li><strong>Ferramentas:</strong> Git, VS Code</li>\n",
              "        </ul>\n",
              "    </section>\n",
              "\n",
              "    <!-- Seção de Projetos Recentes -->\n",
              "    <section style=\"margin: 20px; text-align: center;\">\n",
              "        <h2>Projetos Recentes</h2>\n",
              "        <p>Trabalhando em um site pessoal para mostrar meu portfólio.</p>\n",
              "    </section>\n",
              "\n",
              "    <!-- Rodapé da Página -->\n",
              "    <footer style=\"text-align: center; margin-top: 20px;\">\n",
              "        <a href=\"https://www.linkedin.com/in/ronaldo-a-sabino-381a07213/\" target=\"_blank\" style=\"margin: 0 10px; color: #3498db; text-decoration: none;\">LinkedIn</a>\n",
              "    </footer>\n",
              "\n",
              "</body>\n",
              "</html>\n"
            ]
          },
          "metadata": {},
          "execution_count": 8
        }
      ]
    },
    {
      "cell_type": "markdown",
      "source": [
        "#Unidade 4 - aula 02 - Introdução a Programação Mobile com Python"
      ],
      "metadata": {
        "id": "GxeyNL34TuIC"
      }
    },
    {
      "cell_type": "markdown",
      "source": [
        "# TÓPICOS DA NOSSA AULA =\n",
        "\n",
        "*  Introdução ao desenvolvimento\n",
        "Mobile;\n",
        "* KivyMD;\n",
        "* Widgets e Organização de telas\n",
        "utilizando o MDTabs\n",
        "\n",
        "\n"
      ],
      "metadata": {
        "id": "we7B8TJ1T4rm"
      }
    },
    {
      "cell_type": "markdown",
      "source": [
        "# Introdução ao desenvolvimento Mobile =\n",
        "\n",
        " O desenvolvimento móvel revoluciona a maneira como interagimos com a\n",
        "tecnologia, capacitando a criação de aplicativos que transformam nossos\n",
        "dispositivos em ferramentas poderosas"
      ],
      "metadata": {
        "id": "eqF7JhR9jc33"
      }
    },
    {
      "cell_type": "markdown",
      "source": [
        "# Desenvolvimento Mobile =\n",
        "\n",
        "O desenvolvimento mobile, tradicionalmente associado a linguagens nativas, como\n",
        "Swift e Kotlin, tem visto um aumento de popularidade do Python devido à sua\n",
        "versatilidade e simplicidade.\n",
        " Python, com sua sintaxe clara, destaca-se no desenvolvimento mobile,\n",
        "aproveitando frameworks como Kivy, BeeWare e Flutter, que oferecem suporte à\n",
        "linguagem.\n",
        " O Kivy destaca-se no desenvolvimento mobile em Python, oferecendo uma\n",
        "estrutura robusta e multi-touch para criação de aplicativos visualmente\n",
        "impressionantes, com suporte para diversas plataformas"
      ],
      "metadata": {
        "id": "OPvDNmNfjmuJ"
      }
    },
    {
      "cell_type": "markdown",
      "source": [
        "#Desenvolvimento Mobile =\n",
        "\n",
        "A escolha de Python no desenvolvimento mobile oferece vantagens, como uma\n",
        "comunidade ativa, vasta biblioteca de módulos e agilidade proporcionada pela\n",
        "linguagem.\n",
        " Desenvolvedores devem estar cientes de desafios, como desempenho comparado\n",
        "a linguagens nativas e possíveis limitações de acesso a recursos específicos do\n",
        "dispositivo.\n",
        " O uso de Python no desenvolvimento mobile permite que desenvolvedores\n",
        "familiarizados com a linguagem expandam para o universo mobile. A escolha entre\n",
        "Python e outras linguagens dependerá dos requisitos do projeto e das preferências\n",
        "da equipe, com frameworks robustos disponíveis para facilitar o desenvolvimento"
      ],
      "metadata": {
        "id": "nxT9gRkSjzyR"
      }
    },
    {
      "cell_type": "markdown",
      "source": [
        " # KivyMD =\n",
        "\n",
        " KivyMD emerge como uma ferramenta robusta para desenvolvimento móvel em\n",
        "Python, oferecendo uma gama diversificada de widgets e recursos inspirados no\n",
        "Material Design. Essa biblioteca dinâmica capacita desenvolvedores a construir\n",
        "aplicativos móveis visualmente atraentes, mantendo a flexibilidade e a eficiência"
      ],
      "metadata": {
        "id": "C2qarQoakAaT"
      }
    },
    {
      "cell_type": "markdown",
      "source": [
        "# KivyMD =\n",
        "\n",
        " O KivyMD é uma extensão do Kivy, um framework Python para o desenvolvimento de aplicativos\n",
        "multi-touch. O KivyMD estende as capacidades do Kivy ao integrar os princípios de design do\n",
        "Material Design do Google, proporcionando uma experiência visualmente atraente e consistente\n",
        "em dispositivos móveis.\n",
        " Adota os padrões de design do Material Design, oferecendo uma interface de usuário moderna,\n",
        "consistente e intuitiva. Isso inclui elementos como botões flutuantes, barras de navegação e\n",
        "efeitos de transição"
      ],
      "metadata": {
        "id": "XxJgi2rpkGkq"
      }
    },
    {
      "cell_type": "markdown",
      "source": [
        "# KivyMD =\n",
        "\n",
        "Fornece uma variedade de componentes prontos para uso, como botões, caixas de diálogo,\n",
        "cartões e muito mais. Esses componentes seguem as diretrizes do Material Design, facilitando a\n",
        "criação de interfaces visualmente atraentes.\n",
        " Assim como o Kivy, o KivyMD é multiplataforma, permitindo que os aplicativos sejam executados\n",
        "em diferentes sistemas operacionais, incluindo Android, iOS, Windows, Linux e macOS."
      ],
      "metadata": {
        "id": "J6gTlnahkO_7"
      }
    },
    {
      "cell_type": "markdown",
      "source": [
        "# Widgets e Organização de telas utilizando o MDTabs =\n",
        "\n",
        "Ao adotar o MDTabs no KivyMD, a organização estruturada de interfaces móveis\n",
        "ganha destaque. A utilização inteligente de widgets e abas simplifica a navegação\n",
        "do usuário, fornecendo uma base sólida para criar aplicações móveis intuitivas e\n",
        "eficazes."
      ],
      "metadata": {
        "id": "jJYDwaIykc-j"
      }
    },
    {
      "cell_type": "markdown",
      "source": [
        "# Widgets =\n",
        " Os widgets desempenham um papel fundamental no desenvolvimento de\n",
        "interfaces de usuário interativas. No contexto do KivyMD (Material Design\n",
        "Components for Kivy), os widgets são os blocos de construção essenciais para criar\n",
        "aplicativos visualmente atraentes.\n",
        " MDTabs é um widget poderoso do KivyMD projetado para facilitar a organização de\n",
        "conteúdo em diferentes abas. Isso é particularmente útil quando você precisa\n",
        "exibir várias seções ou funcionalidades em um aplicativo sem sobrecarregar a tela\n",
        "principal.\n",
        " Vamos de exemplo!"
      ],
      "metadata": {
        "id": "dv8JvYaQki7G"
      }
    },
    {
      "cell_type": "markdown",
      "source": [
        "# Aplicando a aula!\n",
        "\n",
        "Você foi designado para desenvolver uma calculadora, a princípio, replicar o uma\n",
        "comum, e futuramente modificar e criar novas funcionalidades."
      ],
      "metadata": {
        "id": "qU2eKX0Lks7v"
      }
    },
    {
      "cell_type": "markdown",
      "source": [
        "Ferramenta JUPYTER... mas dá pra fazer no colab."
      ],
      "metadata": {
        "id": "OCZPWcGWodWm"
      }
    },
    {
      "cell_type": "code",
      "source": [
        "# Instalando o KivyMD, caso não esteja instalado\n",
        "!pip install kivyMD\n",
        "\n",
        "#Importando módulos necessários\n",
        "from kivy.lang import Builder\n",
        "from kivy.uix.boxlayout import BoxLayout\n",
        "from kivy.uix.gridlayout import GridLayout # Corrected import\n",
        "from kivymd.app import MDApp # Corrected import\n",
        "from kivymd.uix.button import MDRaisedButton\n",
        "from kivymd.uix.textfield import MDTextField # Corrected import\n",
        "from kivy.metrics import dp\n",
        "\n",
        "# Definindo a string KV que contém a descrição da interface\n",
        "KV = \"\"\"\n",
        "<CalculatorApp>:\n",
        "   orientation: 'vertical'\n",
        "   MDTextField:\n",
        "      id: input_field\n",
        "      hint_text: 'Insira um número'\n",
        "      helper_text_mode: 'on_focus' # Corrected property name\n",
        "      input_filter: \"float\"\n",
        "   GridLayout: # Corrected widget name\n",
        "      cols: 4\n",
        "      spacing: dp(10)\n",
        "      MDRaisedButton:\n",
        "         text: '1'\n",
        "         on_press: app.on_button_press('1')\n",
        "      MDRaisedButton: # Added missing button\n",
        "         text: '2'\n",
        "         on_press: app.on_button_press('2')\n",
        "      MDRaisedButton: # Added missing button\n",
        "         text: '3'\n",
        "         on_press: app.on_button_press('3')\n",
        "      MDRaisedButton: # Added missing button\n",
        "         text: '+'\n",
        "         on_press: app.on_operator_press('+')\n",
        "      MDRaisedButton:\n",
        "         text: '4'\n",
        "         on_press: app.on_button_press('4')\n",
        "      MDRaisedButton: # Added missing button\n",
        "         text: '5'\n",
        "         on_press: app.on_button_press('5')\n",
        "      MDRaisedButton: # Added missing button\n",
        "         text: '6'\n",
        "         on_press: app.on_button_press('6')\n",
        "      MDRaisedButton: # Added missing button\n",
        "         text: '-'\n",
        "         on_press: app.on_operator_press('-')\n",
        "      MDRaisedButton:\n",
        "         text: '7'\n",
        "         on_press: app.on_button_press('7')\n",
        "      MDRaisedButton: # Added missing button\n",
        "         text: '8'\n",
        "         on_press: app.on_button_press('8')\n",
        "      MDRaisedButton: # Added missing button\n",
        "         text: '9'\n",
        "         on_press: app.on_button_press('9')\n",
        "      MDRaisedButton: # Added missing button\n",
        "         text: '*'\n",
        "         on_press: app.on_operator_press('*')\n",
        "      MDRaisedButton: # Corrected button for 'C'\n",
        "         text: 'C'\n",
        "         on_press: app.on_clear_input() # Corrected method call\n",
        "      MDRaisedButton: # Corrected button for '0'\n",
        "         text: '0'\n",
        "         on_press: app.on_button_press('0') # Corrected method call\n",
        "      MDRaisedButton: # Corrected button for '='\n",
        "         text: '='\n",
        "         on_press: app.on_calculate_result() # Corrected method call\n",
        "      MDRaisedButton: # Corrected button for '/'\n",
        "         text: '/'\n",
        "         on_press: app.on_operator_press('/') # Corrected method call\n",
        "\"\"\" # Added closing triple quotes\n",
        "\n",
        "# Definindo a classe calculatorApp que herda de BoxLayout\n",
        "class CalculatorApp(BoxLayout):\n",
        "   # Removed redundant __init__ as it's defined in KV\n",
        "   # Method called when a number is pressed\n",
        "   def on_button_press(self, number):\n",
        "      current_text = self.ids.input_field.text\n",
        "      new_text = f\"{current_text}{number}\"\n",
        "      self.ids.input_field.text = new_text\n",
        "\n",
        "   # Method called when an operator is pressed\n",
        "   def on_operator_press(self, operator):\n",
        "      current_text = self.ids.input_field.text\n",
        "      new_text = f\"{current_text}{operator}\"\n",
        "      self.ids.input_field.text = new_text\n",
        "\n",
        "   # Method called for clear the input\n",
        "   def on_clear_input(self): # Corrected method name\n",
        "      self.ids.input_field.text = \"\"\n",
        "\n",
        "   # Method called for calculate the result of the expression\n",
        "   def on_calculate_result(self): # Corrected method name\n",
        "      try:\n",
        "         result = eval(self.ids.input_field.text)\n",
        "         self.ids.input_field.text = str(result)\n",
        "      except Exception as e:\n",
        "         self.ids.input_field.text = \"Erro\"\n",
        "\n",
        "#Definindo a classe calculatorMDApp que herda de MDApp\n",
        "class CalculatorMDApp(MDApp): # Corrected indentation\n",
        "   #Método chamado para construir o aplicativo\n",
        "   def build (self):\n",
        "      return CalculatorApp()\n",
        "\n",
        "   #Método chamado para interagir com a instancia de CalculatorApp\n",
        "   def on_button_press(self, number): # Corrected method name\n",
        "      self.root.on_button_press(number)\n",
        "\n",
        "   def on_operator_press(self, operator):\n",
        "      self.root.on_operator_press(operator)\n",
        "\n",
        "   # Removed redundant on_operator_press\n",
        "\n",
        "   def on_clear_input(self): # Corrected method name\n",
        "      self.root.on_clear_input()\n",
        "\n",
        "   def on_calculate_result(self): # Corrected method name\n",
        "      self.root.on_calculate_result()\n",
        "\n",
        "# Verificando se o script está sendo executado diretamente\n",
        "if __name__ == \"__main__\":\n",
        "   #Carregando a string KV usando Builder\n",
        "   Builder.load_string(KV)\n",
        "   #Iniciando o aplicativo MD\n",
        "   CalculatorMDApp().run()"
      ],
      "metadata": {
        "id": "onhSoMmHAw8V"
      },
      "execution_count": null,
      "outputs": []
    },
    {
      "cell_type": "markdown",
      "source": [
        "# Fazer em JUPYTER Este código acima... vai ser transformado em calculadora"
      ],
      "metadata": {
        "id": "gGoshUhb_azl"
      }
    },
    {
      "cell_type": "markdown",
      "source": [
        "# UNIDADE 04 - AULA 03 - Testes com Python"
      ],
      "metadata": {
        "id": "vZq5PLHN_hfU"
      }
    },
    {
      "cell_type": "markdown",
      "source": [
        " #Tópicos da nossa aula:\n",
        " 1. Assertions;\n",
        " 2. Doctests;\n",
        " 3. Módulo Unittest.\n",
        "\n",
        " Automação de processo.\n"
      ],
      "metadata": {
        "id": "zUneGW9fBMHP"
      }
    },
    {
      "cell_type": "markdown",
      "source": [
        "#Assertions =\n",
        "\n",
        " As assertions são utilizadas para verificar condições essenciais durante a execução\n",
        "do código. São cruciais para a detecção precoce de bugs e para garantir a\n",
        "consistência do código"
      ],
      "metadata": {
        "id": "3PDvEppxBUIe"
      }
    },
    {
      "cell_type": "markdown",
      "source": [
        "#Assertions =\n",
        "\n",
        " As Assertions são expressões utilizadas para verificar as condições de verdade\n",
        "durante a execução do código. Elas são fundamentais para a detecção precoce de\n",
        "erros, garantindo que as suposições sobre o comportamento do programa sejam\n",
        "atendidas.\n",
        "Vamos de exemplo!"
      ],
      "metadata": {
        "id": "GsWIaBW8BdCY"
      }
    },
    {
      "cell_type": "code",
      "source": [
        "def divide(x ,y):\n",
        "    assert y != 0, \"Divisão por zero\"\n",
        "    return x / y\n",
        "\n",
        "result = divide(6, 2)\n",
        "print(result)"
      ],
      "metadata": {
        "colab": {
          "base_uri": "https://localhost:8080/"
        },
        "id": "t1Az5xnsCykh",
        "outputId": "bbabac98-93bc-48bd-a89e-c10fdb538fe6"
      },
      "execution_count": 4,
      "outputs": [
        {
          "output_type": "stream",
          "name": "stdout",
          "text": [
            "3.0\n"
          ]
        }
      ]
    },
    {
      "cell_type": "code",
      "source": [
        "def calcular_media(notas):\n",
        "    assert len(notas) > 0, \"A lista de notas não pode estar vazia\"\n",
        "\n",
        "    soma = sum(notas)\n",
        "    media = soma / len(notas)\n",
        "    return media"
      ],
      "metadata": {
        "id": "DuW91pxWDKcz"
      },
      "execution_count": 5,
      "outputs": []
    },
    {
      "cell_type": "code",
      "source": [
        "# Exemplo 1: Lista de notas vazia\n",
        "notas_vazia = []\n",
        "media = calcular_media(notas_vazia) # Isso lançará uma AssertionError"
      ],
      "metadata": {
        "colab": {
          "base_uri": "https://localhost:8080/",
          "height": 297
        },
        "id": "-UmTjS8lDb-K",
        "outputId": "a59f24f0-7277-4e58-de55-fdb38c5211f5"
      },
      "execution_count": 8,
      "outputs": [
        {
          "output_type": "error",
          "ename": "AssertionError",
          "evalue": "A lista de notas não pode estar vazia",
          "traceback": [
            "\u001b[0;31m---------------------------------------------------------------------------\u001b[0m",
            "\u001b[0;31mAssertionError\u001b[0m                            Traceback (most recent call last)",
            "\u001b[0;32m/tmp/ipython-input-294508590.py\u001b[0m in \u001b[0;36m<cell line: 0>\u001b[0;34m()\u001b[0m\n\u001b[1;32m      1\u001b[0m \u001b[0;31m# Exemplo 1: Lista de notas vazia\u001b[0m\u001b[0;34m\u001b[0m\u001b[0;34m\u001b[0m\u001b[0m\n\u001b[1;32m      2\u001b[0m \u001b[0mnotas_vazia\u001b[0m \u001b[0;34m=\u001b[0m \u001b[0;34m[\u001b[0m\u001b[0;34m]\u001b[0m\u001b[0;34m\u001b[0m\u001b[0;34m\u001b[0m\u001b[0m\n\u001b[0;32m----> 3\u001b[0;31m \u001b[0mmedia\u001b[0m \u001b[0;34m=\u001b[0m \u001b[0mcalcular_media\u001b[0m\u001b[0;34m(\u001b[0m\u001b[0mnotas_vazia\u001b[0m\u001b[0;34m)\u001b[0m \u001b[0;31m# Isso lançará uma AssertionError\u001b[0m\u001b[0;34m\u001b[0m\u001b[0;34m\u001b[0m\u001b[0m\n\u001b[0m",
            "\u001b[0;32m/tmp/ipython-input-3645662111.py\u001b[0m in \u001b[0;36mcalcular_media\u001b[0;34m(notas)\u001b[0m\n\u001b[1;32m      1\u001b[0m \u001b[0;32mdef\u001b[0m \u001b[0mcalcular_media\u001b[0m\u001b[0;34m(\u001b[0m\u001b[0mnotas\u001b[0m\u001b[0;34m)\u001b[0m\u001b[0;34m:\u001b[0m\u001b[0;34m\u001b[0m\u001b[0;34m\u001b[0m\u001b[0m\n\u001b[0;32m----> 2\u001b[0;31m     \u001b[0;32massert\u001b[0m \u001b[0mlen\u001b[0m\u001b[0;34m(\u001b[0m\u001b[0mnotas\u001b[0m\u001b[0;34m)\u001b[0m \u001b[0;34m>\u001b[0m \u001b[0;36m0\u001b[0m\u001b[0;34m,\u001b[0m \u001b[0;34m\"A lista de notas não pode estar vazia\"\u001b[0m\u001b[0;34m\u001b[0m\u001b[0;34m\u001b[0m\u001b[0m\n\u001b[0m\u001b[1;32m      3\u001b[0m \u001b[0;34m\u001b[0m\u001b[0m\n\u001b[1;32m      4\u001b[0m     \u001b[0msoma\u001b[0m \u001b[0;34m=\u001b[0m \u001b[0msum\u001b[0m\u001b[0;34m(\u001b[0m\u001b[0mnotas\u001b[0m\u001b[0;34m)\u001b[0m\u001b[0;34m\u001b[0m\u001b[0;34m\u001b[0m\u001b[0m\n\u001b[1;32m      5\u001b[0m     \u001b[0mmedia\u001b[0m \u001b[0;34m=\u001b[0m \u001b[0msoma\u001b[0m \u001b[0;34m/\u001b[0m \u001b[0mlen\u001b[0m\u001b[0;34m(\u001b[0m\u001b[0mnotas\u001b[0m\u001b[0;34m)\u001b[0m\u001b[0;34m\u001b[0m\u001b[0;34m\u001b[0m\u001b[0m\n",
            "\u001b[0;31mAssertionError\u001b[0m: A lista de notas não pode estar vazia"
          ]
        }
      ]
    },
    {
      "cell_type": "code",
      "source": [
        "# Exemplo 2: Lista de notas válida\n",
        "notas_validas = [8, 7, 9, 6, 8]\n",
        "media = calcular_media(notas_validas) # Isso funcionará corretamente\n",
        "print(media)"
      ],
      "metadata": {
        "colab": {
          "base_uri": "https://localhost:8080/"
        },
        "id": "7GaDBiLaD-TM",
        "outputId": "2b360bf1-4065-4f41-ac96-0abba6b4da4a"
      },
      "execution_count": 7,
      "outputs": [
        {
          "output_type": "stream",
          "name": "stdout",
          "text": [
            "7.6\n"
          ]
        }
      ]
    },
    {
      "cell_type": "markdown",
      "source": [
        "# Doctests =\n",
        " Os doctests oferecem uma abordagem única, incorporando testes diretamente na\n",
        "documentação do código-fonte. Isso não apenas fornece exemplos de uso\n",
        "atualizados na documentação, mas também serve como uma verificação\n",
        "automatizada para garantir que os exemplos apresentados estejam corretos."
      ],
      "metadata": {
        "id": "u0uxRixkF80b"
      }
    },
    {
      "cell_type": "markdown",
      "source": [
        "#Doctest =\n",
        "\n",
        " O doctest é um módulo em Python que permite incorporar testes diretamente na documentação\n",
        "do código, aproveitando os exemplos presentes na documentação para verificar se o código\n",
        "funciona conforme o esperado.\n",
        "\n",
        " Vamos ver um exemplo.\n"
      ],
      "metadata": {
        "id": "saSimA1cGCHn"
      }
    },
    {
      "cell_type": "code",
      "source": [
        "import doctest\n",
        "def square(x):\n",
        "    \"\"\"\n",
        "    Retorna o quadrado de um número.\n",
        "\n",
        "    Exemplos:\n",
        "    >>> square(3)\n",
        "    9\n",
        "    >>> square(-2)\n",
        "    4\n",
        "    >>> square(0)\n",
        "    0\n",
        "    \"\"\"\n",
        "    return x * X\n",
        "    doctest.testmod()\n",
        "\n",
        "    # A função square é acompanhada por uma string de documentação que inclui exemplos de uso.\n",
        "    # Esses exenplos estão formatados de maneira especial, usando o prompt >>>, que indica um bloco de código Python.\n",
        "\n",
        "    #No caso do exemplo, doctest, testmod() executará a função square(3).\n",
        "    #Verificará se o resultado é igual a 9, executará square(-2) e verificará se o resultado é 4, e assim por diante\n",
        "\n",
        "    #Se todos os testes passarem, doctest não produzirá nenhuma saída.\n",
        "    #Se houver uma discrepância entre a saída real e a esperada, doctest imprimirá uma mensagem indicando onde ocorreu o problema.\n",
        "\n",
        "    #Principal vantagem do doctest é que ele permite que voce mantém exemplos na documentação e, ao mesmo tempo, use esses exemplos como testes automatizados.\n",
        "    #Isso ajuda a garantir que a documentação esteja sempre em sincronia com o código real.\n"
      ],
      "metadata": {
        "id": "J6t6T2EgF8aU"
      },
      "execution_count": 12,
      "outputs": []
    },
    {
      "cell_type": "markdown",
      "source": [
        "#Módulo Unittest =\n",
        "\n",
        " O unittest é uma estrutura mais abrangente para testes em Python. Ele permite a\n",
        "organização de testes em classes e métodos, facilitando a manutenção e a\n",
        "execução seletiva de testes\n"
      ],
      "metadata": {
        "id": "zsZacjj2BoYx"
      }
    },
    {
      "cell_type": "markdown",
      "source": [
        "#Assertions =\n",
        "\n",
        " O módulo unittest oferece uma estrutura de teste mais avançada, permitindo a\n",
        "organização de testes em classes e métodos, além de fornecer assertions mais\n",
        "poderosas.\n",
        "Vamos de Exemplo!\n"
      ],
      "metadata": {
        "id": "0ySLObTPBx75"
      }
    },
    {
      "cell_type": "code",
      "source": [
        "import unittest\n",
        "\n",
        "def add(a, b):\n",
        "  return a + b\n",
        "\n",
        "class TestAddition(unittest.TestCase):\n",
        "  def test_add_positive_numbers(self):\n",
        "    self.assertEqual(add(2, 3), 5)\n",
        "\n",
        "  def test_add_negative_numbers(self):\n",
        "    self.assertEqual(add(-2, -3), -5)\n",
        "\n",
        "if __name__ == '__main__':\n",
        "  unittest.main(exit=False)\n",
        "  print(\"Os testes foram executados com sucesso!\")"
      ],
      "metadata": {
        "colab": {
          "base_uri": "https://localhost:8080/"
        },
        "id": "NBHcsOFzMmnL",
        "outputId": "d2472105-05c2-4b96-d4b8-554bace63a69"
      },
      "execution_count": 13,
      "outputs": [
        {
          "output_type": "stream",
          "name": "stdout",
          "text": [
            "Os testes foram executados com sucesso!\n"
          ]
        }
      ]
    },
    {
      "cell_type": "markdown",
      "source": [
        "#Aplicando a aula!\n",
        "\n",
        "Para aplicar os testes da aula, suponha que você\n",
        "precise criar uma função que calcula a soma de uma\n",
        "lista de número e deve aplicar os três testes para\n",
        "saber se a função está correta.\n"
      ],
      "metadata": {
        "id": "ap3HIFKTB9S3"
      }
    },
    {
      "cell_type": "code",
      "source": [
        "#assert\n",
        "def sum_numbers(numbers):\n",
        "  assert sum([1, 2, 3, 4]) == 10\n",
        "  assert sum([-1, 0, 1]) == 0\n",
        "  assert sum([]) == 0\n",
        "  return sum(numbers)\n",
        "teste = sum_numbers([1, 2, 3, 5])\n",
        "print(teste)\n",
        "\n"
      ],
      "metadata": {
        "colab": {
          "base_uri": "https://localhost:8080/"
        },
        "id": "DKbbipJSQdHg",
        "outputId": "4cf8e9d9-ac49-4b55-c0ba-75c961f21b40"
      },
      "execution_count": 14,
      "outputs": [
        {
          "output_type": "stream",
          "name": "stdout",
          "text": [
            "11\n"
          ]
        }
      ]
    },
    {
      "cell_type": "code",
      "source": [
        "#doctest\n",
        "def sum_nubers(numbers):\n",
        "  \"\"\"\n",
        "  Soma os números em uma lista.\n",
        "\n",
        "  Exemplos:\n",
        "  >>> sum_numbers([1, 2, 3, 4])\n",
        "  10\n",
        "  >>> sum_numbers([-1, 0, 1])\n",
        "  0\n",
        "  >>> sum_numbers([])\n",
        "  0\n",
        "  \"\"\"\n",
        "  return sum(numbers)\n",
        "\n",
        "if __name__ == '__main__':\n",
        "  import doctest\n",
        "  doctest.testmod()"
      ],
      "metadata": {
        "colab": {
          "base_uri": "https://localhost:8080/"
        },
        "id": "p1y9FZIERK5u",
        "outputId": "77978bb2-c0c5-4fa8-9eb9-64c283a8fbd3"
      },
      "execution_count": 17,
      "outputs": [
        {
          "output_type": "stream",
          "name": "stdout",
          "text": [
            "**********************************************************************\n",
            "File \"__main__\", line 7, in __main__.square\n",
            "Failed example:\n",
            "    square(3)\n",
            "Exception raised:\n",
            "    Traceback (most recent call last):\n",
            "      File \"/usr/lib/python3.12/doctest.py\", line 1368, in __run\n",
            "        exec(compile(example.source, filename, \"single\",\n",
            "      File \"<doctest __main__.square[0]>\", line 1, in <module>\n",
            "        square(3)\n",
            "      File \"/tmp/ipython-input-228944123.py\", line 14, in square\n",
            "        return x * X\n",
            "                   ^\n",
            "    NameError: name 'X' is not defined\n",
            "**********************************************************************\n",
            "File \"__main__\", line 9, in __main__.square\n",
            "Failed example:\n",
            "    square(-2)\n",
            "Exception raised:\n",
            "    Traceback (most recent call last):\n",
            "      File \"/usr/lib/python3.12/doctest.py\", line 1368, in __run\n",
            "        exec(compile(example.source, filename, \"single\",\n",
            "      File \"<doctest __main__.square[1]>\", line 1, in <module>\n",
            "        square(-2)\n",
            "      File \"/tmp/ipython-input-228944123.py\", line 14, in square\n",
            "        return x * X\n",
            "                   ^\n",
            "    NameError: name 'X' is not defined\n",
            "**********************************************************************\n",
            "File \"__main__\", line 11, in __main__.square\n",
            "Failed example:\n",
            "    square(0)\n",
            "Exception raised:\n",
            "    Traceback (most recent call last):\n",
            "      File \"/usr/lib/python3.12/doctest.py\", line 1368, in __run\n",
            "        exec(compile(example.source, filename, \"single\",\n",
            "      File \"<doctest __main__.square[2]>\", line 1, in <module>\n",
            "        square(0)\n",
            "      File \"/tmp/ipython-input-228944123.py\", line 14, in square\n",
            "        return x * X\n",
            "                   ^\n",
            "    NameError: name 'X' is not defined\n",
            "**********************************************************************\n",
            "1 items had failures:\n",
            "   3 of   3 in __main__.square\n",
            "***Test Failed*** 3 failures.\n"
          ]
        }
      ]
    },
    {
      "cell_type": "code",
      "source": [
        "#unittest\n",
        "import unittest\n",
        "def sum_numbers(numbers):\n",
        "  return sum(numbers)\n",
        "\n",
        "class TestSumNumbers(unittest.TestCase):\n",
        "  def test_sum_positive_numbers(self):\n",
        "    self.assertEqual(sum_numbers([1, 2, 3, 4]), 10)\n",
        "\n",
        "  def test_sum_numbers_mixed(self):\n",
        "    self.assertEqual(sum_numbers([-1, 0, 1]), 0)\n",
        "\n",
        "  def test_sum_empty_list(self):\n",
        "    self.assertEqual(sum_numbers([]), 0)\n",
        "\n",
        "if __name__ == '__main__':\n",
        "  unittest.main(argv=['first-arg-is-ignored'], exit=False)"
      ],
      "metadata": {
        "id": "iBIsveuqSHn-"
      },
      "execution_count": 18,
      "outputs": []
    },
    {
      "cell_type": "markdown",
      "source": [
        "# UNIDADE 4 - AULA 4 - Machine Learning com Python"
      ],
      "metadata": {
        "id": "bg8GRX7WTcaW"
      }
    },
    {
      "cell_type": "markdown",
      "source": [
        "#Machine Learning com Python\n",
        "#Tópicos da nossa aula:\n",
        "\n",
        " 1. Teoria Machine Learning;\n",
        " 2. Tipos de Treinamento;\n",
        " 3. Tensorflow\n"
      ],
      "metadata": {
        "id": "vTd5A4mETijA"
      }
    },
    {
      "cell_type": "markdown",
      "source": [
        "#Teoria Machine Learning =\n",
        "\n",
        "Machine Learning (ML) é um campo da inteligência artificial que se concentra no\n",
        "desenvolvimento de algoritmos e modelos que permitem que um sistema aprenda\n",
        "padrões a partir de dados e faça previsões ou tomadas de decisão sem ser\n",
        "explicitamente programado\n"
      ],
      "metadata": {
        "id": "_noVxDCMTv-r"
      }
    },
    {
      "cell_type": "markdown",
      "source": [
        "#Teoria =\n",
        "\n",
        " Machine Learning (Aprendizado de Máquina) é uma área da inteligência artificial\n",
        "que visa desenvolver algoritmos capazes de aprender com dados e realizar tarefas\n",
        "sem programação explícita.\n",
        "\n",
        "Envolve abordagens como aprendizado supervisionado, não supervisionado e por\n",
        "esforço.\n",
        "\n",
        "Suas aplicações abrangem desde reconhecimento de imagem até tomada de\n",
        "decisões complexas em diversos setores.\n",
        "\n",
        "É uma área em constante evolução impulsionada por avanços tecnológicos e\n",
        "disponibilidade de dados.\n"
      ],
      "metadata": {
        "id": "ph7tnC84T4Y4"
      }
    },
    {
      "cell_type": "markdown",
      "source": [
        "#Modelos =\n",
        "\n",
        " Árvores de Decisão: Modelo que toma decisões com base em condições.\n",
        "\n",
        " Redes Neurais: Inspiradas no funcionamento do cérebro, são usadas para\n",
        "problemas complexos.\n",
        "\n",
        " SVM (Support Vector Machines): Para classificação e regressão.\n",
        "\n",
        " K-Means: Algoritmo de agrupamento usado no aprendizado não supervisionado.\n"
      ],
      "metadata": {
        "id": "r1dd6Ac6ULH9"
      }
    },
    {
      "cell_type": "markdown",
      "source": [],
      "metadata": {
        "id": "3QinHtvsUVcO"
      }
    },
    {
      "cell_type": "markdown",
      "source": [
        "# Tipos de Treinamento =\n",
        "\n",
        " No processo de Machine Learning, o treinamento é crucial para permitir que o\n",
        "modelo aprenda padrões a partir dos dados. Existem vários tipos de\n",
        "treinamento, cada um com suas características distintas.\n"
      ],
      "metadata": {
        "id": "wVf7oQI8UaCz"
      }
    },
    {
      "cell_type": "markdown",
      "source": [
        "#Pandas =\n",
        "\n",
        " Os tipos de treinamento são estratégias fundamentais no desenvolvimento de\n",
        "modelos de Machine Learning.\n",
        " No treinamento supervisionado, o modelo é alimentado com um conjunto de dados\n",
        "rotulado, consistindo em pares de entrada e saída esperada. Exemplo prático:\n",
        "classificação de e-mails como \"spam\" ou \"não spam\".\n",
        " Ao contrário do supervisionado, o treinamento não supervisionado lida com dados\n",
        "não rotulados. Exemplo prático: agrupamento de clientes com base em padrões de\n",
        "compra.\n",
        " O treinamento por reforço envolve um agente interagindo com um ambiente\n",
        "dinâmico. Exemplo prático: treinar um agente de IA para jogar um jogo e ganhar\n",
        "pontos ao realizar ações corretas.\n"
      ],
      "metadata": {
        "id": "fOmI7TI3UdPD"
      }
    },
    {
      "cell_type": "markdown",
      "source": [
        "# Tensorflow =\n",
        "\n",
        " É uma biblioteca de código aberto desenvolvida pela Google que facilita a\n",
        "implementação de modelos de Machine Learning e Deep Learning. Sua estrutura\n",
        "f\n",
        " lexível permite a criação e treinamento de modelos complexos, sendo\n",
        "amplamente utilizada na comunidade de aprendizado de máquina.\n"
      ],
      "metadata": {
        "id": "-M8NYDYHUj_D"
      }
    },
    {
      "cell_type": "code",
      "source": [
        "import tensorflow as tf\n",
        "from tensorflow.keras.models import Sequential\n",
        "from tensorflow.keras.layers import Dense\n",
        "import matplotlib.pyplot as plt\n",
        "\n",
        "# Dados de exemplo\n",
        "X_train = tf.constant([[1.0], [2.0], [3.0], [4.0]])\n",
        "y_train = tf.constant([[2.0], [4.0], [6.0], [8.0]])\n",
        "\n",
        "# Definimos os dados de exemplo X_train (entradas) e y_train (saídas desejadas) para treinar o modelo.\n",
        "# No exemplo, estamos usando pares de entrada e saída que representam uma reação linear simples (o dobro das entradas).\n",
        "\n",
        "\n",
        "# O modelo de regressão de linear simples\n",
        "model = Sequential()\n",
        "model.add(Dense(units=1, input_shape=(1,)))\n",
        "model.compile(optimizer='sgd', loss='mean_squared_error')\n",
        "\n",
        "# Definimos o modelo de Regressão linear simples usando a API keras Sequential.\n",
        "# Omodelo consiste em uma única camada densa(ou totalmente conectada) com um neurônio(ou unidade) e uma entrada.\n",
        "# Estamos usando a função de perda (loss) de erro quadrático médio (mean squared error - 'mean_squared_error') e\n",
        "# O otimizador 'sgd' (descida de gradiente estocástica\n",
        "\n",
        "\n",
        "# Treinamento do modelo\n",
        "history = model.fit (X_train, y_train, epochs=1000, verbose=0)\n",
        "\n",
        "# Nesta ação, treinamos o modelo usado os dados de exemplo.\n",
        "# Executamos 1000 épocas de treinamento (epochs) e armazenamos o histórico do treinamento em history.\n",
        "# O argumento verbose=0 faz com que o treinamento seja executada em modo silencioso, sem exibir informações de progresso.\n",
        "\n",
        "# Previsão\n",
        "x_new = tf.constant([[5.0]])\n",
        "prediction = model.predict(x_new)\n",
        "print(\"Predição:\", prediction[0][0])\n",
        "\n",
        "#Aqui, fazemos uma previsão usando o modelo treinado.\n",
        "#Informamos uma nova entrada x_new (5.0) calculamos a previsão. O resultado é impresso na tela.\n",
        "\n",
        "\n",
        "# Plotar os resultados\n",
        "plt.plot(history.history['loss'])\n",
        "plt.title('Model Loss Over Training')\n",
        "plt.xlabel('Époch')\n",
        "plt.ylabel('Loss')\n",
        "plt.show()\n",
        "\n",
        "# Por fim, plotamos a perda (loss) do modelo ao longo do treinamento. Usamos history.history ['loss'] para obter a lista das perdas em cada época.\n",
        "#Configuramos os títulos e rótulos dos eixos e exibimos o gráfico com plt.show[].\n",
        "#Isso nos permite visualizar como a perda do modelo diminuiu durante o treinamento, o que é uma indicação do aprendizado do modelo."
      ],
      "metadata": {
        "colab": {
          "base_uri": "https://localhost:8080/",
          "height": 563
        },
        "id": "RMfd_c8sWx_V",
        "outputId": "233a9c47-d8df-4f7a-8aac-3e639c33b714"
      },
      "execution_count": 3,
      "outputs": [
        {
          "output_type": "stream",
          "name": "stderr",
          "text": [
            "/usr/local/lib/python3.12/dist-packages/keras/src/layers/core/dense.py:93: UserWarning: Do not pass an `input_shape`/`input_dim` argument to a layer. When using Sequential models, prefer using an `Input(shape)` object as the first layer in the model instead.\n",
            "  super().__init__(activity_regularizer=activity_regularizer, **kwargs)\n"
          ]
        },
        {
          "output_type": "stream",
          "name": "stdout",
          "text": [
            "\u001b[1m1/1\u001b[0m \u001b[32m━━━━━━━━━━━━━━━━━━━━\u001b[0m\u001b[37m\u001b[0m \u001b[1m0s\u001b[0m 51ms/step\n",
            "Predição: 9.970694\n"
          ]
        },
        {
          "output_type": "display_data",
          "data": {
            "text/plain": [
              "<Figure size 640x480 with 1 Axes>"
            ],
            "image/png": "[encoded data removed]"
          },
          "metadata": {}
        }
      ]
    },
    {
      "cell_type": "code",
      "source": [
        "import tensorflow as tf\n",
        "from tensorflow.keras.layers import Input, Dense\n",
        "from tensorflow.keras.models import Model\n",
        "\n",
        "#Dados de exemplo\n",
        "x_unsupervised = tf.constant([[1.0, 2.0], [2.0, 3.0], [3.0, 4.0], [4.0, 5.0]])\n",
        "\n",
        "#Aqui, voce define os dados de exemplo que serão usados para treinar e testar modelo autoencoder.\n",
        "#Esses dados são armazenadas na variável x_unsupervised como um tensor tensorflow.\n",
        "#Cada linha representa um exemplo com duas características.\n",
        "\n",
        "#Modelo autoencoder simples\n",
        "input_layer = Input(shape=(2,))\n",
        "encoded = Dense(units=1)(input_layer)\n",
        "decoded = Dense(units=2)(encoded)\n",
        "\n",
        "autoencoder = Model(inputs=input_layer, outputs=decoded)\n",
        "autoencoder.compile(optimizer='adam', loss='mean_squared_error')\n",
        "\n",
        "#Aqui, definimos o modelo autoencoder simples\n",
        "#Define o modelo autoencoder simples usando a API Keras:\n",
        "\n",
        "#input_layer = input(shape=(2,)): Define uma camada de entrada com duas características.\n",
        "#encoded = Dense(units=1)(input_layer): Define uma camada densa (totalmente conectada) com uma unidade(neurônio) que representa a camada codificada autoencoder\n",
        "#Decoded = Dense(units=2)(encoded): Define uma camada densa com 2 unidades que representa a camada decodificada do autoencoder.\n",
        "#Autoencoder = Models(inputs=input_layer, outputs=decoded): Cria o modelo autoencoder, especificando as camadas de entrada e saída.\n",
        "#Autoencoder.compile(optimizer='adam',loss='mean_squared_error'): Compila o modelo, definindo o otimizador Adam e a função de perda com erro quadrático médio.\n",
        "\n",
        "#Treinamento do modelo não supervisionado\n",
        "autoencoder.fit(x_unsupervised, x_unsupervised, epochs=1000, verbose=0)\n",
        "\n",
        "#Nesta parte voce treina o modelo autoencoderusando os dados de exemplo x_unsupervised.\n",
        "#O autoencoder é treinado para reconstruir os dados de entrada a partir de sua representação codificada.\n",
        "#O treinamento é executado por 1000 épocas (epochs) e é silencioso (verbose=0), o que significa que não exibirá informações de progresso.\n",
        "\n",
        "#Previsão\n",
        "predictions_unsupervised = autoencoder.predict(x_unsupervised)\n",
        "print(\"Predição não supervisionada:\", predictions_unsupervised)\n",
        "\n",
        "#reduzir a dimensionalidade de imagens mantendo a maior parte das informações importantes.\n",
        "\n"
      ],
      "metadata": {
        "colab": {
          "base_uri": "https://localhost:8080/"
        },
        "id": "L8k1KvX6RZy-",
        "outputId": "b1195743-8f53-45a7-968e-b97fabc7ff4e"
      },
      "execution_count": 4,
      "outputs": [
        {
          "output_type": "stream",
          "name": "stdout",
          "text": [
            "\u001b[1m1/1\u001b[0m \u001b[32m━━━━━━━━━━━━━━━━━━━━\u001b[0m\u001b[37m\u001b[0m \u001b[1m0s\u001b[0m 67ms/step\n",
            "Predição não supervisionada: [[ 0.66002405  1.297743  ]\n",
            " [ 0.3607006   1.9953737 ]\n",
            " [ 0.06137723  2.6930041 ]\n",
            " [-0.23794627  3.390635  ]]\n"
          ]
        }
      ]
    },
    {
      "cell_type": "code",
      "source": [
        "import tensorflow as tf\n",
        "import gym\n",
        "\n",
        "#Ambiente CartPole do gymnasium\n",
        "env = gym.make('CartPole-v1')\n",
        "\n",
        "#Modelo simples para aprendizado por Reforço\n",
        "model_reinforcement = tf.keras.Sequential([\n",
        "    tf.keras.layers.Dense(24, activation='relu', input_shape=(env.observation_space.shape[0],)),\n",
        "    tf.keras.layers.Dense(env.action_space.n, activation='linear')\n",
        "])\n",
        "\n",
        "model_reinforcement.compile(optimizer=tf.keras.optimizers.Adam(learning_rate=0.001), loss='mse')\n",
        "\n",
        "#Treinamento por Reforço(Exemplo Fictício)\n",
        "max_episodes = 1000 # Defina o número máximo de episódios\n",
        "for episode in range(max_episodes):\n",
        "\n",
        "    #Reinicializa o ambiente para o  novo episódio\n",
        "    state, _ = env.reset() # reset returns state and info now\n",
        "    done = False\n",
        "\n",
        "    while not done:\n",
        "        #Escolhe uma ação aleatória do espaço de ação\n",
        "        action = env.action_space.sample()\n",
        "\n",
        "        #Executa a ação e obtém o próximo estado, recompensa e se o estado terminou\n",
        "        next_state, reward, done = env.step(action)\n",
        "\n",
        "        # Calcula o alvo para ação tomada\n",
        "        target = reward + 0.95 * tf.reduce_max(model.reiforcement.predict(next_state.reshape(1, -1)))\n",
        "\n",
        "      #Obtém o valor Q previsto para o estado atual\n",
        "        target_f = model_reinforcement.predict(state.reshape(1, -1))\n",
        "\n",
        "    #Atualiza o valor Q para a ação tomada para o novo alvo\n",
        "    target_f[0][action] = target\n",
        "\n",
        "    #Treina o modelo usando o par (estado, novo valor Q)\n",
        "    model_reinforcement.fit(state.reshape(1, -1), target_f, epochs=1, verbose=0)\n",
        "\n",
        "    #Atualiza o estado para o próximo estado\n",
        "        state = next_state\n",
        "\n",
        "    #Condição de parada: Se a média da recompensa dos últimos dos 10 episódios atingir 1\n",
        "        if episode % 10 == 0:\n",
        "          average_reward = sum(reward for _ in range(10)) / 10.0\n",
        "        print(f'Episode {episode}, Average Reward: {average_reward}')\n",
        "\n",
        "        #Adicionando uma condição de parada\n",
        "        if average_reward == 1: # Pode ajustar este valor conforme necessário\n",
        "            print(f'Solved after {episode} episodes!')\n",
        "           break\n"
      ],
      "metadata": {
        "id": "LOAyAOqzmWdg"
      },
      "execution_count": null,
      "outputs": []
    },
    {
      "cell_type": "code",
      "source": [
        "\n",
        "import tensorflow as tf\n",
        "import gymnasium as gym # Use gymnasium\n",
        "import numpy as np\n",
        "from collections import deque\n",
        "\n",
        "# Ambiente CartPole do gymnasium\n",
        "env = gym.make('CartPole-v1', render_mode=\"rgb_array\") # Added render_mode\n",
        "\n",
        "# Modelo simples para aprendizado por Reforço (rede neural para Q-Learning)\n",
        "model_reinforcement = tf.keras.Sequential([\n",
        "    tf.keras.layers.Dense(24, activation='relu', input_shape=(env.observation_space.shape[0],)),\n",
        "    tf.keras.layers.Dense(env.action_space.n, activation='linear')\n",
        "])\n",
        "\n",
        "model_reinforcement.compile(optimizer=tf.keras.optimizers.Adam(learning_rate=0.001), loss='mse')\n",
        "\n",
        "# Hiperparâmetros\n",
        "max_episodes = 1000\n",
        "gamma = 0.95  # fator de desconto\n",
        "epsilon = 1.0  # exploração inicial\n",
        "epsilon_decay = 0.995\n",
        "epsilon_min = 0.01\n",
        "\n",
        "# Para calcular a média de recompensas\n",
        "rewards_history = deque(maxlen=10)\n",
        "\n",
        "for episode in range(max_episodes):\n",
        "    state, _ = env.reset() # Corrected unpacking syntax\n",
        "    done = False\n",
        "    total_reward = 0\n",
        "\n",
        "    while not done:\n",
        "        # Escolhe ação: exploração ou predição pelo modelo\n",
        "        if np.random.rand() <= epsilon:\n",
        "            action = env.action_space.sample()\n",
        "        else:\n",
        "            q_values = model_reinforcement.predict(state.reshape(1, -1), verbose=0)\n",
        "            action = np.argmax(q_values[0])\n",
        "\n",
        "        # Executa a ação no ambiente\n",
        "        next_state, reward, terminated, truncated, _ = env.step(action)\n",
        "        done = terminated or truncated\n",
        "        total_reward += reward\n",
        "\n",
        "        # Calcula Q-target\n",
        "        target = reward\n",
        "        if not done:\n",
        "            target += gamma * np.max(model_reinforcement.predict(next_state.reshape(1, -1), verbose=0))\n",
        "\n",
        "        # Atualiza a rede\n",
        "        target_f = model_reinforcement.predict(state.reshape(1, -1), verbose=0)\n",
        "        target_f[0][action] = target\n",
        "        model_reinforcement.fit(state.reshape(1, -1), target_f, epochs=1, verbose=0)\n",
        "\n",
        "        # Atualiza estado\n",
        "        state = next_state\n",
        "\n",
        "    # Decaimento de epsilon\n",
        "    if epsilon > epsilon_min:\n",
        "        epsilon *= epsilon_decay\n",
        "\n",
        "    # Guarda recompensa total do episódio\n",
        "    rewards_history.append(total_reward)\n",
        "\n",
        "    # Calcula média dos últimos 10 episódios\n",
        "    average_reward = np.mean(rewards_history)\n",
        "    print(f\"Episode {episode}, Reward: {total_reward}, Average Reward (10 eps): {average_reward:.2f}, Epsilon: {epsilon:.2f}\")\n",
        "\n",
        "    # Critério de parada: se resolver o problema\n",
        "    if average_reward >= 195.0:  # critério padrão do CartPole-v1\n",
        "        print(f\"Solved after {episode} episodes!\")\n",
        "        break"
      ],
      "metadata": {
        "colab": {
          "base_uri": "https://localhost:8080/"
        },
        "outputId": "16c919db-66a9-42b0-fa11-050bb36a3626",
        "id": "pxUBIc2Umhzp"
      },
      "execution_count": null,
      "outputs": [
        {
          "output_type": "stream",
          "name": "stderr",
          "text": [
            "/usr/local/lib/python3.12/dist-packages/keras/src/layers/core/dense.py:93: UserWarning: Do not pass an `input_shape`/`input_dim` argument to a layer. When using Sequential models, prefer using an `Input(shape)` object as the first layer in the model instead.\n",
            "  super().__init__(activity_regularizer=activity_regularizer, **kwargs)\n"
          ]
        },
        {
          "output_type": "stream",
          "name": "stdout",
          "text": [
            "Episode 0, Reward: 10.0, Average Reward (10 eps): 10.00, Epsilon: 0.99\n",
            "Episode 1, Reward: 10.0, Average Reward (10 eps): 10.00, Epsilon: 0.99\n",
            "Episode 2, Reward: 24.0, Average Reward (10 eps): 14.67, Epsilon: 0.99\n",
            "Episode 3, Reward: 16.0, Average Reward (10 eps): 15.00, Epsilon: 0.98\n",
            "Episode 4, Reward: 19.0, Average Reward (10 eps): 15.80, Epsilon: 0.98\n",
            "Episode 5, Reward: 22.0, Average Reward (10 eps): 16.83, Epsilon: 0.97\n",
            "Episode 6, Reward: 16.0, Average Reward (10 eps): 16.71, Epsilon: 0.97\n",
            "Episode 7, Reward: 18.0, Average Reward (10 eps): 16.88, Epsilon: 0.96\n",
            "Episode 8, Reward: 21.0, Average Reward (10 eps): 17.33, Epsilon: 0.96\n",
            "Episode 9, Reward: 14.0, Average Reward (10 eps): 17.00, Epsilon: 0.95\n",
            "Episode 10, Reward: 30.0, Average Reward (10 eps): 19.00, Epsilon: 0.95\n",
            "Episode 11, Reward: 12.0, Average Reward (10 eps): 19.20, Epsilon: 0.94\n",
            "Episode 12, Reward: 12.0, Average Reward (10 eps): 18.00, Epsilon: 0.94\n",
            "Episode 13, Reward: 12.0, Average Reward (10 eps): 17.60, Epsilon: 0.93\n",
            "Episode 14, Reward: 18.0, Average Reward (10 eps): 17.50, Epsilon: 0.93\n",
            "Episode 15, Reward: 27.0, Average Reward (10 eps): 18.00, Epsilon: 0.92\n",
            "Episode 16, Reward: 17.0, Average Reward (10 eps): 18.10, Epsilon: 0.92\n",
            "Episode 17, Reward: 25.0, Average Reward (10 eps): 18.80, Epsilon: 0.91\n",
            "Episode 18, Reward: 17.0, Average Reward (10 eps): 18.40, Epsilon: 0.91\n",
            "Episode 19, Reward: 12.0, Average Reward (10 eps): 18.20, Epsilon: 0.90\n",
            "Episode 20, Reward: 16.0, Average Reward (10 eps): 16.80, Epsilon: 0.90\n",
            "Episode 21, Reward: 25.0, Average Reward (10 eps): 18.10, Epsilon: 0.90\n",
            "Episode 22, Reward: 12.0, Average Reward (10 eps): 18.10, Epsilon: 0.89\n",
            "Episode 23, Reward: 17.0, Average Reward (10 eps): 18.60, Epsilon: 0.89\n",
            "Episode 24, Reward: 16.0, Average Reward (10 eps): 18.40, Epsilon: 0.88\n",
            "Episode 25, Reward: 20.0, Average Reward (10 eps): 17.70, Epsilon: 0.88\n",
            "Episode 26, Reward: 13.0, Average Reward (10 eps): 17.30, Epsilon: 0.87\n",
            "Episode 27, Reward: 14.0, Average Reward (10 eps): 16.20, Epsilon: 0.87\n",
            "Episode 28, Reward: 33.0, Average Reward (10 eps): 17.80, Epsilon: 0.86\n",
            "Episode 29, Reward: 17.0, Average Reward (10 eps): 18.30, Epsilon: 0.86\n",
            "Episode 30, Reward: 12.0, Average Reward (10 eps): 17.90, Epsilon: 0.86\n",
            "Episode 31, Reward: 24.0, Average Reward (10 eps): 17.80, Epsilon: 0.85\n",
            "Episode 32, Reward: 18.0, Average Reward (10 eps): 18.40, Epsilon: 0.85\n",
            "Episode 33, Reward: 35.0, Average Reward (10 eps): 20.20, Epsilon: 0.84\n",
            "Episode 34, Reward: 19.0, Average Reward (10 eps): 20.50, Epsilon: 0.84\n"
          ]
        }
      ]
    },
    {
      "cell_type": "markdown",
      "source": [
        "#TensorFlow =\n",
        "\n",
        " TensorFlow é uma biblioteca de código aberto desenvolvida pela Google que\n",
        "facilita a implementação de modelos de Machine Learning e Deep Learning. Sua\n",
        "estrutura flexível permite a criação e treinamento de modelos complexos, sendo\n",
        "amplamente utilizada na comunidade de aprendizado de máquina.\n",
        "\n",
        "Vamos de exemplo!\n"
      ],
      "metadata": {
        "id": "ypdZpg8JUptJ"
      }
    },
    {
      "cell_type": "markdown",
      "source": [
        "#Aplicando a aula! =\n",
        "\n",
        "Imagine que você é o gerente de uma pequena loja\n",
        "que vende produtos exclusivos. Ao analisar o histórico\n",
        "de vendas ao longo de um ano, você percebeu que as\n",
        "vendas variam conforme os meses passam. Para\n",
        "tomar decisões mais informadas sobre o estoque e\n",
        "estratégias de marketing, você decide explorar a\n",
        "possibilidade de prever as vendas futuras.\n"
      ],
      "metadata": {
        "id": "mn14mk2rUykQ"
      }
    },
    {
      "cell_type": "code",
      "source": [
        "import numpy as np\n",
        "import pandas as pd\n",
        "import matplotlib.pyplot as plt\n",
        "from sklearn.model_selection import train_test_split\n",
        "from sklearn.preprocessing import MinMaxScaler\n",
        "from sklearn.metrics import mean_squared_error\n",
        "import tensorflow as tf\n",
        "\n",
        "# Faça previsão no conjunto de teste\n",
        "prediction_scaled = model.predict(X_test_scaled)\n",
        "\n",
        "#Desfaça a normalização para avaliar o desempenho\n",
        "prediction_inverse = scaler.inverse_transform(prediction_scaled)\n",
        "y_test_inverse = scaler.inverse_transform(np.array(y_test).reshape(-1, 1))\n",
        "\n",
        "#Visualize as previsões aos dados reais\n",
        "plt.scatter(x_teste, y_teste_inverse, label='Dados Reais')\n",
        "plt.plot(x_teste, prediction_inverse, color='red', label='Previsões')\n",
        "plt.xlabel('Mês')\n",
        "plt.ylabel('Vendas')\n",
        "plt.title('Previsões de Vendas com Regressão Linear (TensorFlow)')\n",
        "plt.legend()\n",
        "plt.show()\n",
        "\n",
        "#Avalie o desempenho do modelo\n",
        "erro_mse = mean_squared_error(y_teste_inverse, prediction_inverse)\n",
        "print(f'Erro Médio Quadrático (MSE): {erro_mse.:2f}')\n",
        "\n",
        "# Faça uma previsão para o próximo mês\n",
        "proximo_mes_scaled = scaler.transform(np.array([[13]]))\n",
        "previsao_proximo_mes_scaled = model.predict(proximo_mes_scaled)\n",
        "previsao_proximo_mes = scaler.inverse_transform(previsao_proximo_mes_scaled)[0,0]\n",
        "print(f'Previsão de venda para o próximo mês: {previsao_proximo_mes[0][0]:.2f}')\n"
      ],
      "metadata": {
        "id": "CV9ZmgUvGi2U"
      },
      "execution_count": null,
      "outputs": []
    },
    {
      "cell_type": "code",
      "source": [
        "import numpy as np\n",
        "import pandas as pd\n",
        "import matplotlib.pyplot as plt\n",
        "from sklearn.model_selection import train_test_split\n",
        "from sklearn.preprocessing import MinMaxScaler\n",
        "from sklearn.metrics import mean_squared_error\n",
        "import tensorflow as tf\n",
        "\n",
        "# ------------------------------\n",
        "# 1. Gerar dados fictícios de vendas\n",
        "# ------------------------------\n",
        "meses = np.arange(1, 13).reshape(-1, 1)   # 12 meses\n",
        "vendas = np.array([100, 120, 150, 170, 160, 180, 200, 220, 210, 230, 250, 270]).reshape(-1, 1)\n",
        "\n",
        "# ------------------------------\n",
        "# 2. Normalizar os dados\n",
        "# ------------------------------\n",
        "scaler_X = MinMaxScaler()\n",
        "scaler_y = MinMaxScaler()\n",
        "\n",
        "X_scaled = scaler_X.fit_transform(meses)\n",
        "y_scaled = scaler_y.fit_transform(vendas)\n",
        "\n",
        "# Divisão em treino e teste\n",
        "X_train_scaled, X_test_scaled, y_train_scaled, y_test_scaled = train_test_split(\n",
        "    X_scaled, y_scaled, test_size=0.2, random_state=42\n",
        ")\n",
        "\n",
        "# ------------------------------\n",
        "# 3. Criar modelo (Regressão Linear com NN)\n",
        "# ------------------------------\n",
        "model = tf.keras.Sequential([\n",
        "    tf.keras.layers.Dense(1, input_dim=1)  # 1 entrada (mês), 1 saída (vendas)\n",
        "])\n",
        "\n",
        "model.compile(optimizer='adam', loss='mse')\n",
        "\n",
        "# ------------------------------\n",
        "# 4. Treinar o modelo\n",
        "# ------------------------------\n",
        "history = model.fit(X_train_scaled, y_train_scaled, epochs=300, verbose=0)\n",
        "\n",
        "# ------------------------------\n",
        "# 5. Previsões no conjunto de teste\n",
        "# ------------------------------\n",
        "predictions_scaled = model.predict(X_test_scaled)\n",
        "\n",
        "# Desfazer normalização\n",
        "prediction_inverse = scaler_y.inverse_transform(predictions_scaled)\n",
        "y_test_inverse = scaler_y.inverse_transform(y_test_scaled)\n",
        "\n",
        "# ------------------------------\n",
        "# 6. Visualização\n",
        "# ------------------------------\n",
        "plt.scatter(X_test_scaled, y_test_inverse, label='Dados Reais', color='blue')\n",
        "plt.scatter(X_test_scaled, prediction_inverse, label='Previsões', color='red')\n",
        "plt.xlabel('Mês (normalizado)')\n",
        "plt.ylabel('Vendas')\n",
        "plt.title('Previsões de Vendas com Regressão Linear (TensorFlow)')\n",
        "plt.legend()\n",
        "plt.show()\n",
        "\n",
        "# ------------------------------\n",
        "# 7. Avaliação do modelo\n",
        "# ------------------------------\n",
        "erro_mse = mean_squared_error(y_test_inverse, prediction_inverse)\n",
        "print(f'Erro Médio Quadrático (MSE): {erro_mse:.2f}')\n",
        "\n",
        "# ------------------------------\n",
        "# 8. Previsão para o próximo mês (Mês 13)\n",
        "# ------------------------------\n",
        "proximo_mes_scaled = scaler_X.transform(np.array([[13]]))\n",
        "previsao_proximo_mes_scaled = model.predict(proximo_mes_scaled)\n",
        "previsao_proximo_mes = scaler_y.inverse_transform(previsao_proximo_mes_scaled)[0, 0]\n",
        "\n",
        "print(f'Previsão de venda para o próximo mês (13): {previsao_proximo_mes:.2f}')\n"
      ],
      "metadata": {
        "colab": {
          "base_uri": "https://localhost:8080/",
          "height": 596
        },
        "id": "pQ56lTiKH2Gg",
        "outputId": "992d5752-b36a-436f-feee-78c62079f2d3"
      },
      "execution_count": 14,
      "outputs": [
        {
          "output_type": "stream",
          "name": "stderr",
          "text": [
            "/usr/local/lib/python3.12/dist-packages/keras/src/layers/core/dense.py:93: UserWarning: Do not pass an `input_shape`/`input_dim` argument to a layer. When using Sequential models, prefer using an `Input(shape)` object as the first layer in the model instead.\n",
            "  super().__init__(activity_regularizer=activity_regularizer, **kwargs)\n"
          ]
        },
        {
          "output_type": "stream",
          "name": "stdout",
          "text": [
            "\u001b[1m1/1\u001b[0m \u001b[32m━━━━━━━━━━━━━━━━━━━━\u001b[0m\u001b[37m\u001b[0m \u001b[1m0s\u001b[0m 52ms/step\n"
          ]
        },
        {
          "output_type": "display_data",
          "data": {
            "text/plain": [
              "<Figure size 640x480 with 1 Axes>"
            ],
            "image/png": "[encoded data removed]"
          },
          "metadata": {}
        },
        {
          "output_type": "stream",
          "name": "stdout",
          "text": [
            "Erro Médio Quadrático (MSE): 1478.89\n",
            "\u001b[1m1/1\u001b[0m \u001b[32m━━━━━━━━━━━━━━━━━━━━\u001b[0m\u001b[37m\u001b[0m \u001b[1m0s\u001b[0m 52ms/step\n",
            "Previsão de venda para o próximo mês (13): 218.21\n"
          ]
        }
      ]
    },
    {
      "cell_type": "code",
      "source": [
        "import numpy as np\n",
        "import pandas as pd\n",
        "import matplotlib.pyplot as plt\n",
        "from sklearn.model_selection import train_test_split\n",
        "from sklearn.preprocessing import MinMaxScaler\n",
        "from sklearn.metrics import mean_squared_error\n",
        "import tensorflow as tf\n",
        "\n",
        "# Crie dados fictícios de vendas ao longo do tempo\n",
        "np.random.seed(42)\n",
        "meses = np.arange(1, 13).reshape(-1, 1) # Reshape to be a 2D array\n",
        "vendas = np.array([200, 220, 250, 280, 300, 320, 350, 380, 400, 420, 450, 480]).reshape(-1, 1) # Reshape to be a 2D array\n",
        "\n",
        "# Crie um DataFrame (Optional, but good practice)\n",
        "dados = pd.DataFrame({'Mes': meses.flatten(), 'Vendas': vendas.flatten()})\n",
        "\n",
        "# Visualize os dados\n",
        "plt.scatter(dados['Mes'], dados['Vendas'])\n",
        "plt.xlabel('Mês')\n",
        "plt.ylabel('Vendas')\n",
        "plt.title('Dados de Vendas ao Longo do Tempo')\n",
        "plt.show()\n",
        "\n",
        "# Separate features (X) and target (y)\n",
        "X = meses\n",
        "y = vendas\n",
        "\n",
        "# Split the data into training and testing sets\n",
        "X_train, X_test, y_train, y_test = train_test_split(X, y, test_size=0.2, random_state=42)\n",
        "\n",
        "# Normalization of training data\n",
        "scaler_X = MinMaxScaler()\n",
        "X_train_scaled = scaler_X.fit_transform(X_train)\n",
        "X_test_scaled = scaler_X.transform(X_test)\n",
        "\n",
        "scaler_y = MinMaxScaler()\n",
        "y_train_scaled = scaler_y.fit_transform(y_train)\n",
        "y_test_scaled = scaler_y.transform(y_test)\n",
        "\n",
        "\n",
        "# Crie e treine o modelo de regressão linear usando TensorFlow\n",
        "model = tf.keras.Sequential([\n",
        "    tf.keras.layers.Input(shape=(1,)),  # Camada de entrada\n",
        "    tf.keras.layers.Dense(units=8, activation='relu'),  # Camada escondida com ativação ReLU\n",
        "    tf.keras.layers.Dense(units=1)  # Camada de saída\n",
        "])\n",
        "\n",
        "model.compile(optimizer='adam', loss='mean_squared_error')\n",
        "\n",
        "# Treine o modelo por mais épocas\n",
        "model.fit(X_train_scaled, y_train_scaled, epochs=500, verbose=0)\n",
        "\n",
        "\n",
        "# Faça previsões no conjunto de teste\n",
        "predictions_scaled = model.predict(X_test_scaled)\n",
        "\n",
        "# Desfaça a normalização para avaliar o desempenho\n",
        "prediction_inverse = scaler_y.inverse_transform(predictions_scaled)\n",
        "y_test_inverse = scaler_y.inverse_transform(y_test_scaled)\n",
        "\n",
        "# Visualize as previsões em relação aos dados reais\n",
        "plt.scatter(X_test, y_test, label='Dados Reais') # Use original X_test and y_test for plotting real data\n",
        "plt.plot(X_test, prediction_inverse, color='red', label='Previsões')\n",
        "plt.xlabel('Mês')\n",
        "plt.ylabel('Vendas')\n",
        "plt.title('Previsões de Vendas com Regressão Linear (TensorFlow)')\n",
        "plt.legend()\n",
        "plt.show()\n",
        "\n",
        "\n",
        "# Avalie o desempenho do modelo\n",
        "erro_mse = mean_squared_error(y_test_inverse, prediction_inverse) # Use inverse transformed values for MSE\n",
        "print(f'Erro Médio Quadrático (MSE): {erro_mse:.2f}')\n",
        "\n",
        "\n",
        "# Faça uma previsão para o próximo mês\n",
        "proximo_mes_scaled = scaler_X.transform(np.array([[13]]))\n",
        "previsao_proximo_mes_scaled = model.predict(proximo_mes_scaled)\n",
        "previsao_proximo_mes = scaler_y.inverse_transform(previsao_proximo_mes_scaled)[0, 0]\n",
        "print(f'Previsão de Vendas para o Próximo Mês: {previsao_proximo_mes:.2f}')"
      ],
      "metadata": {
        "colab": {
          "base_uri": "https://localhost:8080/",
          "height": 1000
        },
        "id": "-_u_lsTVJ3Yz",
        "outputId": "45ec53c2-fa86-4ca7-d677-f0231fb18974"
      },
      "execution_count": 21,
      "outputs": [
        {
          "output_type": "display_data",
          "data": {
            "text/plain": [
              "<Figure size 640x480 with 1 Axes>"
            ],
            "image/png": "[encoded data removed]"
          },
          "metadata": {}
        },
        {
          "output_type": "stream",
          "name": "stderr",
          "text": [
            "WARNING:tensorflow:5 out of the last 5 calls to <function TensorFlowTrainer.make_predict_function.<locals>.one_step_on_data_distributed at 0x79ba0cefd940> triggered tf.function retracing. Tracing is expensive and the excessive number of tracings could be due to (1) creating @tf.function repeatedly in a loop, (2) passing tensors with different shapes, (3) passing Python objects instead of tensors. For (1), please define your @tf.function outside of the loop. For (2), @tf.function has reduce_retracing=True option that can avoid unnecessary retracing. For (3), please refer to https://www.tensorflow.org/guide/function#controlling_retracing and https://www.tensorflow.org/api_docs/python/tf/function for  more details.\n"
          ]
        },
        {
          "output_type": "stream",
          "name": "stdout",
          "text": [
            "\u001b[1m1/1\u001b[0m \u001b[32m━━━━━━━━━━━━━━━━━━━━\u001b[0m\u001b[37m\u001b[0m \u001b[1m0s\u001b[0m 62ms/step\n"
          ]
        },
        {
          "output_type": "display_data",
          "data": {
            "text/plain": [
              "<Figure size 640x480 with 1 Axes>"
            ],
            "image/png": "[encoded data removed]"
          },
          "metadata": {}
        },
        {
          "output_type": "stream",
          "name": "stdout",
          "text": [
            "Erro Médio Quadrático (MSE): 9708.72\n"
          ]
        },
        {
          "output_type": "stream",
          "name": "stderr",
          "text": [
            "WARNING:tensorflow:6 out of the last 6 calls to <function TensorFlowTrainer.make_predict_function.<locals>.one_step_on_data_distributed at 0x79ba0cefd940> triggered tf.function retracing. Tracing is expensive and the excessive number of tracings could be due to (1) creating @tf.function repeatedly in a loop, (2) passing tensors with different shapes, (3) passing Python objects instead of tensors. For (1), please define your @tf.function outside of the loop. For (2), @tf.function has reduce_retracing=True option that can avoid unnecessary retracing. For (3), please refer to https://www.tensorflow.org/guide/function#controlling_retracing and https://www.tensorflow.org/api_docs/python/tf/function for  more details.\n"
          ]
        },
        {
          "output_type": "stream",
          "name": "stdout",
          "text": [
            "\u001b[1m1/1\u001b[0m \u001b[32m━━━━━━━━━━━━━━━━━━━━\u001b[0m\u001b[37m\u001b[0m \u001b[1m0s\u001b[0m 63ms/step\n",
            "Previsão de Vendas para o Próximo Mês: 336.29\n"
          ]
        }
      ]
    }
  ],
  "metadata": {
    "colab": {
      "provenance": [],
      "authorship_tag": "ABX9TyOJ4EknztEnJjr2xyBlWH4E",
      "include_colab_link": true
    },
    "kernelspec": {
      "display_name": "Python 3",
      "name": "python3"
    },
    "language_info": {
      "name": "python"
    }
  },
  "nbformat": 4,
  "nbformat_minor": 0
}