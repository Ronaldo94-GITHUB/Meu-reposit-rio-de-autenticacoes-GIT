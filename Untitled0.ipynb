{
  "nbformat": 4,
  "nbformat_minor": 0,
  "metadata": {
    "colab": {
      "provenance": [],
      "authorship_tag": "ABX9TyPfNZrzg9BgGh1Hj5YgObww",
      "include_colab_link": true
    },
    "kernelspec": {
      "name": "python3",
      "display_name": "Python 3"
    },
    "language_info": {
      "name": "python"
    }
  },
  "cells": [
    {
      "cell_type": "markdown",
      "metadata": {
        "id": "view-in-github",
        "colab_type": "text"
      },
      "source": [
        "<a href=\"https://colab.research.google.com/github/Ronaldo94-GITHUB/Meu-reposit-rio-de-autenticacoes-GIT/blob/main/Untitled0.ipynb\" target=\"_parent\"><img src=\"https://colab.research.google.com/assets/colab-badge.svg\" alt=\"Open In Colab\"/></a>"
      ]
    },
    {
      "cell_type": "markdown",
      "source": [],
      "metadata": {
        "id": "hWzGHQsqME15"
      }
    },
    {
      "cell_type": "markdown",
      "source": [
        "Linguagem Python - Trabalho Engenharia Software"
      ],
      "metadata": {
        "id": "DVZt8-K5MI8B"
      }
    },
    {
      "cell_type": "code",
      "source": [
        " #hello world é o começo de tudo!!\n",
        "print(\"Hello World\")"
      ],
      "metadata": {
        "colab": {
          "base_uri": "https://localhost:8080/"
        },
        "id": "IxYwxotMMT55",
        "outputId": "8418d39f-102b-4997-afd1-234aa809789f"
      },
      "execution_count": null,
      "outputs": [
        {
          "output_type": "stream",
          "name": "stdout",
          "text": [
            "Hello World\n"
          ]
        }
      ]
    },
    {
      "cell_type": "markdown",
      "source": [
        "#olá mundo!!!"
      ],
      "metadata": {
        "id": "K-mPKvZRNLQ4"
      }
    },
    {
      "cell_type": "markdown",
      "source": [
        "#Variáveis e tipos de dados\n",
        "variáveis são fundamentais na programação, pois permitem armazenar e manipular dados."
      ],
      "metadata": {
        "id": "Ymu6l40YOQkh"
      }
    },
    {
      "cell_type": "code",
      "source": [
        "\n",
        "X = 10\n",
        "nome = 'aluno'\n",
        "nota = 8.5\n",
        "fez_inscrição = True"
      ],
      "metadata": {
        "id": "zZGm_G-WOosN"
      },
      "execution_count": null,
      "outputs": []
    },
    {
      "cell_type": "code",
      "source": [
        "print(type(X))\n",
        "print(type(nome))\n",
        "print(type(nota))\n",
        "print(type(fez_inscrição))\n"
      ],
      "metadata": {
        "colab": {
          "base_uri": "https://localhost:8080/"
        },
        "id": "LHTSmo_WQkpZ",
        "outputId": "9b6befcf-24bc-45fc-d1f8-8f484c23e88d"
      },
      "execution_count": null,
      "outputs": [
        {
          "output_type": "stream",
          "name": "stdout",
          "text": [
            "<class 'int'>\n",
            "<class 'str'>\n",
            "<class 'float'>\n",
            "<class 'bool'>\n"
          ]
        }
      ]
    },
    {
      "cell_type": "markdown",
      "source": [
        "#Melhorando o hello world"
      ],
      "metadata": {
        "id": "aNiVQyeCSNyu"
      }
    },
    {
      "cell_type": "markdown",
      "source": [],
      "metadata": {
        "id": "MtZzFil4P_aX"
      }
    },
    {
      "cell_type": "code",
      "source": [
        "nome = input(\"Digite um nome:\")\n"
      ],
      "metadata": {
        "id": "yXduUpmtWqb9",
        "colab": {
          "base_uri": "https://localhost:8080/"
        },
        "outputId": "86ae1e85-6d80-4b2c-e7d6-d44ecb605ca3"
      },
      "execution_count": null,
      "outputs": [
        {
          "name": "stdout",
          "output_type": "stream",
          "text": [
            "Digite um nome:Ronaldo\n"
          ]
        }
      ]
    },
    {
      "cell_type": "code",
      "source": [
        "print(nome)"
      ],
      "metadata": {
        "colab": {
          "base_uri": "https://localhost:8080/"
        },
        "id": "-9aIoDDDUcOs",
        "outputId": "610ce8f9-98f8-4dfa-b0c3-38ea9acbf631"
      },
      "execution_count": null,
      "outputs": [
        {
          "output_type": "stream",
          "name": "stdout",
          "text": [
            "Ronaldo\n"
          ]
        }
      ]
    },
    {
      "cell_type": "code",
      "source": [
        "#formato de Caracteres\n",
        "print(\"Olá %s, bem vindo a disciplina de programação. Parabéns pelo seu primeiro hello world\" % (nome))\n"
      ],
      "metadata": {
        "colab": {
          "base_uri": "https://localhost:8080/"
        },
        "id": "q_Wnzl9zWqf_",
        "outputId": "cd695aa3-99ee-43b7-91d7-4bc8c259409b"
      },
      "execution_count": null,
      "outputs": [
        {
          "output_type": "stream",
          "name": "stdout",
          "text": [
            "Olá Ronaldo, bem vindo a disciplina de programação. Parabéns pelo seu primeiro hello world\n"
          ]
        }
      ]
    },
    {
      "cell_type": "code",
      "source": [
        "#F-string\n",
        "print(f\"Olá {nome}, bem vindo a disciplina de programação. Parabéns pelo seu primeiro hello world\")\n"
      ],
      "metadata": {
        "colab": {
          "base_uri": "https://localhost:8080/"
        },
        "id": "-0Lvm9qdWaez",
        "outputId": "243148da-0dd4-4e88-8343-256b51e32176"
      },
      "execution_count": null,
      "outputs": [
        {
          "output_type": "stream",
          "name": "stdout",
          "text": [
            "Olá Ronaldo, bem vindo a disciplina de programação. Parabéns pelo seu primeiro hello world\n"
          ]
        }
      ]
    },
    {
      "cell_type": "code",
      "source": [
        "nota_1 = int(input(\"Digite a primeira nota:\"))\n",
        "nota_2 = int(input(\"Digite a segunda nota:\"))\n",
        "nota_3 = int(input(\"Digite a terceira nota:\"))\n",
        "nota_4 = int(input(\"Digite a quarta nota:\"))\n",
        "#observe que utilizamos a função int(), pois sem ela pois sem ela o python entenderia que as notas seriam string"
      ],
      "metadata": {
        "colab": {
          "base_uri": "https://localhost:8080/"
        },
        "id": "GkK2TetJX_U7",
        "outputId": "49cef58b-d42d-4063-de4f-5e0f276a5a2d"
      },
      "execution_count": null,
      "outputs": [
        {
          "name": "stdout",
          "output_type": "stream",
          "text": [
            "Digite a primeira nota:5\n",
            "Digite a segunda nota:6\n",
            "Digite a terceira nota:7\n",
            "Digite a quarta nota:9\n"
          ]
        }
      ]
    },
    {
      "cell_type": "code",
      "source": [
        "#Condição para aprovação do aluno.\n",
        "media = (nota_1 + nota_2 + nota_3 + nota_4 )/ 4\n",
        "\n",
        "if media >=6:\n",
        "    situação = \"Aprovado\"\n",
        "else:\n",
        "    situação = \"Reprovado\""
      ],
      "metadata": {
        "id": "SCEmV0atZsjx"
      },
      "execution_count": null,
      "outputs": []
    },
    {
      "cell_type": "code",
      "source": [
        "#dadas as notas motramos a média final e a situação do aluno.\n",
        "print(f\"A media das notas é: {media}\")\n",
        "print(f\"situação do aluno: {situação}\")"
      ],
      "metadata": {
        "colab": {
          "base_uri": "https://localhost:8080/"
        },
        "id": "n1GBGMzzatCG",
        "outputId": "1a5328ad-364b-42f7-d610-7dc47d9f9430"
      },
      "execution_count": null,
      "outputs": [
        {
          "output_type": "stream",
          "name": "stdout",
          "text": [
            "A media das notas é: 6.75\n",
            "situação do aluno: Aprovado\n"
          ]
        }
      ]
    },
    {
      "cell_type": "markdown",
      "source": [
        "#Estrutura condicionais de python - Unidade 01 aula 02"
      ],
      "metadata": {
        "id": "kIhtu9Dvb_1H"
      }
    },
    {
      "cell_type": "markdown",
      "source": [
        "#Vamos aprender topicos= Operadores relacionais, estrutura lógica, Estrutura condicionais if,else,elif.\n",
        "Operadores relacionais=nos permitem comparar valores, repondendo a perguntas como \"é maior o que?\", \"é igual a?\" ou \"é diferente de?\"."
      ],
      "metadata": {
        "id": "TLG1sS9ddsEz"
      }
    },
    {
      "cell_type": "markdown",
      "source": [
        "operação e significado\n",
        "< estritamente menor que\n",
        "<= menor ou igual que\n",
        "> estritamente maior que\n",
        ">= maior ou igual que\n",
        "== igual\n",
        "!= diferente\n",
        "is identidade do objetivo\n",
        "is not negação identidade do objetivo.\n"
      ],
      "metadata": {
        "id": "W0zvLs3XdvFe"
      }
    },
    {
      "cell_type": "code",
      "source": [
        "3>2"
      ],
      "metadata": {
        "colab": {
          "base_uri": "https://localhost:8080/"
        },
        "id": "yIRvVYr8ecil",
        "outputId": "d02acf7f-6133-45ca-9c6f-2ee53082ecae"
      },
      "execution_count": null,
      "outputs": [
        {
          "output_type": "execute_result",
          "data": {
            "text/plain": [
              "True"
            ]
          },
          "metadata": {},
          "execution_count": 25
        }
      ]
    },
    {
      "cell_type": "code",
      "source": [
        "2 == 2"
      ],
      "metadata": {
        "colab": {
          "base_uri": "https://localhost:8080/"
        },
        "id": "FfZ5qddZfyQ2",
        "outputId": "81980b6b-9bc4-4f1c-d949-e760f03aebf5"
      },
      "execution_count": null,
      "outputs": [
        {
          "output_type": "execute_result",
          "data": {
            "text/plain": [
              "True"
            ]
          },
          "metadata": {},
          "execution_count": 26
        }
      ]
    },
    {
      "cell_type": "code",
      "source": [
        "a = 'aluna'\n",
        "b = 'aluna'\n",
        "\n",
        "a is b\n"
      ],
      "metadata": {
        "colab": {
          "base_uri": "https://localhost:8080/"
        },
        "id": "Hs8lq4OHf3y_",
        "outputId": "cd2867d8-9ee1-4492-e451-9c0a5c7efa9a"
      },
      "execution_count": null,
      "outputs": [
        {
          "output_type": "execute_result",
          "data": {
            "text/plain": [
              "True"
            ]
          },
          "metadata": {},
          "execution_count": 27
        }
      ]
    },
    {
      "cell_type": "markdown",
      "source": [
        "Estrutura Lógica = São como peças quebra-cabeça que unem condições para criar critérios complexos. São elas que permitem tomar decisões mais elaboradas, combinando várias comparações.\n",
        "\n",
        "Operador E = 'and'\n",
        "Operador OU = 'OR'\n",
        "OPERADOR NÃO = 'NOT'\n",
        "\n",
        "Chamam de OPERADORES BOLEANOS\n",
        "\n",
        "São essenciais para criação de estruturas de decisão mais sofisticadas, permitindo que os programas lidem com uma variedade de situações e critérios lógicos. Eles são usados para controlar o fluxo de execução com base em condições complexas,e, assim, tornam possível em criar programas que tomam decisões de acordo com critérios decisivos."
      ],
      "metadata": {
        "id": "18eMbk-VgSFd"
      }
    },
    {
      "cell_type": "code",
      "source": [
        "#Estrutura condicionais if, else, elif\n",
        "#se isso for verdade aja assim; caso contrário, faça aquilo.\n",
        "Exemplo: semaforo verde (if), semaforo vermelho (else), varias condições (elif).\n",
        "obs:elif é uma abreviação de \"else if\". Ele é frequentemente usado após um bloco de if e antes de um bloco de else.\n",
        "\n"
      ],
      "metadata": {
        "id": "mLq20sTXiTBQ"
      },
      "execution_count": null,
      "outputs": []
    },
    {
      "cell_type": "code",
      "source": [
        "idade = 25\n",
        "\n",
        "if idade < 18:\n",
        "    print(\"Menor de idade.\")\n",
        "elif idade >= 18 and idade < 65:\n",
        "    print(\"adulto\")\n",
        "else:\n",
        "    print(\"idoso\")"
      ],
      "metadata": {
        "colab": {
          "base_uri": "https://localhost:8080/"
        },
        "id": "mSkLMtMM9bll",
        "outputId": "6fc7b653-7c7e-43c2-8540-a05da9a001d5"
      },
      "execution_count": null,
      "outputs": [
        {
          "output_type": "stream",
          "name": "stdout",
          "text": [
            "adulto\n"
          ]
        }
      ]
    },
    {
      "cell_type": "markdown",
      "source": [
        "Exercícios:Suponhamos que temos 3 filmes por semana, cada filme tem uma faixa etária, o primeiro é para menores de 12 anos, o segundo é para maiores ou iguais a 12 anos e menores que 18, por fim, o terceiro filme é para maiores ou iguais a 18 anos. Outro é a respeito da disponibilidade de ingresso.\n",
        "Tranformar em algoritmo."
      ],
      "metadata": {
        "id": "lzWg_DAt_U5W"
      }
    },
    {
      "cell_type": "code",
      "source": [
        "#Bem-vindo à máquina de venda automático ingressos de cinema!!!\n",
        "\n",
        "#Solicita a entrada do cliente\n",
        "idade = int(input(\"Por favor, digite sua idade\"))\n",
        "\n",
        "#Verifica a idade para sugestão de filmes\n",
        "if idade < 12:\n",
        "  print(\"Recomendamos o filme infantil Filme 1.\")\n",
        "elif 12 <= idade < 18:\n",
        "  print(\"Recomendamos o filme adolescente Filme 2.\")\n",
        "else:\n",
        "  print(\"Recomendamos o filme adulto Filme 3.\")\n",
        "\n",
        "#Verifica a disponibilidade de ingressos\n",
        "quantidade_ingressos = 0 # Suponhamos que haja 10 ingressos disponíveis\n",
        "if quantidade_ingressos > 0:\n",
        "  print(\"ingressos estão disponíveis. Divirta-se nos cinemas!\")\n",
        "else:\n",
        "  print(\"Desculpa todos os ingressos foram esgotados hoje.\")"
      ],
      "metadata": {
        "colab": {
          "base_uri": "https://localhost:8080/"
        },
        "id": "5KpoLvtOAN0M",
        "outputId": "df0ac6e1-0fab-4b53-e54a-5095ddb6c9bc"
      },
      "execution_count": null,
      "outputs": [
        {
          "output_type": "stream",
          "name": "stdout",
          "text": [
            "Por favor, digite sua idade25\n",
            "Recomendamos o filme adulto Filme 3.\n",
            "Desculpa todos os ingressos foram esgotados hoje.\n"
          ]
        }
      ]
    },
    {
      "cell_type": "markdown",
      "source": [
        "Unidade 01 - Aula 03 - Estruturas de repetição em Python\n",
        "#For\n",
        "#While\n",
        "#Controle de Repetição: Range, break e continue"
      ],
      "metadata": {
        "id": "ujCleVirC7Oj"
      }
    },
    {
      "cell_type": "code",
      "source": [
        "#For\n",
        "numeros = [1,2,3,4,5]\n",
        "numeros"
      ],
      "metadata": {
        "colab": {
          "base_uri": "https://localhost:8080/"
        },
        "id": "FKfd9Qq1DXDD",
        "outputId": "a07987aa-a90e-4cc9-8706-823a77eaa9eb"
      },
      "execution_count": null,
      "outputs": [
        {
          "output_type": "execute_result",
          "data": {
            "text/plain": [
              "[1, 2, 3, 4, 5]"
            ]
          },
          "metadata": {},
          "execution_count": 5
        }
      ]
    },
    {
      "cell_type": "code",
      "source": [
        "numeros"
      ],
      "metadata": {
        "colab": {
          "base_uri": "https://localhost:8080/"
        },
        "id": "GkUWeF5qEgOX",
        "outputId": "381d467a-3519-4cf0-eb3b-a57eda0c3fbe"
      },
      "execution_count": null,
      "outputs": [
        {
          "output_type": "execute_result",
          "data": {
            "text/plain": [
              "[1, 2, 3, 4, 5]"
            ]
          },
          "metadata": {},
          "execution_count": 6
        }
      ]
    },
    {
      "cell_type": "code",
      "source": [
        "for num in numeros:\n",
        "  print(num)"
      ],
      "metadata": {
        "colab": {
          "base_uri": "https://localhost:8080/"
        },
        "id": "hnbfOaJ2Elvg",
        "outputId": "0320be46-9592-4a5e-d905-beeec123544a"
      },
      "execution_count": null,
      "outputs": [
        {
          "output_type": "stream",
          "name": "stdout",
          "text": [
            "1\n",
            "2\n",
            "3\n",
            "4\n",
            "5\n"
          ]
        }
      ]
    },
    {
      "cell_type": "code",
      "source": [
        "#While - não sabe aonde vai parar na repetição.\n",
        "numero = int(input(\"Digite um número, ou 0 para sair):\"))\n",
        "\n",
        "while numero != 0:\n",
        "  if(numero % 2 == 0):\n",
        "    print(\"O número é par\")\n",
        "  else:\n",
        "    print(\"O número é impar\")\n",
        "  numero = int(input(\"Digite um número (ou 0 para sair):\"))"
      ],
      "metadata": {
        "colab": {
          "base_uri": "https://localhost:8080/"
        },
        "id": "NmMBYXwuE4xn",
        "outputId": "cfe1d098-cec2-40d8-ccb3-02dee7470b51"
      },
      "execution_count": null,
      "outputs": [
        {
          "name": "stdout",
          "output_type": "stream",
          "text": [
            "Digite um número, ou 0 para sair):757643763\n",
            "O número é impar\n",
            "Digite um número (ou 0 para sair):72238736\n",
            "O número é par\n",
            "Digite um número (ou 0 para sair):26838636\n",
            "O número é par\n",
            "Digite um número (ou 0 para sair):0\n"
          ]
        }
      ]
    },
    {
      "cell_type": "code",
      "source": [
        "#Range - Serve para criar sequencias numéricos que podem ser usadas na estruturas de repetição como o comando for. Flexivel ao especificar os limites e os incrementos da sequencia.\n",
        "for x in range(5): #lembre-se que o range começa em 0\n",
        "  print(x)\n"
      ],
      "metadata": {
        "colab": {
          "base_uri": "https://localhost:8080/"
        },
        "id": "8RntiXs1G0Cc",
        "outputId": "9d6d26ec-f439-456a-e7f6-1af770e0554b"
      },
      "execution_count": null,
      "outputs": [
        {
          "output_type": "stream",
          "name": "stdout",
          "text": [
            "0\n",
            "1\n",
            "2\n",
            "3\n",
            "4\n"
          ]
        }
      ]
    },
    {
      "cell_type": "code",
      "source": [
        "for y in range(2,7): #Observa que aqui o 7 não entra no looping\n",
        "  print(y)"
      ],
      "metadata": {
        "colab": {
          "base_uri": "https://localhost:8080/"
        },
        "id": "WRW0xWwZIYkV",
        "outputId": "b2ded530-cfcf-4aef-fbbe-c5959ae1a2fd"
      },
      "execution_count": null,
      "outputs": [
        {
          "output_type": "stream",
          "name": "stdout",
          "text": [
            "2\n",
            "3\n",
            "4\n",
            "5\n",
            "6\n"
          ]
        }
      ]
    },
    {
      "cell_type": "code",
      "source": [
        "for z in range(1,11,2): #Observe que aqui o 11 não entra no looping\n",
        "  print(z)"
      ],
      "metadata": {
        "colab": {
          "base_uri": "https://localhost:8080/"
        },
        "id": "ksJ_F4qIIxgY",
        "outputId": "c9f84109-f731-4f8f-d3eb-8337529de499"
      },
      "execution_count": null,
      "outputs": [
        {
          "output_type": "stream",
          "name": "stdout",
          "text": [
            "1\n",
            "3\n",
            "5\n",
            "7\n",
            "9\n"
          ]
        }
      ]
    },
    {
      "cell_type": "code",
      "source": [
        "#Break e continue - Pare ou continue\n",
        "\n",
        "for numero in range(10,11):\n",
        "  if numero % 2 == 0:\n",
        "    print(\"O primeiro número par encontrado é:\", numero )\n",
        "    break"
      ],
      "metadata": {
        "colab": {
          "base_uri": "https://localhost:8080/"
        },
        "id": "u8u3WiqPJZBz",
        "outputId": "3eebfca4-604b-4964-e3f4-ae0ba3ab423f"
      },
      "execution_count": null,
      "outputs": [
        {
          "output_type": "stream",
          "name": "stdout",
          "text": [
            "O primeiro número par encontrado é: 10\n"
          ]
        }
      ]
    },
    {
      "cell_type": "code",
      "source": [
        "for numero in range(1, 11):\n",
        "  if numero == 5:\n",
        "    continue\n",
        "  print(numero)"
      ],
      "metadata": {
        "colab": {
          "base_uri": "https://localhost:8080/"
        },
        "id": "luScwWfoL2xw",
        "outputId": "b03b9cb5-ed51-4d6a-c603-b52ba13b1394"
      },
      "execution_count": null,
      "outputs": [
        {
          "output_type": "stream",
          "name": "stdout",
          "text": [
            "1\n",
            "2\n",
            "3\n",
            "4\n",
            "6\n",
            "7\n",
            "8\n",
            "9\n",
            "10\n"
          ]
        }
      ]
    },
    {
      "cell_type": "markdown",
      "source": [
        "Exercicio: Precisamos criar um programa que seja capaz de percorrer todos os filmes(Filme1,Filme2,Filme3,Filme4,Filme5) e para cada filme temos a nota de 1 a 5. Note que é importante sempre deixar uma forma da pessoa encerrar o programa caso queira."
      ],
      "metadata": {
        "id": "Iw8DNMP0O5ZA"
      }
    },
    {
      "cell_type": "code",
      "source": [
        "#Lista de filmes para cada classificação\n",
        "\n",
        "filmes = [\"Filme1\", \"Filme2\", \"Filme3\", \"Filme4\", \"Filme5\"]\n",
        "filmes"
      ],
      "metadata": {
        "colab": {
          "base_uri": "https://localhost:8080/"
        },
        "id": "L-LfM4uBPnxs",
        "outputId": "dcf4d47c-b0b1-454e-beed-793970a86c2a"
      },
      "execution_count": null,
      "outputs": [
        {
          "output_type": "execute_result",
          "data": {
            "text/plain": [
              "['Filme1', 'Filme2', 'Filme3', 'Filme4', 'Filme5']"
            ]
          },
          "metadata": {},
          "execution_count": 48
        }
      ]
    },
    {
      "cell_type": "code",
      "source": [
        "#Mensagens de boas vindas\n",
        "print(\"Bem vindo à classificação de filmes!\")\n",
        "print(\"Você tem 5 filmes para classificar\")\n",
        "print(\"Digite'0' a qualquer momento para parar\\n\")\n",
        "\n",
        "#Loop para iterar sobre cada filme na lista\n",
        "for filme in filmes:\n",
        "  #Solicita a classificação ao usuário\n",
        "  classificação = input(f\"Como você classificaria '(filme)'de 1 a 5? (ou 0 para parar):\")\n",
        "\n",
        "  #Verifica se o usuário deseja parar\n",
        "  if classificação == '0':\n",
        "    print(\"Que pena que você não irá classificar mais os filmes\")\n",
        "    break #Encerra o loop principal\n",
        "\n",
        "#Converte a classificação para um numero inteiro\n",
        "classificação = int(classificação)\n",
        "\n",
        "#Verifica se a classificação está dentro do intervalo válido\n",
        "if classificação < 1 or classificação > 5:\n",
        "  print(\"Por favor uma classificação válida de 1 a 5.\")\n",
        "else:\n",
        "    # Exibe a classificação e passa para o próximo filme\n",
        "    print(f\"Você classificou '{filme}' como {classificação} estrelas.\\n\")\n",
        "\n",
        "    # Obrigado de agradecimento ao finalizar\n",
        "    print(\"Obrigado por classificar os filmes\")\n"
      ],
      "metadata": {
        "colab": {
          "base_uri": "https://localhost:8080/"
        },
        "id": "dPJ6jNWpTlxx",
        "outputId": "0bb4f4ad-70b0-40ac-9fc5-a460977a202c"
      },
      "execution_count": null,
      "outputs": [
        {
          "output_type": "stream",
          "name": "stdout",
          "text": [
            "Bem vindo à classificação de filmes!\n",
            "Você tem 5 filmes para classificar\n",
            "Digite'0' a qualquer momento para parar\n",
            "\n",
            "Como você classificaria '(filme)'de 1 a 5? (ou 0 para parar):4\n",
            "Como você classificaria '(filme)'de 1 a 5? (ou 0 para parar):2\n",
            "Como você classificaria '(filme)'de 1 a 5? (ou 0 para parar):3\n",
            "Como você classificaria '(filme)'de 1 a 5? (ou 0 para parar):0\n",
            "Que pena que você não irá classificar mais os filmes\n",
            "Por favor uma classificação válida de 1 a 5.\n"
          ]
        }
      ]
    },
    {
      "cell_type": "markdown",
      "source": [
        "Unidade 01 - Aula 04 - Funções em Python\n",
        "#Funções em Built-in em Python\n",
        "#Função definida pelo usuário\n",
        "#Função em anonimas em python"
      ],
      "metadata": {
        "id": "_Q622w6vWotJ"
      }
    },
    {
      "cell_type": "code",
      "source": [
        "#Crie a função len\n",
        "\n",
        "#Cria uma lista de numeros\n",
        "numeros = [1,2,3,4,5,6]#7,8,9,10,11,a,True]\n",
        "#Usa a função len () para calcular o comprimento da lista\n",
        "comprimento = len (numeros)\n",
        "#imprime o comprimento da lista\n",
        "print(\"O comprimento da lista é:\", comprimento)\n"
      ],
      "metadata": {
        "colab": {
          "base_uri": "https://localhost:8080/"
        },
        "id": "gfqrQUfHXJIv",
        "outputId": "82d135a9-74f3-4e18-c910-0b52dc28e346"
      },
      "execution_count": null,
      "outputs": [
        {
          "output_type": "stream",
          "name": "stdout",
          "text": [
            "O comprimento da lista é: 6\n"
          ]
        }
      ]
    },
    {
      "cell_type": "markdown",
      "source": [
        "#Função definida pelo usuário (com retorno e parâmetro)= Capacidade de personalizar o desenvolvimento de códigos.Contrário das funções built-in, as funções definidas pelo usuário são criados pelo programador para atender a requisitos específicos dentro de um programa."
      ],
      "metadata": {
        "id": "Pw-weq-_idkG"
      }
    },
    {
      "cell_type": "code",
      "source": [
        "\n",
        "# Definindo uma função chamada \"soma\"\n",
        "def soma(a, b):\n",
        "    resultado = a + b\n",
        "    return resultado\n",
        "\n",
        "\n"
      ],
      "metadata": {
        "id": "whylosBCkOou"
      },
      "execution_count": null,
      "outputs": []
    },
    {
      "cell_type": "code",
      "source": [
        "resultado_soma = soma(5, 3)\n",
        "\n",
        "# Imprimindo o resultado\n",
        "print(\"A soma de 5 e 3 é:\", resultado_soma)"
      ],
      "metadata": {
        "colab": {
          "base_uri": "https://localhost:8080/"
        },
        "id": "7saVhGQ6m0yP",
        "outputId": "31fd2fe1-e5a9-45dd-b2a2-f28118c8db2d"
      },
      "execution_count": null,
      "outputs": [
        {
          "output_type": "stream",
          "name": "stdout",
          "text": [
            "A soma de 5 e 3 é: 8\n"
          ]
        }
      ]
    },
    {
      "cell_type": "code",
      "source": [
        "\n",
        "# Definindo uma função chamada \"e_par\"\n",
        "def e_par(numero):\n",
        "    if numero % 2 == 0:\n",
        "        return True\n",
        "    else:\n",
        "        return False"
      ],
      "metadata": {
        "id": "vEc3V7JZla3R"
      },
      "execution_count": null,
      "outputs": []
    },
    {
      "cell_type": "code",
      "source": [
        "numero= 12515616536545445525268\n",
        "if e_par(numero):\n",
        "    print(f\"{numero} é um número par.\")\n",
        "else:\n",
        "    print(f\"{numero} é um número ímpar.\")"
      ],
      "metadata": {
        "colab": {
          "base_uri": "https://localhost:8080/"
        },
        "id": "w7PG-8SCn3DU",
        "outputId": "30f8e157-08df-4410-f3cd-7991b955eba3"
      },
      "execution_count": null,
      "outputs": [
        {
          "output_type": "stream",
          "name": "stdout",
          "text": [
            "12515616536545445525268 é um número par.\n"
          ]
        }
      ]
    },
    {
      "cell_type": "markdown",
      "source": [
        "#Funções anônimas de Python = Conhecidas como funções Lambda, oferecem uma abordagem concisa e flexivel para a definição de funções pelo usuário. Funções anônimas são declaradas sem a necessidade de um nome, permitindo que sejam deifidas e utilizadas no local em que são necessários."
      ],
      "metadata": {
        "id": "iZ5HPDe5oiO6"
      }
    },
    {
      "cell_type": "code",
      "source": [
        "#EXPRESSÃO Lambda= são usadas para criar funções anonimas, o que significa que elas não tem um nome definido com \"def.;\"\n",
        "# Essas funções são úteis quando você precisa de uma ação simples que será usado apenas uma vez;\n",
        "#Ao oferecer essa forma mais compacta de expressar a lógica de programação, as funções anonimas enriquecem a expressividade do python, permitindo que os desenvolvedores criem código mais claro e eficiente em determinados contextos."
      ],
      "metadata": {
        "id": "P5cAawVMpqDY"
      },
      "execution_count": null,
      "outputs": []
    },
    {
      "cell_type": "code",
      "source": [
        "soma = lambda a, b: a + b\n",
        "resultado = soma(3, 4)\n",
        "print(resultado)\n",
        "\n",
        "# Neste exemplo, criamos uma expressão lambda que realiza a edição de dois números, a e b.\n",
        "#Não atribuimos um nome à função, mas podemos usá - la como qualquer outra função."
      ],
      "metadata": {
        "colab": {
          "base_uri": "https://localhost:8080/"
        },
        "id": "b2OuEQW0Q1c8",
        "outputId": "60bc818d-91cc-4113-f1d5-c3260d669618"
      },
      "execution_count": null,
      "outputs": [
        {
          "output_type": "stream",
          "name": "stdout",
          "text": [
            "7\n"
          ]
        }
      ]
    },
    {
      "cell_type": "markdown",
      "source": [
        "#Aplicando a aula: Sendo professor necessito avaliar constantemente os estudantes, sendo assim, quero automatizar a média de nota dos alunos.\n",
        "#Sabemos como é calcular a média, vamos dar upgrade no primeiro código utilizando o conhecimento desta nossa unidade.\n"
      ],
      "metadata": {
        "id": "EDQFLmIKSNRc"
      }
    },
    {
      "cell_type": "code",
      "source": [
        "# Lista de notas de estudantes\n",
        "notas = [7.5, 8.0, 6.5, 9.0 , 7.0]\n",
        "\n",
        "#Função regular para calcular a média\n",
        "def calcular_media(notas):\n",
        "  total = sum(notas)\n",
        "  media = total / len(notas)\n",
        "  return media\n",
        "\n",
        "# Função lambda para arredondar a media para duas casas decimais\n",
        "arredondar_media = lambda media: round(media, 2)\n",
        "\n",
        "# Calcular a média\n",
        "media = calcular_media(notas)\n",
        "media_arredondada = arredondar_media(media)\n",
        "\n",
        "# Verificar se os estudantes foram aprovados\n",
        "situacao = \"aprovado\" if media_arredondada >= 7 else \"reprovado\"\n",
        "\n",
        "# Resultados\n",
        "print(\"Notas dos estudante:\", notas)\n",
        "print(\"Médias das notas:\", media_arredondada)\n",
        "print(\"Situação do estudante:\", situacao)\n",
        "\n",
        "\n",
        "\n"
      ],
      "metadata": {
        "colab": {
          "base_uri": "https://localhost:8080/"
        },
        "id": "2sePq3k9S2BC",
        "outputId": "5c905040-99f3-4b4a-e6af-3d01fac7ad3d"
      },
      "execution_count": null,
      "outputs": [
        {
          "output_type": "stream",
          "name": "stdout",
          "text": [
            "Notas dos estudante: [7.5, 8.0, 6.5, 9.0, 7.0]\n",
            "Médias das notas: 7.6\n",
            "Situação do estudante: aprovado\n"
          ]
        }
      ]
    },
    {
      "cell_type": "markdown",
      "source": [
        "UNIDADE 01 AULA 05 = INTRODUÇÃO A LINGUAGEM PYTHON"
      ],
      "metadata": {
        "id": "XbB7yFsAXfvo"
      }
    },
    {
      "cell_type": "markdown",
      "source": [
        "#Questão norteadores:\n",
        "1 - Como voce pode aplicar seus conhecimentos em programação em python para criar uma calculadora com desconto?\n",
        "\n",
        "2 - Quais estruturas condicionais em Python voce pode usar para verificar se o desconto esta dentro dos limites aceitáveis?"
      ],
      "metadata": {
        "id": "Ct5jQSFJXzaU"
      }
    },
    {
      "cell_type": "code",
      "source": [
        "# Solicita ao usuario que insira o valor do produto e o percentual do desconto\n",
        "valor_produto = float(input(\"Digite o valor do produto: R$\"))"
      ],
      "metadata": {
        "colab": {
          "base_uri": "https://localhost:8080/"
        },
        "id": "Tx0argi3YX5K",
        "outputId": "919df95f-9f46-453c-a05b-4badb237f7f8"
      },
      "execution_count": null,
      "outputs": [
        {
          "name": "stdout",
          "output_type": "stream",
          "text": [
            "Digite o valor do produto: R$50000\n"
          ]
        }
      ]
    },
    {
      "cell_type": "code",
      "source": [
        "percentual_desconto = float(input(\"Digite o percentual de desconto:\"))"
      ],
      "metadata": {
        "colab": {
          "base_uri": "https://localhost:8080/"
        },
        "id": "nVLxdAR4Z1bO",
        "outputId": "e021132a-9762-4768-95a4-b2306c37a783"
      },
      "execution_count": null,
      "outputs": [
        {
          "name": "stdout",
          "output_type": "stream",
          "text": [
            "Digite o percentual de desconto:90\n"
          ]
        }
      ]
    },
    {
      "cell_type": "code",
      "source": [
        "# Verifica se o percentual de desconto esta dentro dos limites aceitáveis (0-100%)\n",
        "if percentual_desconto < 0 or percentual_desconto > 100:\n",
        "  print(\"Erro: o percentual de desconto deve estar entre 0 e 100%.\")\n",
        "else:\n",
        "    # Calcula o valor do desconto\n",
        "    desconto = valor_produto * (percentual_desconto / 100)\n"
      ],
      "metadata": {
        "id": "JZQ0VciEZLij"
      },
      "execution_count": null,
      "outputs": []
    },
    {
      "cell_type": "code",
      "source": [
        "# Calcule o valor final da compra\n",
        "valor_final = valor_produto - desconto"
      ],
      "metadata": {
        "id": "p_1zntVVakyN"
      },
      "execution_count": null,
      "outputs": []
    },
    {
      "cell_type": "code",
      "source": [
        "#Exibe o valor total da compra\n",
        "print(f\"Valor com desconto: R$ {valor_final:.2f}\")"
      ],
      "metadata": {
        "colab": {
          "base_uri": "https://localhost:8080/"
        },
        "id": "GvEY746ybDQo",
        "outputId": "91a7e039-428b-48a9-a949-6b2e389222a3"
      },
      "execution_count": null,
      "outputs": [
        {
          "output_type": "stream",
          "name": "stdout",
          "text": [
            "Valor com desconto: R$ 5000.00\n"
          ]
        }
      ]
    },
    {
      "cell_type": "markdown",
      "source": [
        "UNIDADE 02 AULA 01 = Estruturas de dados em Python - Parte 1\n",
        "\n",
        "# Objetos do tipo sequencia;\n",
        "# Lista;\n",
        "# Tuplas"
      ],
      "metadata": {
        "id": "94SLM2oBcE0S"
      }
    },
    {
      "cell_type": "markdown",
      "source": [
        "# Objetos tipos de sequencia: Sequencias são estruturas de dados que nos permitem armazenar coleções armazenadas de informações."
      ],
      "metadata": {
        "id": "P42jIRdOdDrp"
      }
    },
    {
      "cell_type": "markdown",
      "source": [
        "#Vai começar a sequencia\n",
        "Coleções versáteis que podem colecionar valores;\n",
        "Servem para organizar dados em uma ordem específica e são indexados por números inteiros não negativos;\n",
        "O primeiro elemento da sequencia é acessado pelo índice 0, o segundo pelo índice 1, e assim por diante, até o último elemento, que esta na posição n-1, onde n representa a capacidade de armazenamento da sequencia."
      ],
      "metadata": {
        "id": "RKZDj2I3etQM"
      }
    },
    {
      "cell_type": "markdown",
      "source": [
        "#Operação = Resultado\n",
        "x in s = true caso um item de s seja igual a x, senão false\n",
        "s+t = concatenação de s e t\n",
        "n*s = adiciona s a si mesmo n vezes\n",
        "s[i] = acessa o valor guardado na posição i da sequencia\n",
        "s[i:j] = acessa os valores de i até j\n",
        "s[i:j:k] = acessa os valores da posição i até j, com passo k\n",
        "len(s) = comprimento de s\n",
        "min(s) = menor valor de s\n",
        "max(s) = maior valor de s\n",
        "s.count(x) = número total de ocorrencia de x em s"
      ],
      "metadata": {
        "id": "GlgcrVLDI0Nh"
      }
    },
    {
      "cell_type": "code",
      "source": [
        "texto = \"Explorando a diversidade de liguagens de programação de Python.\"\n",
        "\n",
        "print(f\"Tamanho do texto = {len(texto)}\")\n",
        "print(f\"Python in texto = {'Python' in texto}\")\n",
        "print(f\"Quantidade de e no texto = ({texto.count('e')})\")\n",
        "print(f\"As primeiras 5 letras são: {texto[:5]}\")\n"
      ],
      "metadata": {
        "colab": {
          "base_uri": "https://localhost:8080/"
        },
        "id": "x1Ue6BlSK2PN",
        "outputId": "4725a4f1-c963-45b6-e277-2e828c6aa93b"
      },
      "execution_count": null,
      "outputs": [
        {
          "output_type": "stream",
          "name": "stdout",
          "text": [
            "Tamanho do texto = 63\n",
            "Python in texto = True\n",
            "Quantidade de e no texto = (6)\n",
            "As primeiras 5 letras são: Explo\n"
          ]
        }
      ]
    },
    {
      "cell_type": "code",
      "source": [
        "texto[13]"
      ],
      "metadata": {
        "colab": {
          "base_uri": "https://localhost:8080/",
          "height": 36
        },
        "id": "HUBTmZd_YYRo",
        "outputId": "26c359f1-3768-4e24-a163-4927cb605625"
      },
      "execution_count": null,
      "outputs": [
        {
          "output_type": "execute_result",
          "data": {
            "text/plain": [
              "'d'"
            ],
            "application/vnd.google.colaboratory.intrinsic+json": {
              "type": "string"
            }
          },
          "metadata": {},
          "execution_count": 3
        }
      ]
    },
    {
      "cell_type": "markdown",
      "source": [
        "#Listas = São uma forma fundamental de objetos do tipo sequencia, são mutáveis, o que significa que podemos adicionar, remover e alterar elementos."
      ],
      "metadata": {
        "id": "eZac_cFbYptv"
      }
    },
    {
      "cell_type": "markdown",
      "source": [
        "#Mutabilidade = As listas são estruturas de dados em Python conhecidas por sua mutabilidade, o que significa que voce pode adiconar ou remover os elementos conforme necessário."
      ],
      "metadata": {
        "id": "HO_qgdVgZRUx"
      }
    },
    {
      "cell_type": "code",
      "source": [
        "cores = ['Vermelho', 'azul', 'verde', 'amarelo', 'rosa']\n",
        "for cor in cores:\n",
        "  print(f'Posição = {cores.index(cor)}, cor = {cor}')"
      ],
      "metadata": {
        "colab": {
          "base_uri": "https://localhost:8080/"
        },
        "id": "b-LQv62lZFz2",
        "outputId": "de29aecd-2de4-41ca-f361-bb02d14469b0"
      },
      "execution_count": null,
      "outputs": [
        {
          "output_type": "stream",
          "name": "stdout",
          "text": [
            "Posição = 0, cor = Vermelho\n",
            "Posição = 1, cor = azul\n",
            "Posição = 2, cor = verde\n",
            "Posição = 3, cor = amarelo\n",
            "Posição = 4, cor = rosa\n"
          ]
        }
      ]
    },
    {
      "cell_type": "markdown",
      "source": [
        "#List comprehensions, Map e Filter = As list comprehensions, ou listcomps, são uma abordagem pythônica para criar listas com base em objetos iteráveis;\n",
        "#Especialmente útil quando voce deseja transformar ou filtrar as informações de uma sequencia existente para criar uma nova sequencia com as informações desejadas;"
      ],
      "metadata": {
        "id": "JCfogEorb8ye"
      }
    },
    {
      "cell_type": "code",
      "source": [
        "linguagens = [\"Python\", \"Java\", \"Javascript\", \"C\", \"C#\", \"C++\", \"Swift\", \"Go\", \"Kotlin\"]\n",
        "print(\"antes da listcomp = \",linguagens)\n",
        "linguagens = [item.lower() for item in linguagens]\n",
        "print(\"\\nDepois da listcomp = \", linguagens)\n",
        "\n",
        "\n"
      ],
      "metadata": {
        "colab": {
          "base_uri": "https://localhost:8080/"
        },
        "id": "BFeOH_8_dHyz",
        "outputId": "32019ea3-13af-4d89-aafa-6596e889ea5f"
      },
      "execution_count": null,
      "outputs": [
        {
          "output_type": "stream",
          "name": "stdout",
          "text": [
            "antes da listcomp =  ['Python', 'Java', 'Javascript', 'C', 'C#', 'C++', 'Swift', 'Go', 'Kotlin']\n",
            "\n",
            "Depois da listcomp =  ['python', 'java', 'javascript', 'c', 'c#', 'c++', 'swift', 'go', 'kotlin']\n"
          ]
        }
      ]
    },
    {
      "cell_type": "code",
      "source": [
        "#Função Map!\n",
        "#Aplica a uma função a toda sequencia\n",
        "#Map(funcao, sequencia)\n",
        "#Valor Internacional em dólares\n",
        "precos_em_dolares = [100, 75, 50, 120]\n",
        "taxa_de_cambio = 5.25\n",
        "precos_em_reais = list(map(lambda x: x * taxa_de_cambio, precos_em_dolares))\n",
        "print(precos_em_reais)"
      ],
      "metadata": {
        "colab": {
          "base_uri": "https://localhost:8080/"
        },
        "id": "alcfp0NxBsR9",
        "outputId": "b4cb19e7-d72a-4b26-d2cd-f39ba90cffcb"
      },
      "execution_count": null,
      "outputs": [
        {
          "output_type": "stream",
          "name": "stdout",
          "text": [
            "[525.0, 393.75, 262.5, 630.0]\n"
          ]
        }
      ]
    },
    {
      "cell_type": "code",
      "source": [
        "#Função Filter\n",
        "#Filtra os elementos de uma sequencia com base em uma função de teste(retorna true or false)\n",
        "#filter(funcao_teste, sequencia)\n",
        "numeros = [1, 2, 3, 4, 5, 6, 7, 8, 9, 10]\n",
        "numeros_pares = list(filter(lambda x: x % 2 == 0, numeros))\n",
        "print(numeros_pares)"
      ],
      "metadata": {
        "colab": {
          "base_uri": "https://localhost:8080/"
        },
        "id": "dSr3xyeqDK0h",
        "outputId": "99325e7f-54c5-4afb-a4fe-f8243bedb01c"
      },
      "execution_count": null,
      "outputs": [
        {
          "output_type": "stream",
          "name": "stdout",
          "text": [
            "[2, 4, 6, 8, 10]\n"
          ]
        }
      ]
    },
    {
      "cell_type": "markdown",
      "source": [
        "#Tuplas = São semelhantes à listas, mas com uma diferença fundamental: elas são imutáveis. Isso significa que, uma vez criadas, as tuplas não podem ser alteradas."
      ],
      "metadata": {
        "id": "F6jUY7niETWo"
      }
    },
    {
      "cell_type": "markdown",
      "source": [
        "#Imutável = A distição principal entre listas e tuplas é que as listas são mutáveis, permitindo a atribuição de valores a posições específicas, enquanto as tuplas são objetos imutáveis;\n",
        "\n",
        "# Tupla vazia: tupla1();\n",
        "# Usando um par de parenteses e elementos separados por vírgulas: tupla2=('a','b','c')."
      ],
      "metadata": {
        "id": "CjdtIKeiE7dN"
      }
    },
    {
      "cell_type": "code",
      "source": [
        "#A ordem importa!!!\n",
        "#Exemplos de mais tuplas e utilidades!\n",
        "vogais = ('a', 'e', 'i', 'o', 'u')\n",
        "print(f\"Tipo de objetos vogais = {type(vogais)}\")\n",
        "for p, x in enumerate(vogais):\n",
        "  print(f\"Posição = {p}, valor = {x}\")"
      ],
      "metadata": {
        "colab": {
          "base_uri": "https://localhost:8080/"
        },
        "id": "gGnx1PkEGAR1",
        "outputId": "357c3d2b-113d-434d-f5f6-2909d4ac6698"
      },
      "execution_count": null,
      "outputs": [
        {
          "output_type": "stream",
          "name": "stdout",
          "text": [
            "Tipo de objetos vogais = <class 'tuple'>\n",
            "Posição = 0, valor = a\n",
            "Posição = 1, valor = e\n",
            "Posição = 2, valor = i\n",
            "Posição = 3, valor = o\n",
            "Posição = 4, valor = u\n"
          ]
        }
      ]
    },
    {
      "cell_type": "markdown",
      "source": [
        "#Aplicando Aula = Você está gerenciando uma lista de convidados para uma festa e uma lista de pessoas que confirmaram sua presença. Você deseja identificar as pessoas que ainda não confirmaram e convidá-las novamente."
      ],
      "metadata": {
        "id": "gXJBEO8nHEt4"
      }
    },
    {
      "cell_type": "code",
      "source": [
        "#Tuplas de convidados!\n",
        "convidados = (\"Alice\", \"Bob\", \"Carol\", \"David\", \"Eve\")\n",
        "\n",
        "#Lista de confirmações\n",
        "confirmados = [\"Bob\", \"David\"]\n",
        "\n",
        "#identificar quem ainda não confirmou\n",
        "nao_confirmados = [convidado for convidado in convidados if convidado not in confirmados]\n",
        "\n",
        "#Exibir convidados que ainda não confirmaram\n",
        "print(\"Convidados que ainda não confirmaram:\")\n",
        "for pessoa in nao_confirmados:\n",
        "  print(pessoa)\n",
        "\n",
        "#Lembrar os lembretes aos que não confirmaram\n",
        "print(\"\\n Enviando lembretes para os convidados que ainda não confirmaram.\")"
      ],
      "metadata": {
        "colab": {
          "base_uri": "https://localhost:8080/"
        },
        "id": "xwMs8s_fEu4X",
        "outputId": "7e845e6d-69f6-4b59-c400-8aa4f0babd42"
      },
      "execution_count": null,
      "outputs": [
        {
          "output_type": "stream",
          "name": "stdout",
          "text": [
            "Convidados que ainda não confirmaram:\n",
            "Alice\n",
            "Carol\n",
            "Eve\n",
            "\n",
            " Enviando lembretes para os convidados que ainda não confirmaram.\n"
          ]
        }
      ]
    },
    {
      "cell_type": "markdown",
      "source": [
        "#UNIDADE 02 - AULA 02 - Estrutura de dados em Python parte 2"
      ],
      "metadata": {
        "id": "4-amUk5KJupG"
      }
    },
    {
      "cell_type": "markdown",
      "source": [
        "# Objetos do tipo set;\n",
        "# Objetos do tipo Mapping;\n",
        "# Objetos do tipo Array NumPy."
      ],
      "metadata": {
        "id": "1Zbcuf7wJ6iO"
      }
    },
    {
      "cell_type": "markdown",
      "source": [
        "# Objetos do tipo set = Um conjunto, ou set, é uma estrutura de dados que representa uma coleção de elementos únicos, sem repetição. Veremos como criar, modificar e realizar operações em conjunto."
      ],
      "metadata": {
        "id": "lh5lIcxzKr9u"
      }
    },
    {
      "cell_type": "markdown",
      "source": [
        "# Semelhança com conjuntos da matemática = Os objetos do tipo \"set\" habilitam em operações em conjunto, como união, interseção, diferença e muito mais.\n",
        "# Essa estrutura é especialmente útil para realizar testes de associação e  eliminar valores duplicados em uma sequencia;\n",
        "# Podemos adicionar um novo elemento a um conjunto usado add(valor) e remover elementos remove(valor).\n",
        "# Criar objeto do tipo set:\n",
        "\n",
        "1- Usando um par de chaves e elementos separados por vírgulas, por exemplo: set1={'a','b','c'}.\n",
        "2- Usando o construtor de tipo set(iterable) com um objeto iterável, como uma lista, uma tupla ou mesmo uma sequencia de caracteres (string)."
      ],
      "metadata": {
        "id": "akbfI5GbLZVh"
      }
    },
    {
      "cell_type": "markdown",
      "source": [
        "#Criar a partir do vazio!!!\n",
        "#Vamos criar nosso conjunto agora\n",
        "#Criar um conjunto vazio\n",
        "#Adicionar elementos\n",
        "#Verificar se existe um elemento dentro de um conjunto"
      ],
      "metadata": {
        "id": "udTmYjrFU1ze"
      }
    },
    {
      "cell_type": "code",
      "source": [
        "## add(), in a remove()\n",
        "\n",
        "#Criando um conjunto vazio\n",
        "meu_conjunto = set()"
      ],
      "metadata": {
        "id": "izqAV4PqSXsu"
      },
      "execution_count": null,
      "outputs": []
    },
    {
      "cell_type": "code",
      "source": [
        "meu_conjunto"
      ],
      "metadata": {
        "colab": {
          "base_uri": "https://localhost:8080/"
        },
        "id": "XYSb1Pm5VaOq",
        "outputId": "93f683ac-b3de-4226-cf6f-f158222d2913"
      },
      "execution_count": null,
      "outputs": [
        {
          "output_type": "execute_result",
          "data": {
            "text/plain": [
              "set()"
            ]
          },
          "metadata": {},
          "execution_count": 13
        }
      ]
    },
    {
      "cell_type": "code",
      "source": [
        "# Adicionando elementos ao conjunto\n",
        "meu_conjunto.add(10)\n",
        "meu_conjunto.add(20)\n",
        "meu_conjunto.add(30)\n",
        "#Imprimindo o conjunto\n",
        "print(\"Conjunto após adicionar elementos:\", meu_conjunto)\n"
      ],
      "metadata": {
        "colab": {
          "base_uri": "https://localhost:8080/"
        },
        "id": "MzHCnZ0cVfA4",
        "outputId": "ae7ff59d-92b9-4b69-ede6-c2fdbfd67975"
      },
      "execution_count": null,
      "outputs": [
        {
          "output_type": "stream",
          "name": "stdout",
          "text": [
            "Conjunto após adicionar elementos: {10, 20, 30}\n"
          ]
        }
      ]
    },
    {
      "cell_type": "code",
      "source": [
        "#Verificando se um elemento está em um conjunto\n",
        "elemento = 20\n",
        "if elemento in meu_conjunto:\n",
        "  print(f\"{elemento} está no conjunto.\")\n",
        "else:\n",
        "  print(f\"{elemento} não está no conjunto.\")\n",
        "#Removendo um elemento do conjunto\n",
        "meu_conjunto.remove(20)\n",
        "#Imprimindo o conjunto atualizado\n",
        "print(\"Conjunto após remover um elemento 20:\", meu_conjunto)"
      ],
      "metadata": {
        "colab": {
          "base_uri": "https://localhost:8080/"
        },
        "id": "iP7uQ3sIXWFO",
        "outputId": "ba16a5aa-3ecb-42c7-e3e3-69f6fc1a203f"
      },
      "execution_count": null,
      "outputs": [
        {
          "output_type": "stream",
          "name": "stdout",
          "text": [
            "20 está no conjunto.\n",
            "Conjunto após remover um elemento 20: {10, 30}\n"
          ]
        }
      ]
    },
    {
      "cell_type": "markdown",
      "source": [
        "# Objetos do tipo Mapping = Foco no dicionário (dict) em Python. Dicionários são estruturas que associam chaves a valores, permitindo o armazenamento e recuperação eficiente de informações. Veremos como criar dicionários, adicionar itens e realizar operações de busca."
      ],
      "metadata": {
        "id": "ns8uHb0PXlRq"
      }
    },
    {
      "cell_type": "markdown",
      "source": [
        "#Chaves e valores = Dados que estabelecem uma relação entre chaves e valores são conhecidas como objetos dp tipo mapping.\n",
        "# Em Python, o principal objeto que atende a essa propriedade é o dicionário, representado pelo tipo dict;\n",
        "# Dicionários são mutáveis, podemos modificar o valor associado a uma chaves existente ou criar uma nova chave;\n",
        "# Podemos criar dicionários em Python de várias maneiras:\n",
        "1- Usando um par de chaves para denotar um dicionário vazio: dicionário1= {}\n",
        "2- Usando pares de elementos na forma \"chave:valor\" separados por vírgulas: dicionário2 ={'um':1,'dois':2,'tres':3}\n",
        "3-Usando o construtor de tipo dict()."
      ],
      "metadata": {
        "id": "K5csf3cfYZhN"
      }
    },
    {
      "cell_type": "code",
      "source": [
        "#Exemplo 1: Criação de um dicionário vazio, seguido de atribuições de chaves e valores\n",
        "dici_1 = {}\n",
        "dici_1['nome'] = 'Maria'\n",
        "dici_1['idade'] = 25\n"
      ],
      "metadata": {
        "id": "DezS1WBbYMTf"
      },
      "execution_count": null,
      "outputs": []
    },
    {
      "cell_type": "code",
      "source": [
        "dici_1"
      ],
      "metadata": {
        "colab": {
          "base_uri": "https://localhost:8080/"
        },
        "id": "0jiFS5hedcYe",
        "outputId": "e9f80c78-8f30-4194-c155-fbf66395d4e4"
      },
      "execution_count": null,
      "outputs": [
        {
          "output_type": "execute_result",
          "data": {
            "text/plain": [
              "{'nome': 'Maria', 'idade': 25}"
            ]
          },
          "metadata": {},
          "execution_count": 17
        }
      ]
    },
    {
      "cell_type": "code",
      "source": [
        "# Exemplo 2: criação de um dicionário com pares chaves: valor\n",
        "dici_2 = {'nome': 'Maria', 'idade': 25}\n",
        "# Exemplo 3: Criação de um dicionário com uma lista de tuplas representando pares chaves: valor\n",
        "dici_3 = dict([('nome', 'Maria'), ('idade', 25)])\n",
        "# Exemplo 4: Criação de um dicionário usando a função built-in zip() e duas listas, uma para chaves e outra para os valores\n",
        "dici_4 = dict(zip(['nome', 'idade'], ['Maria', 25]))\n",
        "# Teste se todas as construções resultam em objetos iguais\n",
        "print(dici_1 == dici_2 == dici_3 == dici_4) # Deve imprimir true\n",
        "print(dici_1)"
      ],
      "metadata": {
        "colab": {
          "base_uri": "https://localhost:8080/"
        },
        "id": "VjdbsWK8dc22",
        "outputId": "df40e4ce-d925-43bd-a8bc-fce75853d480"
      },
      "execution_count": null,
      "outputs": [
        {
          "output_type": "stream",
          "name": "stdout",
          "text": [
            "True\n",
            "{'nome': 'Maria', 'idade': 25}\n"
          ]
        }
      ]
    },
    {
      "cell_type": "code",
      "source": [
        "#Mais rápido\n",
        "print(dici_2)"
      ],
      "metadata": {
        "colab": {
          "base_uri": "https://localhost:8080/"
        },
        "id": "gk64gx8aeRpF",
        "outputId": "8f9bd370-ab6f-4816-eb61-871a1db53219"
      },
      "execution_count": null,
      "outputs": [
        {
          "output_type": "stream",
          "name": "stdout",
          "text": [
            "{'nome': 'Maria', 'idade': 25}\n"
          ]
        }
      ]
    },
    {
      "cell_type": "markdown",
      "source": [
        "# Objetos do tipo array NumPy = O Numpy é uma biblioteca essencial para computação científica em Python, fornecendo recursos avançados para manipular arrays multidimensionais. Veremos como criar,realizar operações e acessar elementos em arrays NumPy.\n",
        "NumPy = utilizado em ciencias de dados"
      ],
      "metadata": {
        "id": "WMdRINaxefuL"
      }
    },
    {
      "cell_type": "markdown",
      "source": [
        "NumPY = Desenvolvida para suportar a computação científica em Python;\n",
        "Oferece uma ampla gama de funcionalidades, incluindo arrays multidimensionais e funções sofisticadas;\n",
        "\n",
        "Fornece ferramnetas para integração com código em C/C++ e Fortran, bem como recursos essenciais de álgebras linear, transformada em Fourier e geração de números aleatórios;\n",
        "\n",
        "A biblioteca NumPy é particularmente valiosa para cientista de dados e desenvolvedores de soluções de inteligência artificial, permitindo lidar eficientemente com matrizes de dados complexas e realizar operações avançadas.\n",
        "\n",
        " https://numpy.org/."
      ],
      "metadata": {
        "id": "jGdsYRiZfwn1"
      }
    },
    {
      "cell_type": "code",
      "source": [
        "# Importe a biblioteca NumPy\n",
        "import numpy as np\n",
        "# Crie um array Numpy de números inteiros\n",
        "my_array = np.array([1, 2, 3, 4, 5])\n",
        "# Imprima o array\n",
        "print(\"Array original\")\n",
        "print(my_array)\n",
        "\n"
      ],
      "metadata": {
        "colab": {
          "base_uri": "https://localhost:8080/"
        },
        "id": "WDy-4HqLfa2w",
        "outputId": "cb2fb83b-09da-421a-d099-2ae4399f7511"
      },
      "execution_count": null,
      "outputs": [
        {
          "output_type": "stream",
          "name": "stdout",
          "text": [
            "Array original\n",
            "[1 2 3 4 5]\n"
          ]
        }
      ]
    },
    {
      "cell_type": "code",
      "source": [
        "# Realize operações matemáticas array\n",
        "squared = my_array ** 2 #Eleva cada elemento ao quadrado\n",
        "sum_of_elements = np.sum(my_array) # Calcula a soma de todos os elementos\n",
        "# Imprima os resultados\n",
        "print(\"\\nArray ao quadrado:\")\n",
        "print(squared)\n",
        "print(\"\\nSoma dos elementos:\")\n",
        "print(sum_of_elements)\n",
        "# Acesse os elementos array\n",
        "element_at_index_2 = my_array[2] # Acessa o elemento no índice 2\n",
        "print(\"\\nElemento no índice 2:\", element_at_index_2)\n"
      ],
      "metadata": {
        "colab": {
          "base_uri": "https://localhost:8080/"
        },
        "id": "kBcA48mskwtB",
        "outputId": "86ce6c41-8ea5-4920-921f-4da34cf67207"
      },
      "execution_count": null,
      "outputs": [
        {
          "output_type": "stream",
          "name": "stdout",
          "text": [
            "\n",
            "Array ao quadrado:\n",
            "[ 1  4  9 16 25]\n",
            "\n",
            "Soma dos elementos:\n",
            "15\n",
            "\n",
            "Elemento no índice 2: 3\n"
          ]
        }
      ]
    },
    {
      "cell_type": "markdown",
      "source": [
        "#Aplicando a aula:\n",
        "Suponha que estamos gerenciando um evento científico em que participantes de diferentes regiões do mundo se inscreveram. Cada participante forneceu informações sobre sua localização, afiliação a intituições de pesquisa e áreas de interesse. O objetivo é realizar análises sobre a distribuição geográficas dos participantes, suas afiliações e as áreas deinteresses predominantes. Como podemos utilizar os conhecimentos dessa aula para resolver?"
      ],
      "metadata": {
        "id": "GWBvihRelie2"
      }
    },
    {
      "cell_type": "code",
      "source": [
        "# Importe as bibliotecas necessárias\n",
        "import numpy as np\n",
        "# Dados dos participantes\n",
        "participantes = [\n",
        "    {\n",
        "        \"nome\": \"Alice\",\n",
        "        \"localizacao\": \"EUA\",\n",
        "        \"afiliacao\": \"Universidade A\",\n",
        "        \"Interesses\": [\"Física\", \"astronomia\"]\n",
        "    },\n",
        "    {\n",
        "\n",
        "        \"nome\": \"Bob\",\n",
        "        \"localizacao\": \"Brasil\",\n",
        "        \"afiliacao\": \"Instituto B\",\n",
        "        \"Interesses\": [\"Biologia\", \"Astronomia\"]\n",
        "    },\n",
        "    {\n",
        "\n",
        "        \"nome\": \"Charlie\",\n",
        "        \"localizacao\": \"India\",\n",
        "        \"afiliacao\": \"Instituto C\",\n",
        "        \"Interesses\": [\"Química\", \"Engenharia\"]\n",
        "    }\n",
        "\n",
        "    # Adicione mais participantes conforme necessário\n",
        "]\n",
        "# Usando sets para identificar diferentes regiões dos participantes\n",
        "regioes = set(participante[\"localizacao\"] for participante in participantes)\n",
        "# Usando um dicionário para categorizar afiliações\n",
        "afiliacoes = {}\n",
        "for participante in participantes:\n",
        "  afiliacao = participante[\"afiliacao\"]\n",
        "  if afiliacao not in afiliacoes:\n",
        "    afiliacoes[afiliacao] = set()\n",
        "  afiliacoes[afiliacao].add(participante[\"nome\"])\n",
        "#Usando o NumPy para analisar as áreas de interesse\n",
        "areas_de_interesse = np.array([interesse for participante in participantes for interesse in participante[\"Interesses\"]])\n",
        "interesse_unico, contagem = np.unique(areas_de_interesse, return_counts=True)\n",
        "area_mais_popular = interesse_unico[np.argmax(contagem)]\n",
        "# Resultados\n",
        "print(\"Regiões dos participantes:\", regioes)\n",
        "print(\"Afiliações dos participantes:\")\n",
        "for afiliacao, nomes in afiliacoes.items():\n",
        "  print(f\"{afiliacao}: {', '.join(nomes)}\")\n",
        "print(\"Área de interesse mais popular:\", area_mais_popular)\n",
        "\n"
      ],
      "metadata": {
        "colab": {
          "base_uri": "https://localhost:8080/"
        },
        "id": "Jxfwkflumzd7",
        "outputId": "9cd2d1a5-d00b-44e1-a5f5-16bcfe00807c"
      },
      "execution_count": null,
      "outputs": [
        {
          "output_type": "stream",
          "name": "stdout",
          "text": [
            "Regiões dos participantes: {'EUA', 'Brasil', 'India'}\n",
            "Afiliações dos participantes:\n",
            "Universidade A: Alice\n",
            "Instituto B: Bob\n",
            "Instituto C: Charlie\n",
            "Área de interesse mais popular: Astronomia\n"
          ]
        }
      ]
    },
    {
      "cell_type": "markdown",
      "source": [
        "#UNIDADE 02 - AULA 03 - Classes e métodos em Python"
      ],
      "metadata": {
        "id": "yMPvElFz_LL6"
      }
    },
    {
      "cell_type": "markdown",
      "source": [
        "# Introdução a orientação de objetos,\n",
        "# Classes em Python;\n",
        "# Herança em Python"
      ],
      "metadata": {
        "id": "FbbQuK9w_fA2"
      }
    },
    {
      "cell_type": "markdown",
      "source": [
        "Introdução a orientação de objetos = Um paradigma essencial na programação, que organiza o código em torno de objetos, cada um representando entidades do mundo real."
      ],
      "metadata": {
        "id": "UrR85ANJ_zB5"
      }
    },
    {
      "cell_type": "markdown",
      "source": [
        "A evolução constante = Paradigma de programação permanecem sólidos e cruciais.\n",
        "Importante pois permite que implemente em qualquer tecnologia adotada na sua empresa, independentemente das mudanças frequentes.\n",
        "Uma linguagem de programação é considerada e orientada a objetos quando incorpora os princípios de abstração e suporta o uso de encapsulamento, herança e polimorfismo."
      ],
      "metadata": {
        "id": "5dYIshVuApZG"
      }
    },
    {
      "cell_type": "markdown",
      "source": [
        "# Classe vs Objeto:\n",
        "#CLASSE                                                    \n",
        "Classe: Pessoa                            \n",
        "Atributos: dados\n",
        "nome:\n",
        "idade:\n",
        "gênero:\n",
        "métodos: (comportamentos)\n",
        "cumprimentar: Saúda como \"Olá, meu nome é\"\n",
        "aniversário: aumenta a idade em 1\n",
        "\n",
        "# Objetos\n",
        "objeto1: pessoa 1\n",
        "atributos:(dados):\n",
        "nome:joão\n",
        "idade:\n",
        "gênero: masculino\n",
        "métodos: (comportamentos)\n",
        "cumprimentar: Saúda como \"Olá meu nome é João\"\n",
        "aniversário: aumenta a idade em 1"
      ],
      "metadata": {
        "id": "RTgLge2-CWd7"
      }
    },
    {
      "cell_type": "markdown",
      "source": [
        "Classes em Python = São os modelos para criação de objetos, e como definir atributos e métodos dentro delas."
      ],
      "metadata": {
        "id": "G-8HorHbEozJ"
      }
    },
    {
      "cell_type": "markdown",
      "source": [
        "# Componentes principais de uma classe:\n",
        "ATRIBUTOS: São os dados que representam o estado do objeto, como nome e idade\n",
        "\n",
        "MÉTODOS: Definem o comportamento do objeto, sendo as ações que ele pode executar, como cumprimentar e fazer login.\n",
        "\n",
        "ENCAPSULAMENTO: Combina atributos e métodos em uma entidade, permitindo controlar o acesso a atributos por meio de métodos.\n",
        "\n",
        "HERANÇA: Permite que uma classe herde atributos e métodos de outra, promovendo o reuso de código e a organização hierárquica, como na relação entre as classes pessoa, funcionário e cliente.\n",
        "\n",
        "POLIMORFISMO: Refere-se à capacidade de várias classes responderem de forma diferente à mesma mensagem, graças à herança e às respostas específicas de cada classe às mensagens."
      ],
      "metadata": {
        "id": "ewiZ1PT_FH1k"
      }
    },
    {
      "cell_type": "code",
      "source": [
        "# Defina uma classe chamada pessoa\n",
        "class Pessoa:\n",
        "\n",
        "# O método__init__é um construtor, chamado quando um objeto da classe é criado.\n",
        "# Ele inicializa os atributos da classe\n",
        "  def __init__(self, nome, idade, genero):\n",
        "# Self é uma convenção em Python que se refere à própria instância da classe.\n",
        "# Os parâmetros nome, idade e genero são passados durante a criação do objeto.\n",
        "# Eles são usados para inicializar os atributos da instância.\n",
        "   self.nome = nome # Atribui o valor de nome ao atributo nome a instancia\n",
        "   self.idade = idade # Atribui o valor de idade ao atributo idade a instancia\n",
        "   self.genero = genero # Atribui o valor de genero ao atributo genero a instancia.\n",
        "#O método cumprimentar retorna uma saudação com o nome da pessoa.\n",
        "   def cumprimentar(self):\n",
        "    return f\"Olá, meu nome é {self.nome}.\"\n",
        "# O método aniversário aumenta a idade da pessoa em 1.\n",
        "   def aniversario(self):\n",
        "    self.idade += 1\n",
        "# Cria uma instancia da classe uma \"Pessoa\" com os valores \"João\", 30 e \"Masculino\" para nome, idade e genero, respectivamente.\n",
        "pessoa1 = Pessoa(\"João\", 30, \"Masculino\")\n",
        "\n",
        "#Chama o método \"cumprimentar\" na instancia pessoa1 e imprime a saudação.\n",
        "print(pessoa1.cumprimentar()) # Saída: \"Olá, meu nome é João\"\n",
        "\n",
        "#Acessa o atributo idade da instancia pessoa1 e imprime a sua idade\n",
        "print(f\"idade:{pessoa1.idade}\") # Saída: \"Idade: 30\"\n",
        "\n",
        "# Chama o método \"aniversário\" na instancia pessoa1 para aumentar sua idade 1\n",
        "pessoa1.aniversario()"
      ],
      "metadata": {
        "id": "XIHeBrFMfIvU"
      },
      "execution_count": null,
      "outputs": []
    },
    {
      "cell_type": "code",
      "source": [
        "class Pessoa:\n",
        "  def __init__(self, nome, idade, genero):\n",
        "    self.nome = nome\n",
        "    self.idade = idade\n",
        "    self.genero = genero\n",
        "  def cumprimentar(self):\n",
        "       return f\"Olá, meu nome é {self.nome}.\"\n",
        "  def aniversario(self):\n",
        "          self.idade += 1\n",
        "pessoa1 = Pessoa(\"João\", 30, \"Masculino\")\n",
        "print(pessoa1.cumprimentar())\n",
        "print(f\"idade:{pessoa1.idade}\")\n",
        "pessoa1.aniversario()\n",
        "print(f\"nova idade: {pessoa1.idade}\")"
      ],
      "metadata": {
        "colab": {
          "base_uri": "https://localhost:8080/"
        },
        "id": "V_hsRSG9cZzR",
        "outputId": "d1da35cf-e1ae-4c3c-dadd-0ccf0ed90369"
      },
      "execution_count": null,
      "outputs": [
        {
          "output_type": "stream",
          "name": "stdout",
          "text": [
            "Olá, meu nome é João.\n",
            "idade:30\n",
            "nova idade: 31\n"
          ]
        }
      ]
    },
    {
      "cell_type": "markdown",
      "source": [
        "#Até onde vamos? =\n",
        "A herança é um dos pilares fundamentais da programação orientada a objetos.\n",
        "Ela permite que uma classe ( a classe-filha) herde características e comportamentos de outra classe (a classe-pai).\n",
        "Em Python, essa técnica é amplamente suportada e flexível, permitindo que uma classe-filha herde de múltiplas da classes-pai, um conceito conhecido como herança múltipla."
      ],
      "metadata": {
        "id": "6LZFyFEV5U1f"
      }
    },
    {
      "cell_type": "code",
      "source": [
        "class ClasseFilha(ClassePai):\n",
        "# Definição da classe-filha\n",
        " class ClassFilha(ClassePai1, ClassePai2, ClassePai3):\n",
        "  # Definição da classe-filha"
      ],
      "metadata": {
        "id": "jD7HmBag6gOz"
      },
      "execution_count": null,
      "outputs": []
    },
    {
      "cell_type": "markdown",
      "source": [
        "#Criando nossa Classe Pessoa:\n",
        "\n",
        "* Reutilização de código = A herança permite que voce reutlilize o código existente, aproveitando a estrutura e funciuonalidade de classes-pai em suas subclasses.\n",
        "* Extensibilidade = Voce pode extender ou adicionar comportamentos específicos às classes filhas sem modificar as classe-pai, mantendo a coesão e a organização do código.\n",
        "\n",
        "* Hierarquia de Classes = A herança permite criar hierárquia de classes, na qual classes filhas podem herdar características comuns de classes-pai e, por sua vez, serem herdadas por outras classes.\n",
        "\n",
        "                                             Bora pro código!\n",
        "\n",
        "\n",
        "\n",
        "\n",
        "\n"
      ],
      "metadata": {
        "id": "KSlQXz5L7L3b"
      }
    },
    {
      "cell_type": "code",
      "source": [
        "class Animal:\n",
        "    def __init__(self, nome):\n",
        "      self.nome = nome\n",
        "    def fazer_barulho(self):\n",
        "        pass\n",
        "class Cachorro(Animal):\n",
        "    def fazer_barulho(self):\n",
        "        return \"Latir\"\n",
        "class Gato(Animal):\n",
        "    def fazer_barulho(self):\n",
        "        return \"Miar!\""
      ],
      "metadata": {
        "id": "zfRCU8Mm89hM"
      },
      "execution_count": 2,
      "outputs": []
    },
    {
      "cell_type": "code",
      "source": [
        "rex = Cachorro(\"Rex\")\n",
        "whiskers = Gato(\"Whiskers\")"
      ],
      "metadata": {
        "id": "x3zWBaTb-R2e"
      },
      "execution_count": 8,
      "outputs": []
    },
    {
      "cell_type": "code",
      "source": [
        "print(f\"{rex.nome} faz : {rex.fazer_barulho()}\")"
      ],
      "metadata": {
        "colab": {
          "base_uri": "https://localhost:8080/"
        },
        "id": "9eL8sLlu-hEc",
        "outputId": "ff430662-f44c-4a80-a8f7-d7cb67ade3e0"
      },
      "execution_count": 6,
      "outputs": [
        {
          "output_type": "stream",
          "name": "stdout",
          "text": [
            "Rex faz : Latir\n"
          ]
        }
      ]
    },
    {
      "cell_type": "code",
      "source": [
        "print(f\"{whiskers.nome} faz: {whiskers.fazer_barulho()} \")"
      ],
      "metadata": {
        "colab": {
          "base_uri": "https://localhost:8080/"
        },
        "id": "8kxglUqe-5Ts",
        "outputId": "7ed664be-d1f3-47dd-e47c-26c4860195ac"
      },
      "execution_count": 9,
      "outputs": [
        {
          "output_type": "stream",
          "name": "stdout",
          "text": [
            "Whiskers faz: Miar! \n"
          ]
        }
      ]
    },
    {
      "cell_type": "markdown",
      "source": [
        "# Aplicando a aula =\n",
        "Suponha agora, que voce, precisa criar um algorítmo que apartir de características imputadas, mostre um resumo e status de um veículo. E ainda, voce deve fazer algo semelhante para uma subdivisão dessa classe veículos.\n",
        "Vamos juntos para resolver isso?"
      ],
      "metadata": {
        "id": "TputuS7xAK87"
      }
    },
    {
      "cell_type": "code",
      "source": [
        "class Veiculo:\n",
        "  def __init__(self, marca, modelo, ano):\n",
        "    self.marca = marca\n",
        "    self.modelo = modelo\n",
        "    self.ano = ano\n",
        "    self.velocidade = 0\n",
        "  def acelerar(self, incremento):\n",
        "      self.velocidade += incremento\n",
        "\n",
        "  def frear(self, decremento):\n",
        "      self.velocidade -= decremento\n",
        "\n",
        "  def status(self):\n",
        "      return f\"Marca {self.marca}, Modelo {self.modelo}, Ano ({self.ano}) - Velocidade: {self.velocidade} km/h\"\n",
        "\n",
        "class Carro(Veiculo):\n",
        "  def __init__(self, marca, modelo, ano, potencia):\n",
        "    super().__init__(marca, modelo, ano)\n",
        "    self.potencia = potencia\n",
        "\n",
        "  def acelerar(self, incremento):\n",
        "# Carros podem acelerar mais rápido.\n",
        "     self.velocidade += incremento + self.potencia\n",
        "\n",
        "class Bicicleta(Veiculo):\n",
        "  def __init__(self, marca, modelo, ano, tipo):\n",
        "    super().__init__(marca, modelo, ano)\n",
        "    self.tipo = tipo\n",
        "\n",
        "  def status(self):\n",
        "    return f\"Marca {self.marca}, Modelo {self.modelo}, Ano ({self.ano}), - Tipo: {self.tipo}, Velocidade: {self.velocidade} km/h\"\n",
        "\n",
        "# Criando objetos\n",
        "carro1 = Carro(\"Toyota\", \"Corolla\", 2022, 150)\n",
        "bicicleta1 = Bicicleta(\"Trek\", \"Mountain Bike\", 2021, \"MTB\")\n",
        "\n",
        "# Acelerando e verificando os status\n",
        "carro1.acelerar(50)\n",
        "bicicleta1.acelerar(20)\n",
        "\n",
        "# Exibindo os status dos veículos\n",
        "print(\"Status do Carro:\")\n",
        "print(carro1.status())\n",
        "\n",
        "print(\"\\nStatus da Bicicleta:\")\n",
        "print(bicicleta1.status())"
      ],
      "metadata": {
        "colab": {
          "base_uri": "https://localhost:8080/"
        },
        "id": "HGi_LOZPAz0H",
        "outputId": "2325aac1-f811-495c-9f6c-e606bb1ede7b"
      },
      "execution_count": 18,
      "outputs": [
        {
          "output_type": "stream",
          "name": "stdout",
          "text": [
            "Status do Carro:\n",
            "Marca Toyota, Modelo Corolla, Ano (2022) - Velocidade: 200 km/h\n",
            "\n",
            "Status da Bicicleta:\n",
            "Marca Trek, Modelo Mountain Bike, Ano (2021), - Tipo: MTB, Velocidade: 20 km/h\n"
          ]
        }
      ]
    },
    {
      "cell_type": "markdown",
      "source": [
        "# UNIDADE 02 - AULA 04"
      ],
      "metadata": {
        "id": "avdJcYcwHwZE"
      }
    },
    {
      "cell_type": "markdown",
      "source": [
        "# BIBLIOTECAS E MÓDULOS EM PYTHON:\n",
        "\n",
        "* Módulos e bibliotecas em Python;\n",
        "* Classificação dos módulos (built-in, de terceiros e própios);\n",
        "* Matploblit\n",
        "\n",
        "\n",
        "\n"
      ],
      "metadata": {
        "id": "Mu3AudfKH2Zb"
      }
    },
    {
      "cell_type": "markdown",
      "source": [
        "Módulos e bibliotecas em Python = São componentes de código que servem como conjuntos de funções em Python que facilitam a organização de código e a reutilização de funções em várias aplicações."
      ],
      "metadata": {
        "id": "NCHmNHv6IiJH"
      }
    },
    {
      "cell_type": "markdown",
      "source": [
        "Organização é tudo = Existem duas abordagens principais para organizar o código em Python: Usando funções ou classes para encapsular funcionalidades e dividindo o código em vários arquivos .py para modularizar a função.\n",
        "\n",
        "O ideal é combinar essas técnicas, criando módulos separados em arquivos independentes;\n",
        "\n",
        "Mas afinal, o que são módulos? São componentes de código que servem como bibliotecas ou conjuntos em funções em Python;\n",
        "\n",
        "Em Python, frequentemente ouvimos falar tanto de módulos quanto de bibliotecas;\n",
        "\n",
        "A relação entre ele é que, na prática, um módulo pode ser considerado uma bibliotecas de códigos."
      ],
      "metadata": {
        "id": "2NI1N4VoJLXC"
      }
    },
    {
      "cell_type": "code",
      "source": [
        "# Primeira modo\n",
        "import math\n",
        "\n",
        "math.sqrt(25)\n",
        "math.log2(1024)\n",
        "math.cos(45)"
      ],
      "metadata": {
        "colab": {
          "base_uri": "https://localhost:8080/"
        },
        "id": "jgYWXUAQJAqf",
        "outputId": "52c49dd9-05f1-4298-ace9-dfac611af80a"
      },
      "execution_count": 23,
      "outputs": [
        {
          "output_type": "execute_result",
          "data": {
            "text/plain": [
              "0.5253219888177297"
            ]
          },
          "metadata": {},
          "execution_count": 23
        }
      ]
    },
    {
      "cell_type": "code",
      "source": [
        "# Segundo modo\n",
        "import math as m\n",
        "\n",
        "m.sqrt(25)\n",
        "#m.log2(1024)\n",
        "#m.cos(45)"
      ],
      "metadata": {
        "colab": {
          "base_uri": "https://localhost:8080/"
        },
        "id": "NkPpfubOLOjW",
        "outputId": "13a17d3e-b696-4026-fd98-4d5642fc1a19"
      },
      "execution_count": 20,
      "outputs": [
        {
          "output_type": "execute_result",
          "data": {
            "text/plain": [
              "5.0"
            ]
          },
          "metadata": {},
          "execution_count": 20
        }
      ]
    },
    {
      "cell_type": "code",
      "source": [
        "# Terceiro modo\n",
        "from math import sqrt, log2, cos\n",
        "\n",
        "sqrt(25)\n",
        "#log2(1024)\n",
        "#cos(45)"
      ],
      "metadata": {
        "colab": {
          "base_uri": "https://localhost:8080/"
        },
        "id": "1mxdjSF_LhiR",
        "outputId": "48901f8c-1b93-4443-dfba-40eee6c42867"
      },
      "execution_count": 22,
      "outputs": [
        {
          "output_type": "execute_result",
          "data": {
            "text/plain": [
              "5.0"
            ]
          },
          "metadata": {},
          "execution_count": 22
        }
      ]
    },
    {
      "cell_type": "markdown",
      "source": [
        "utilizando o sinal # em math, m.log2, log2 e cos dá númeiro inteiro raiz quadrada(25) = 5 e se tirar fica como decimal 0,5253219888177297"
      ],
      "metadata": {
        "id": "obPqx668McR4"
      }
    },
    {
      "cell_type": "markdown",
      "source": [
        "# Classificação dos Módulos =\n",
        "\n",
        "Tres tipos, de built-in, de terceiros e os próprios. O primeiro é \"pronto\" e já vem na instalação do Python, os de terceiros são produzidos por desenvolvedores e são disponibilizados via PypI, por fim, os próprios são construção de nós para resolver determinado problema e que podem ser reutilizados."
      ],
      "metadata": {
        "id": "xryLSbn2NIGQ"
      }
    },
    {
      "cell_type": "markdown",
      "source": [
        "# Tipos de módulos =\n",
        "\n",
        "-------math;os;svs;Random;datetime;re;collection------\n",
        "\n",
        "Módulos de terceiros = Criados por terceiros e disponibilizados via PyPI\n",
        "\n",
        "Módulos Próprios = Criados pelo desenvolvedor"
      ],
      "metadata": {
        "id": "zXfy5DVh6rKr"
      }
    },
    {
      "cell_type": "markdown",
      "source": [
        "# Módulos de terceiros =\n",
        "\n",
        "São criados e mantidos por desenvolvedores externos à comunidade oficial do Python;\n",
        "Ampliam a funcionalidade do Python em diversas áreas;\n",
        "Instalação é feita usando o gerenciador de pacotes padrão, pip. Exemplo: Pip install requests;\n",
        "Gerenciar dependencias é essencial a medida que projetos crescem, o uso de um arquivo requirements.txt facilita a instalação de todas as dependencias em um unico comando pip;\n",
        "Conhecer as licenças dos módulos de terceiros é importante, pois eles podem variar de código aberto à proprietário, e a qualidade da manutenção podem variar;\n",
        "Frequentemente possuem comunidades ativas de desenvolvedores e documentação rica."
      ],
      "metadata": {
        "id": "PC9hWNWW7Xgy"
      }
    },
    {
      "cell_type": "markdown",
      "source": [
        "# MATPLOTLIB =\n",
        "\n",
        "É uma biblioteca de visualização, que está entre as mais populares em Python."
      ],
      "metadata": {
        "id": "PNbvemRy-Ge_"
      }
    },
    {
      "cell_type": "markdown",
      "source": [
        "# VISUALIZAR É TUDO:\n",
        "\n",
        "O MATPLOTLIB é umas das bibliotecas de visualização mais populares em Python.\n",
        "Oferece uma ampla gama de recursos para criar gráficos e visualizações de dados de maneira flexível e personalizavel;\n",
        "Frequentemente usado para criar gráficos estatisticos, gráficos interativos e até mesmo animações."
      ],
      "metadata": {
        "id": "_6cPG7gn-mlE"
      }
    },
    {
      "cell_type": "code",
      "source": [
        "import matplotlib.pyplot as plt\n",
        "\n",
        "# Dados\n",
        "x = [1, 2, 3, 4, 5]\n",
        "y = [2, 4, 1, 3, 5]\n",
        "\n",
        "# Criar um gráfico de linhas\n",
        "plt.plot(x, y)\n",
        "\n",
        "# Adicionar aos rótulos de eixos\n",
        "plt.xlabel('Eixo x')\n",
        "plt.ylabel('Eixo y')\n",
        "\n",
        "# Adicionar um título para o gráfico\n",
        "plt.title('Exemplo de gráfico de linha')\n",
        "\n",
        "# Mostrar o gráfico\n",
        "plt.show()"
      ],
      "metadata": {
        "colab": {
          "base_uri": "https://localhost:8080/",
          "height": 472
        },
        "id": "RgU6hnBC-XpL",
        "outputId": "20305379-5cf6-488a-d841-b66960822106"
      },
      "execution_count": 5,
      "outputs": [
        {
          "output_type": "display_data",
          "data": {
            "text/plain": [
              "<Figure size 640x480 with 1 Axes>"
            ],
            "image/png": "[encoded data removed]"
          },
          "metadata": {}
        }
      ]
    },
    {
      "cell_type": "code",
      "source": [
        "import matplotlib.pyplot as plt\n",
        "\n",
        "# Dados\n",
        "x = [1, 2, 3, 4, 5]\n",
        "y = [2, 4, 1, 3, 5]\n",
        "\n",
        "# Criar um gráfico de barras\n",
        "plt.bar(x, y)\n",
        "\n",
        "# Adicionar aos rótulos de eixos\n",
        "plt.xlabel('Eixo x')\n",
        "plt.ylabel('Eixo y')\n",
        "\n",
        "# Adicionar um título para o gráfico\n",
        "plt.title('Exemplo de gráfico de linha')\n",
        "\n",
        "# Mostrar o gráfico\n",
        "plt.show()"
      ],
      "metadata": {
        "colab": {
          "base_uri": "https://localhost:8080/",
          "height": 472
        },
        "id": "95gKbGNIBh62",
        "outputId": "74670a61-fb29-47dd-c048-cfacac7c97f2"
      },
      "execution_count": 6,
      "outputs": [
        {
          "output_type": "display_data",
          "data": {
            "text/plain": [
              "<Figure size 640x480 with 1 Axes>"
            ],
            "image/png": "[encoded data removed]"
          },
          "metadata": {}
        }
      ]
    },
    {
      "cell_type": "markdown",
      "source": [
        "# Aplicando a aula =\n",
        "\n",
        "Suponhamos que voce precisa fazer uma visualização da contagem de venda de um produto hipotético, vamos usar essa aula para construir essa visualização?"
      ],
      "metadata": {
        "id": "fEoLyvgbBX-A"
      }
    },
    {
      "cell_type": "code",
      "source": [
        "import matplotlib.pyplot as plt\n",
        "\n",
        "# Dados de exemplo\n",
        "meses = ['Janeiro', 'Fevereiro', 'Março', 'Abril', 'Maio']\n",
        "vendas = [120, 90, 150, 80, 200]\n",
        "\n",
        "# Criar um gráfico de barras\n",
        "plt.bar(meses, vendas, color= 'royalblue')\n",
        "\n",
        "# Adicionar aos rótulos de eixos\n",
        "plt.xlabel('Mês')\n",
        "plt.ylabel('Vendas(em unidades)')\n",
        "\n",
        "# Adicionar um título para o gráfico\n",
        "plt.title('Vendas Mensais')\n",
        "\n",
        "# Mostrar o gráfico\n",
        "plt.show()"
      ],
      "metadata": {
        "colab": {
          "base_uri": "https://localhost:8080/",
          "height": 472
        },
        "id": "Eln-OGxICZxt",
        "outputId": "4734faf2-d9e0-4077-f55a-fbf6cb2b894f"
      },
      "execution_count": 8,
      "outputs": [
        {
          "output_type": "display_data",
          "data": {
            "text/plain": [
              "<Figure size 640x480 with 1 Axes>"
            ],
            "image/png": "[encoded data removed]"
          },
          "metadata": {}
        }
      ]
    },
    {
      "cell_type": "markdown",
      "source": [
        "# UNIDADE 03 - AULA 01 = Aplicação de Bancos de dados em Python\n"
      ],
      "metadata": {
        "id": "-WWKDSptF3Ky"
      }
    },
    {
      "cell_type": "markdown",
      "source": [
        "Tópicos nessa aula:\n",
        "\n",
        "* Linguagem de consulta estruturada - SQL;\n",
        "* Conexão com banco de dados;\n",
        "* CRUD\n",
        "\n",
        "\n",
        "\n"
      ],
      "metadata": {
        "id": "jqtIn1iaGEFD"
      }
    },
    {
      "cell_type": "markdown",
      "source": [
        "# Linguagem de consulta estruturada - SQL =\n",
        "\n",
        "A linguagem SQL(structured Query Language), desempenha um papel fundamental na comunicação com bancos de dados relacionais."
      ],
      "metadata": {
        "id": "mhnMh_B3GaRv"
      }
    },
    {
      "cell_type": "markdown",
      "source": [
        "# Linguagem estruturada =\n",
        "Diferentes de fornecedores de software de banco de dados, como Oracle e microsoft, adaptaram o SQL com suas extensões e modificações exclusivas.\n",
        "\n",
        "Existe um núcleo comum de comandos SQL que é padrão em todos os sistemas.\n",
        "\n",
        "O SQL oferece funcionalidades avançadas, como agregações, junções subconsultas e transações, que permitem consultas complexas e a manipulação eficaz de dados."
      ],
      "metadata": {
        "id": "ArojjShvG4ZX"
      }
    },
    {
      "cell_type": "markdown",
      "source": [],
      "metadata": {
        "id": "DC4XTrv4HxjG"
      }
    },
    {
      "cell_type": "code",
      "source": [],
      "metadata": {
        "id": "F4luX51gEGz2"
      },
      "execution_count": null,
      "outputs": []
    }
  ]
}